{
 "cells": [
  {
   "cell_type": "code",
   "execution_count": null,
   "id": "3d6538e5",
   "metadata": {},
   "outputs": [],
   "source": [
    "import pandas as pd\n",
    "raw_data = pd.read_pickle('20210901_all.pkl')"
   ]
  },
  {
   "cell_type": "code",
   "execution_count": 1,
   "id": "fca9f147",
   "metadata": {},
   "outputs": [
    {
     "name": "stderr",
     "output_type": "stream",
     "text": [
      "DEBUG:root:test\n"
     ]
    },
    {
     "name": "stdout",
     "output_type": "stream",
     "text": [
      "/Users/fred/work/cfglocal/built/base.py\n"
     ]
    }
   ],
   "source": [
    "import os\n",
    "os.environ['DEBUG'] = 'True'\n",
    "os.environ[\"RMBASE_FILE_PYTHON\"] = \"/Users/fred/work/cfglocal/built/base.py\"\n",
    "print(os.environ['RMBASE_FILE_PYTHON'])\n",
    "import logging\n",
    "logger = logging.getLogger()\n",
    "logger.setLevel(logging.DEBUG)\n",
    "logging.debug(\"test\")"
   ]
  },
  {
   "cell_type": "code",
   "execution_count": 67,
   "id": "0fb4c05b",
   "metadata": {},
   "outputs": [
    {
     "name": "stderr",
     "output_type": "stream",
     "text": [
      "DEBUG:mongo.py:connect to DB\n",
      "INFO:organizer:Organizer status: init\n",
      "DEBUG:mongo.py:{'$set': {'hostName': 'FM.local', 'pid': 95233, 'batchNm': '/opt/anaconda3/lib/python3.9/site-packages/ipykernel_launcher.py', 'status': 'init', '_mt': datetime.datetime(2022, 6, 8, 19, 55, 12, 886915)}}\n",
      "INFO:organizer:Organizer status: read data\n",
      "DEBUG:mongo.py:{'$set': {'hostName': 'FM.local', 'pid': 95233, 'batchNm': '/opt/anaconda3/lib/python3.9/site-packages/ipykernel_launcher.py', 'status': 'read data', '_mt': datetime.datetime(2022, 6, 8, 19, 55, 12, 924259)}}\n"
     ]
    },
    {
     "name": "stdout",
     "output_type": "stream",
     "text": [
      "Query: {'onD': {'$gt': 20210901}, 'ptype': 'r', 'prov': 'ON', 'area': {'$in': ['Toronto', 'York', 'Halton', 'Durham', 'Peel', 'Hamilton', 'Simcoe']}}\n"
     ]
    },
    {
     "name": "stderr",
     "output_type": "stream",
     "text": [
      "INFO:organizer:Organizer status: preprocess data\n",
      "DEBUG:mongo.py:{'$set': {'hostName': 'FM.local', 'pid': 95233, 'batchNm': '/opt/anaconda3/lib/python3.9/site-packages/ipykernel_launcher.py', 'status': 'preprocess data', '_mt': datetime.datetime(2022, 6, 8, 19, 55, 24, 790844)}}\n",
      "INFO:organizer:Organizer status: train\n",
      "DEBUG:mongo.py:{'$set': {'hostName': 'FM.local', 'pid': 95233, 'batchNm': '/opt/anaconda3/lib/python3.9/site-packages/ipykernel_launcher.py', 'status': 'train', '_mt': datetime.datetime(2022, 6, 8, 19, 55, 24, 796165)}}\n",
      "INFO:organizer:Organizer status: predict init\n",
      "DEBUG:mongo.py:{'$set': {'hostName': 'FM.local', 'pid': 95233, 'batchNm': '/opt/anaconda3/lib/python3.9/site-packages/ipykernel_launcher.py', 'status': 'predict init', '_mt': datetime.datetime(2022, 6, 8, 19, 55, 24, 797876)}}\n",
      "INFO:organizer:Organizer status: predict\n",
      "DEBUG:mongo.py:{'$set': {'hostName': 'FM.local', 'pid': 95233, 'batchNm': '/opt/anaconda3/lib/python3.9/site-packages/ipykernel_launcher.py', 'status': 'predict', '_mt': datetime.datetime(2022, 6, 8, 19, 55, 24, 799522)}}\n",
      "INFO:organizer:Organizer status: done\n",
      "DEBUG:mongo.py:{'$set': {'hostName': 'FM.local', 'pid': 95233, 'batchNm': '/opt/anaconda3/lib/python3.9/site-packages/ipykernel_launcher.py', 'status': 'done', '_mt': datetime.datetime(2022, 6, 8, 19, 55, 24, 800831)}}\n",
      "DEBUG:mongo.py:close db\n",
      "INFO:organizer:Organizer done\n"
     ]
    },
    {
     "name": "stdout",
     "output_type": "stream",
     "text": [
      "columns: Index(['ac', 'addr', 'area', 'bdrms', 'bsmt', 'bthrms', 'bths', 'cac_inc', 'city', 'cmty', 'comel_inc', 'commuId', 'constr', 'daddr', 'den_fr', 'ens_lndry', 'fce', 'feat', 'gatp', 'gr', 'heat', 'heat_inc', 'hydro_inc', 'insur_bldg', 'kch', 'lat', 'lkr', 'lng', 'lp', 'mfee', 'onD', 'park_fac', 'pets', 'prkg_inc', 'prov', 'pstyl', 'ptp', 'ptype', 'ptype2', 'rltr', 'rms', 'saletp', 'schools', 'sqft', 'st', 'st_num', 'status', 'tax', 'taxyr', 'tbdrms', 'tgr', 'tv', 'uaddr', 'water_inc', 'zip', 'comm', 'depth', 'flt', 'la', 'laundry_lev', 'lst', 'offD', 'br_plus', 'la2', 'sp', 'unt', 'rmBltYr', 'rmSqft', 'all_inc', 'laundry', 'lpr', 'pvt_ent', 'bltYr'], dtype='object') shape: (102913, 73)\n",
      "                 ac                    addr    area  bdrms             bsmt  bthrms                                               bths cac_inc        city                         cmty  ...                                                la2        sp    unt rmBltYr  rmSqft all_inc  laundry     lpr pvt_ent  bltYr\n",
      "0       Central Air        25 Point Hope Pl  Durham    3.0    [Full, unFin]     3.0  [{'t': 1, 'l': 'Main', 'p': 2}, {'t': 1, 'l': ...       N      Whitby                  Port Whitby  ...                                                NaN       NaN    NaN     NaN     NaN     NaN      NaN     NaN     NaN    NaN\n",
      "1       Central Air        51 Kilgannon Ave  Durham    3.0            [Fin]     2.0  [{'t': 1, 'l': 'Upper', 'p': 3}, {'t': 1, 'l':...     NaN  Clarington                     Courtice  ...                                                NaN       NaN    NaN     NaN     NaN     NaN      NaN     NaN     NaN    NaN\n",
      "2       Central Air           815 Ormond Dr  Durham    4.0          [unFin]     3.0  [{'t': 2, 'l': '2nd', 'p': 4}, {'t': 1, 'l': '...     NaN      Oshawa                        Samac  ...                                                NaN       NaN    NaN     NaN     NaN     NaN      NaN     NaN     NaN    NaN\n",
      "3       Central Air  729 Phillip Murray Ave  Durham    3.0            [Sep]     1.0                    [{'t': 1, 'l': 'Main', 'p': 4}]     NaN      Oshawa                     Lakeview  ...  {'agnt': [{'id': '2106209', 'nm': 'JASKIRAT KA...  770000.0    NaN     NaN     NaN     NaN      NaN     NaN     NaN    NaN\n",
      "4       Central Air        869 Liverpool Rd  Durham    4.0       [Fin, Sep]     3.0  [{'t': 1, 'l': 'Main', 'p': 2}, {'t': 1, 'l': ...     NaN   Pickering                   Bay Ridges  ...  {'agnt': [{'id': '1415858', 'nm': 'SHARON ELIZ...  950000.0    NaN     NaN     NaN     NaN      NaN     NaN     NaN    NaN\n",
      "...             ...                     ...     ...    ...              ...     ...                                                ...     ...         ...                          ...  ...                                                ...       ...    ...     ...     ...     ...      ...     ...     ...    ...\n",
      "102908  Central Air           3240 Kirby Rd    York    2.0            [NON]     2.0  [{'t': 1, 'l': 'Ground', 'p': 3}, {'t': 1, 'l'...       Y     Vaughan                Rural Vaughan  ...  {'agnt': [{'id': '1812238', '_id': 'DDF1812238...    2400.0    NaN  1986.0  1900.0       Y  Ensuite  2400.0       Y    NaN\n",
      "102909  Central Air            60 Disera Dr    York    1.0              NaN     1.0                                 [{'t': 1, 'p': 4}]       Y     Vaughan                Beverley Glen  ...  {'agnt': [{'id': '1953249', '_id': 'DDF1953249...  640000.0   1108  2005.0   600.0     NaN      NaN     NaN     NaN    NaN\n",
      "102910  Central Air            7895 Jane St    York    2.0            [NON]     2.0  [{'t': 1, 'l': 'Flat', 'p': 4}, {'t': 1, 'l': ...       N     Vaughan                      Concord  ...  {'agnt': [{'id': '1617735', '_id': 'DDF1617735...    2400.0  Lph10  2020.0   749.0       N  Ensuite  2400.0       Y    NaN\n",
      "102911  Central Air            62 Lancer Dr    York    5.0            [NON]     3.0               [{'t': 1, 'p': 4}, {'t': 2, 'p': 3}]       N     Vaughan                        Maple  ...  {'agnt': [{'id': '1562755', '_id': 'DDF1562755...       NaN    NaN     NaN  2017.0       N  Ensuite  3495.0       Y    NaN\n",
      "102912        Other     763 Greenfield Cres    York    3.0  [Fin, W/O, NON]     1.0                                 [{'t': 1, 'p': 4}]       N   Newmarket  Huron Heights-Leslie Valley  ...  {'agnt': [{'id': '1465245', '_id': 'DDF1465245...       NaN    NaN     NaN     NaN       N  Ensuite  2550.0       Y    NaN\n",
      "\n",
      "[102913 rows x 73 columns]\n",
      "data shape: (102913, 73) used: 11.846222162246704\n",
      "Timer Elapsed time: 11.9198 s\n"
     ]
    }
   ],
   "source": [
    "from prop.organizer import Organizer\n",
    "from base.timer import Timer\n",
    "t = Timer()\n",
    "t.start()\n",
    "org = Organizer()\n",
    "org.run()\n",
    "t.stop()\n",
    "raw_data = org.raw_data\n",
    "raw_data.to_pickle('20210901_all.pkl')"
   ]
  },
  {
   "cell_type": "code",
   "execution_count": 13,
   "id": "f3b357e0",
   "metadata": {},
   "outputs": [
    {
     "name": "stdout",
     "output_type": "stream",
     "text": [
      "The autoreload extension is already loaded. To reload it, use:\n",
      "  %reload_ext autoreload\n"
     ]
    }
   ],
   "source": [
    "%load_ext autoreload\n",
    "%reload_ext autoreload"
   ]
  },
  {
   "cell_type": "code",
   "execution_count": 96,
   "id": "74486597",
   "metadata": {},
   "outputs": [
    {
     "name": "stderr",
     "output_type": "stream",
     "text": [
      "INFO:transformer.preprocessor:Building transformers for baseline transforming\n",
      "DEBUG:transformer.binary:binary.fit status\n",
      "DEBUG:transformer.binary:binary.fit den_fr\n",
      "DEBUG:transformer.binary:binary.fit ens_lndry\n",
      "DEBUG:transformer.binary:binary.fit cac_inc\n",
      "DEBUG:transformer.binary:binary.fit comel_inc\n",
      "DEBUG:transformer.binary:binary.fit heat_inc\n",
      "DEBUG:transformer.binary:binary.fit prkg_inc\n",
      "DEBUG:transformer.binary:binary.fit hydro_inc\n",
      "DEBUG:transformer.binary:binary.fit water_inc\n",
      "DEBUG:transformer.binary:binary.fit insur_bldg\n",
      "DEBUG:transformer.binary:binary.fit tv\n",
      "DEBUG:transformer.binary:binary.fit all_inc\n",
      "DEBUG:transformer.binary:binary.fit pvt_ent\n",
      "DEBUG:transformer.db_label:label lst fit Mode.TRAIN\n",
      "DEBUG:transformer.db_label:lst took 0.0018 seconds\n",
      "DEBUG:transformer.db_label:label prov fit Mode.TRAIN\n",
      "DEBUG:transformer.db_label:prov took 0.0012 seconds\n",
      "DEBUG:transformer.db_label:label area fit Mode.TRAIN\n",
      "DEBUG:transformer.db_label:area took 0.0014 seconds\n",
      "DEBUG:transformer.db_label:label city fit Mode.TRAIN\n",
      "DEBUG:transformer.db_label:city took 0.0015 seconds\n",
      "DEBUG:transformer.db_label:label cmty fit Mode.TRAIN\n",
      "DEBUG:transformer.db_label:cmty took 0.0020 seconds\n",
      "DEBUG:transformer.db_label:label st fit Mode.TRAIN\n",
      "DEBUG:transformer.db_label:st took 0.0031 seconds\n",
      "DEBUG:transformer.db_label:label zip fit Mode.TRAIN\n",
      "DEBUG:transformer.db_label:zip took 0.0090 seconds\n",
      "DEBUG:transformer.db_label:label rltr fit Mode.TRAIN\n",
      "DEBUG:transformer.db_label:rltr took 0.0019 seconds\n",
      "DEBUG:transformer.db_label:label pstyl fit Mode.TRAIN\n",
      "DEBUG:transformer.db_label:pstyl took 0.0014 seconds\n",
      "DEBUG:transformer.db_label:label ptp fit Mode.TRAIN\n",
      "DEBUG:transformer.db_label:ptp took 0.0013 seconds\n",
      "DEBUG:transformer.db_numeric:number lat fit Mode.TRAIN\n",
      "DEBUG:transformer.db_numeric:lat took 0.0082 seconds\n",
      "DEBUG:transformer.db_numeric:number lng fit Mode.TRAIN\n",
      "DEBUG:transformer.db_numeric:lng took 0.0018 seconds\n",
      "DEBUG:transformer.db_numeric:number mfee fit Mode.TRAIN\n",
      "DEBUG:transformer.db_numeric:mfee took 0.0033 seconds\n",
      "DEBUG:transformer.db_numeric:number tbdrms fit Mode.TRAIN\n",
      "DEBUG:transformer.db_numeric:tbdrms took 0.0043 seconds\n",
      "DEBUG:transformer.db_numeric:number bdrms fit Mode.TRAIN\n",
      "DEBUG:transformer.db_numeric:bdrms took 0.0070 seconds\n",
      "DEBUG:transformer.db_numeric:number br_plus fit Mode.TRAIN\n",
      "DEBUG:transformer.db_numeric:br_plus took 0.0043 seconds\n",
      "DEBUG:transformer.db_numeric:number bthrms fit Mode.TRAIN\n",
      "DEBUG:transformer.db_numeric:bthrms took 0.0085 seconds\n",
      "DEBUG:transformer.db_numeric:number kch fit Mode.TRAIN\n",
      "DEBUG:transformer.db_numeric:kch took 0.0032 seconds\n",
      "DEBUG:transformer.db_numeric:number tgr fit Mode.TRAIN\n",
      "DEBUG:transformer.db_numeric:tgr took 0.0033 seconds\n",
      "DEBUG:transformer.db_numeric:number gr fit Mode.TRAIN\n",
      "DEBUG:transformer.db_numeric:gr took 0.0039 seconds\n",
      "DEBUG:transformer.db_numeric:number lp fit Mode.TRAIN\n",
      "DEBUG:transformer.db_numeric:lp took 0.0045 seconds\n",
      "DEBUG:transformer.db_numeric:number lpr fit Mode.TRAIN\n",
      "DEBUG:transformer.db_numeric:lpr took 0.0032 seconds\n",
      "DEBUG:transformer.db_numeric:number sp fit Mode.TRAIN\n",
      "DEBUG:transformer.db_numeric:sp took 0.0058 seconds\n",
      "DEBUG:transformer.db_numeric:number depth fit Mode.TRAIN\n",
      "DEBUG:transformer.db_numeric:depth took 0.0041 seconds\n",
      "DEBUG:transformer.db_numeric:number flt fit Mode.TRAIN\n",
      "DEBUG:transformer.db_numeric:flt took 0.0044 seconds\n",
      "INFO:transformer.preprocessor:Transforming to baseline format\n",
      "DEBUG:transformer.select_col:transform ['bltYr', 'rmBltYr']\n",
      "DEBUG:transformer.select_col:found {'bltYr': 0, 'rmBltYr': 251, 'not_found': 750}\n",
      "DEBUG:transformer.select_col:transform ['sqft', 'rmSqft']\n",
      "DEBUG:transformer.select_col:found {'sqft': 6, 'rmSqft': 181, 'not_found': 814}\n",
      "DEBUG:transformer.bedrooms:transform rms\n",
      "WARNING:transformer.bedrooms:rms is not list: nan\n",
      "WARNING:transformer.bedrooms:rms is not list: nan\n",
      "WARNING:transformer.bedrooms:rms is not list: nan\n",
      "WARNING:transformer.bedrooms:rms is not list: nan\n",
      "WARNING:transformer.bedrooms:rms is not list: nan\n",
      "WARNING:transformer.bedrooms:rms is not list: nan\n",
      "WARNING:transformer.bedrooms:rms is not list: nan\n",
      "WARNING:transformer.bedrooms:rms is not list: nan\n",
      "WARNING:transformer.bedrooms:rms is not list: nan\n",
      "WARNING:transformer.bedrooms:rms is not list: nan\n",
      "WARNING:transformer.bedrooms:rms is not list: nan\n",
      "WARNING:transformer.bedrooms:rms is not list: nan\n",
      "WARNING:transformer.bedrooms:rms is not list: nan\n",
      "WARNING:transformer.bedrooms:rms is not list: nan\n",
      "WARNING:transformer.bedrooms:rms is not list: nan\n",
      "WARNING:transformer.bedrooms:rms is not list: nan\n",
      "WARNING:transformer.bedrooms:rms is not list: nan\n",
      "WARNING:transformer.bedrooms:rms is not list: nan\n",
      "WARNING:transformer.bedrooms:rms is not list: nan\n",
      "WARNING:transformer.bedrooms:rms is not list: nan\n",
      "WARNING:transformer.bedrooms:rms is not list: nan\n",
      "WARNING:transformer.bedrooms:rms is not list: nan\n",
      "WARNING:transformer.bedrooms:rms is not list: nan\n",
      "WARNING:transformer.bedrooms:rms is not list: nan\n",
      "WARNING:transformer.bedrooms:rms is not list: nan\n",
      "WARNING:transformer.bedrooms:rms is not list: nan\n",
      "WARNING:transformer.bedrooms:rms is not list: nan\n",
      "WARNING:transformer.bedrooms:rms is not list: nan\n",
      "WARNING:transformer.bedrooms:rms is not list: nan\n",
      "WARNING:transformer.bedrooms:rms is not list: nan\n",
      "WARNING:transformer.bedrooms:rms is not list: nan\n",
      "WARNING:transformer.bedrooms:rms is not list: nan\n",
      "WARNING:transformer.bedrooms:rms is not list: nan\n",
      "WARNING:transformer.bedrooms:rms is not list: nan\n",
      "WARNING:transformer.bedrooms:rms is not list: nan\n",
      "WARNING:transformer.bedrooms:rms is not list: nan\n",
      "WARNING:transformer.bedrooms:rms is not list: nan\n",
      "WARNING:transformer.bedrooms:rms is not list: nan\n",
      "WARNING:transformer.bedrooms:rms is not list: nan\n",
      "WARNING:transformer.bedrooms:rms is not list: nan\n",
      "WARNING:transformer.bedrooms:rms is not list: nan\n",
      "WARNING:transformer.bedrooms:rms is not list: nan\n",
      "WARNING:transformer.bedrooms:rms is not list: nan\n",
      "WARNING:transformer.bedrooms:rms is not list: nan\n",
      "WARNING:transformer.bedrooms:rms is not list: nan\n",
      "WARNING:transformer.bedrooms:rms is not list: nan\n",
      "DEBUG:transformer.bedrooms:rms took 1.5831 seconds\n",
      "DEBUG:transformer.baths:transform rms\n",
      "WARNING:transformer.baths:bths is not list: nan\n",
      "WARNING:transformer.baths:bths is not list: nan\n",
      "DEBUG:transformer.baths:bths took 0.5204 seconds\n",
      "DEBUG:transformer.one_hot_array:transform constr\n",
      "DEBUG:transformer.one_hot_array:constr took 0.1472 seconds\n",
      "DEBUG:transformer.one_hot_array:transform feat\n",
      "DEBUG:transformer.one_hot_array:feat took 0.2383 seconds\n",
      "DEBUG:transformer.one_hot_array:transform bsmt\n",
      "DEBUG:transformer.one_hot_array:bsmt took 0.1303 seconds\n",
      "DEBUG:transformer.one_hot_array:transform ac\n",
      "DEBUG:transformer.one_hot_array:ac took 0.1164 seconds\n",
      "DEBUG:transformer.one_hot_array:transform gatp\n",
      "DEBUG:transformer.one_hot_array:gatp took 0.1186 seconds\n",
      "DEBUG:transformer.one_hot_array:transform lkr\n",
      "DEBUG:transformer.one_hot_array:lkr took 0.0387 seconds\n",
      "DEBUG:transformer.one_hot_array:transform heat\n",
      "DEBUG:transformer.one_hot_array:heat took 0.1230 seconds\n",
      "DEBUG:transformer.one_hot_array:transform fce\n",
      "DEBUG:transformer.one_hot_array:fce took 0.1163 seconds\n",
      "DEBUG:transformer.one_hot_array:transform laundry\n",
      "DEBUG:transformer.one_hot_array:laundry took 0.0458 seconds\n",
      "DEBUG:transformer.one_hot_array:transform park_fac\n",
      "DEBUG:transformer.one_hot_array:park_fac took 0.0406 seconds\n",
      "DEBUG:transformer.binary:binary.transform status\n",
      "DEBUG:transformer.binary:binary.transform den_fr\n",
      "DEBUG:transformer.binary:binary.transform ens_lndry\n",
      "DEBUG:transformer.binary:binary.transform cac_inc\n",
      "DEBUG:transformer.binary:binary.transform comel_inc\n",
      "DEBUG:transformer.binary:binary.transform heat_inc\n",
      "DEBUG:transformer.binary:binary.transform prkg_inc\n",
      "DEBUG:transformer.binary:binary.transform hydro_inc\n",
      "DEBUG:transformer.binary:binary.transform water_inc\n",
      "DEBUG:transformer.binary:binary.transform insur_bldg\n",
      "DEBUG:transformer.binary:binary.transform tv\n",
      "DEBUG:transformer.binary:binary.transform all_inc\n",
      "DEBUG:transformer.binary:binary.transform pvt_ent\n",
      "DEBUG:transformer.db_label:label lst transform Mode.TRAIN\n",
      "INFO:transformer.db_label:unknown label unknown in column lst\n",
      "DEBUG:transformer.db_label:label prov transform Mode.TRAIN\n",
      "DEBUG:transformer.db_label:label area transform Mode.TRAIN\n"
     ]
    },
    {
     "name": "stderr",
     "output_type": "stream",
     "text": [
      "DEBUG:transformer.db_label:label city transform Mode.TRAIN\n",
      "DEBUG:transformer.db_label:label cmty transform Mode.TRAIN\n",
      "DEBUG:transformer.db_label:label st transform Mode.TRAIN\n",
      "DEBUG:transformer.db_label:label zip transform Mode.TRAIN\n",
      "DEBUG:transformer.db_label:label rltr transform Mode.TRAIN\n",
      "DEBUG:transformer.db_label:label ptype2_l transform Mode.TRAIN\n",
      "DEBUG:transformer.db_label:label ptype2_l fit Mode.TRAIN\n",
      "DEBUG:transformer.db_label:ptype2_l took 0.0021 seconds\n",
      "INFO:transformer.db_label:unknown label drop in column ptype2_l\n",
      "DEBUG:transformer.db_label:label pstyl transform Mode.TRAIN\n",
      "INFO:transformer.db_label:unknown label unknown in column pstyl\n",
      "DEBUG:transformer.db_label:label ptp transform Mode.TRAIN\n",
      "DEBUG:transformer.db_numeric:number lat transform Mode.TRAIN\n",
      "DEBUG:transformer.db_numeric:number lng transform Mode.TRAIN\n",
      "DEBUG:transformer.db_numeric:number mfee transform Mode.TRAIN\n",
      "DEBUG:transformer.db_numeric:number tbdrms transform Mode.TRAIN\n",
      "DEBUG:transformer.db_numeric:number bdrms transform Mode.TRAIN\n",
      "DEBUG:transformer.db_numeric:number br_plus transform Mode.TRAIN\n",
      "DEBUG:transformer.db_numeric:number bthrms transform Mode.TRAIN\n",
      "DEBUG:transformer.db_numeric:number kch transform Mode.TRAIN\n",
      "DEBUG:transformer.db_numeric:number tgr transform Mode.TRAIN\n",
      "DEBUG:transformer.db_numeric:number gr transform Mode.TRAIN\n",
      "DEBUG:transformer.db_numeric:number lp transform Mode.TRAIN\n",
      "DEBUG:transformer.db_numeric:number lpr transform Mode.TRAIN\n",
      "DEBUG:transformer.db_numeric:number sp transform Mode.TRAIN\n",
      "DEBUG:transformer.db_numeric:number depth transform Mode.TRAIN\n",
      "DEBUG:transformer.db_numeric:number flt transform Mode.TRAIN\n",
      "DEBUG:transformer.drop_row:drop_na.transform ['prov', 'city', 'ptype2_l', 'lat', 'lng']\n",
      "DEBUG:transformer.drop_row:['prov', 'city', 'ptype2_l', 'lat', 'lng'] before 1001 rows\n",
      "DEBUG:transformer.drop_row:['prov', 'city', 'ptype2_l', 'lat', 'lng'] after 1001/1001 dropped rows0\n",
      "DEBUG:transformer.drop_row:drop_na.transform None\n",
      "DEBUG:transformer.drop_row:None before 1001 rows\n",
      "DEBUG:transformer.drop_row:None after 1001/1001 dropped rows0\n"
     ]
    },
    {
     "name": "stdout",
     "output_type": "stream",
     "text": [
      "               ac                    addr    area  bdrms           bsmt  bthrms                                               bths cac_inc        city            cmty comel_inc         commuId                       constr daddr den_fr ens_lndry fce                                               feat      gatp   gr        heat heat_inc hydro_inc insur_bldg  kch        lat   lkr        lng         lp    mfee       onD park_fac      pets prkg_inc prov        pstyl               ptp ptype                 ptype2                                               rltr                                                rms   saletp                                            schools       sqft              st st_num status      tax   taxyr  tbdrms  tgr   tv                                uaddr water_inc     zip                   comm   depth    flt                                                 la laundry_lev      lst        offD  br_plus                                                la2         sp  \\\n",
      "0     Central Air        25 Point Hope Pl  Durham    3.0  [Full, unFin]     3.0  [{'t': 1, 'l': 'Main', 'p': 2}, {'t': 1, 'l': ...       N      Whitby     Port Whitby         Y  [355320100.01]         [Alum Siding, Brick]     Y      Y         Y   W  [Fenced Yard, Grnbelt/Conserv, Park, Public Tr...  Detached  2.0  Forced Air        N         N          N  1.0  43.857937  None -78.950545   699900.0  135.53  20210902     None  Restrict        Y   ON     2-Storey   Condo Townhouse     r  [Townhouse, Attached]               RIGHT AT HOME REALTY INC., BROKERAGE  [{'t': 'Family', 'l': 'Main', 'w': 3.08, 'h': ...   [Sale]  [{'_id': 1020035, 'nm': 'All Saints Catholic S...  1400-1599      Point Hope     25      A  4430.52  2021.0     3.0  2.0    N        CA:ON:WHITBY:25 POINT HOPE PL         N  L1N9T1                    NaN    0.00   0.00                                                NaN         NaN  unknown         NaN      0.0                                                NaN        0.0   \n",
      "1     Central Air        51 Kilgannon Ave  Durham    3.0          [Fin]     2.0  [{'t': 1, 'l': 'Upper', 'p': 3}, {'t': 1, 'l':...     NaN  Clarington        Courtice       NaN  [355320202.10]  [Alum Siding, Vinyl Siding]     Y      N       NaN   S                        [Fenced Yard, Park, School]  Attached  1.0  Forced Air      NaN       NaN        NaN  1.0  43.888515   NaN -78.803922   649900.0    0.00  20210902      NaN       NaN      NaN   ON     2-Storey  Att/Row/Twnhouse     r  [Townhouse, Attached]              ROYAL HERITAGE REALTY LTD., BROKERAGE  [{'t': 'Living', 'l': 'Main', 'w': 2.4, 'h': 4...   [Sale]                                                NaN        NaN       Kilgannon     51      U  3475.85  2021.0     3.0  5.0  NaN    CA:ON:CLARINGTON:51 KILGANNON AVE       NaN  L1E3E2             2.5 % +Hst    0.00  25.36  {'nm': 'ROYAL HERITAGE REALTY LTD., BROKERAGE'...       Lower      Ter  20210903.0      0.0                                                NaN        0.0   \n",
      "2     Central Air           815 Ormond Dr  Durham    4.0        [unFin]     3.0  [{'t': 2, 'l': '2nd', 'p': 4}, {'t': 1, 'l': '...     NaN      Oshawa           Samac       NaN  [355320016.01]        [Brick, Vinyl Siding]     Y      Y       NaN   E                                                NaN  Attached  2.0  Forced Air      NaN       NaN        NaN  1.0  43.947700   NaN -78.866360   885000.0    0.00  20210902      NaN       NaN      NaN   ON     2-Storey          Detached     r      [House, Detached]               RE/MAX ROUGE V-POWER TEAM, BROKERAGE  [{'t': 'Living', 'l': 'Main', 'w': 3, 'h': 5.9...   [Sale]  [{'_id': 1020015, 'nm': 'Monsignor Paul Dwyer ...  2000-2500          Ormond    815      U  6996.00  2021.0     4.0  4.0  NaN           CA:ON:OSHAWA:815 ORMOND DR       NaN  L1K3B6                    2.5  129.89  40.35  {'nm': 'RE/MAX ROUGE V-POWER TEAM, BROKERAGE',...        Main      Ter  20210907.0      0.0                                                NaN        0.0   \n",
      "3     Central Air  729 Phillip Murray Ave  Durham    3.0          [Sep]     1.0                    [{'t': 1, 'l': 'Main', 'p': 4}]     NaN      Oshawa        Lakeview       NaN  [355320002.03]                      [Brick]     Y      N       NaN   S  [Beach, Fenced Yard, Lake/Pond, Marina, Park, ...  Detached  1.0  Forced Air      NaN       NaN        NaN  1.0  43.859642   NaN -78.854439   699900.0    0.00  20210902      NaN       NaN      NaN   ON     Bungalow          Detached     r      [House, Detached]                   ROYAL CANADIAN REALTY, BROKERAGE  [{'t': 'Living', 'l': 'Main', 'w': 3.8, 'h': 4...   [Sale]  [{'_id': 1020014, 'nm': 'Monsignor John Pereym...        NaN  Phillip Murray    729      U  3634.81  2020.0     3.0  6.0  NaN  CA:ON:OSHAWA:729 PHILLIP MURRAY AVE       NaN  L1J1J2               2.5%+Hst  105.00  50.98  {'nm': 'ROYAL CANADIAN REALTY, BROKERAGE', 'ad...         NaN      Sld  20210905.0      0.0  {'agnt': [{'id': '2106209', 'nm': 'JASKIRAT KA...   770000.0   \n",
      "4     Central Air        869 Liverpool Rd  Durham    4.0     [Fin, Sep]     3.0  [{'t': 1, 'l': 'Main', 'p': 2}, {'t': 1, 'l': ...     NaN   Pickering      Bay Ridges       NaN  [355350800.02]               [Brick, Other]     Y      N       NaN   E                                                NaN      None  0.0  Forced Air      NaN       NaN        NaN  1.0  43.824342   NaN -79.085137   839000.0    0.00  20210902      NaN       NaN      NaN   ON     2-Storey          Detached     r      [House, Detached]             RE/MAX HALLMARK REALTY LTD., BROKERAGE  [{'t': 'Living', 'l': 'Main', 'w': 6.17, 'h': ...   [Sale]  [{'_id': 1020029, 'nm': 'St. Mary Catholic Sec...        NaN       Liverpool    869      U  4773.80  2021.0     4.0  3.0  NaN     CA:ON:PICKERING:869 LIVERPOOL RD       NaN  L1W1S3                   2.5%  100.00  50.00  {'nm': 'RE/MAX HALLMARK REALTY LTD., BROKERAGE...         NaN      Sld  20210906.0      0.0  {'agnt': [{'id': '1415858', 'nm': 'SHARON ELIZ...   950000.0   \n",
      "...           ...                     ...     ...    ...            ...     ...                                                ...     ...         ...             ...       ...             ...                          ...   ...    ...       ...  ..                                                ...       ...  ...         ...      ...       ...        ...  ...        ...   ...        ...        ...     ...       ...      ...       ...      ...  ...          ...               ...   ...                    ...                                                ...                                                ...      ...                                                ...        ...             ...    ...    ...      ...     ...     ...  ...  ...                                  ...       ...     ...                    ...     ...    ...                                                ...         ...      ...         ...      ...                                                ...        ...   \n",
      "996   Central Air          2450 Bromus Pt  Durham    4.0          [Fin]     4.0  [{'t': 1, 'l': 'Main', 'p': 2}, {'t': 1, 'l': ...       N      Oshawa      Windfields         N  [355320016.02]                      [Brick]     Y      N       NaN   E                                                NaN  Built-In  1.0  Forced Air        N         N        NaN  1.0  43.958762   NaN -78.903976        0.0    0.00  20210918      NaN       NaN        Y   ON     2-Storey  Att/Row/Twnhouse     r  [Townhouse, Attached]           HOMELIFE/DIAMONDS REALTY INC., BROKERAGE  [{'t': 'Living', 'l': 'Main', 'w': 0, 'h': 0},...  [Lease]  [{'_id': 1020012, 'nm': 'Father Joseph Venini ...  1500-2000          Bromus   2450      U      NaN     NaN     5.0  2.0    N          CA:ON:OSHAWA:2450 BROMUS PT         N  L1L0K6  Half Month Rent + Hst    0.00   0.00  {'nm': 'HOMELIFE/DIAMONDS REALTY INC., BROKERA...        Main      Ter  20211022.0      1.0  {'agnt': [{'id': '2104160', 'nm': 'SANDEEP LAX...        0.0   \n",
      "997   Central Air            34 Root Cres  Durham    4.0          [Fin]     4.0  [{'t': 1, 'l': 'In Betwn', 'p': 2}, {'t': 1, '...     NaN        Ajax  Northwest Ajax       NaN  [355350805.13]                      [Brick]     Y      Y       NaN   W  [Fenced Yard, Golf, Park, Public Transit, Rec ...  Attached  2.0  Forced Air      NaN       NaN        NaN  1.0  43.883649   NaN -79.033899  1200000.0    0.00  20210919      NaN       NaN      NaN   ON     2-Storey          Detached     r      [House, Detached]  RE/MAX HALLMARK FIRST GROUP REALTY LTD., BROKE...  [{'t': 'Kitchen', 'l': 'Main', 'w': 1.9, 'h': ...   [Sale]  [{'_id': 1020002, 'nm': 'St. André Of Bessette...        NaN            Root     34      U  6177.00  2021.0     6.0  6.0  NaN              CA:ON:AJAX:34 ROOT CRES       NaN  L1T4J5                   2.5%  109.91  40.03  {'nm': 'RE/MAX HALLMARK FIRST GROUP REALTY LTD...        Main      Sld  20210922.0      2.0  {'agnt': [{'id': '1913080', 'nm': 'KALEV REIN ...  1475000.0   \n",
      "998   Central Air            60 Batt Cres  Durham    3.0          [Fin]     4.0  [{'t': 1, 'l': 'Main', 'p': 2}, {'t': 1, 'l': ...       Y        Ajax  Northwest Ajax         N  [355350805.13]               [Brick, Stone]     Y      Y       NaN   W         [Place Of Worship, Public Transit, School]  Attached  1.0  Forced Air        N         N        NaN  1.0  43.884760   NaN -79.031165        0.0    0.00  20210919      NaN       NaN        Y   ON     2-Storey          Detached     r      [House, Detached]      ROYAL LEPAGE YOUR COMMUNITY REALTY, BROKERAGE  [{'t': 'Living', 'l': 'Main', 'w': 3.04, 'h': ...  [Lease]  [{'_id': 1020002, 'nm': 'St. André Of Bessette...        NaN            Batt     60      U      NaN     NaN     3.0  5.0    N              CA:ON:AJAX:60 BATT CRES         N  L1T4L8   1/2 Month Rent _ Hst  110.50  37.96  {'nm': 'ROYAL LEPAGE YOUR COMMUNITY REALTY, BR...       Lower      Lsd  20210923.0      0.0  {'agnt': [{'id': '1901221', 'nm': 'PRABA SIVAL...     3000.0   \n",
      "999   Central Air       10 Cooperage Lane  Durham    3.0          [NON]     2.0  [{'t': 1, 'l': '2nd', 'p': 4}, {'t': 1, 'l': '...     NaN        Ajax         Central       NaN  [355350812.00]                      [Brick]     Y      N       NaN   E  [Hospital, Library, Park, Public Transit, School]  Built-In  1.0  Forced Air      NaN       NaN        NaN  1.0  43.858615   NaN -79.014619   699000.0  226.00  20210919      NaN       NaN      NaN   ON     3-Storey  Att/Row/Twnhouse     r  [Townhouse, Attached]          RE/MAX ROYAL PROPERTIES REALTY, BROKERAGE  [{'t': 'Kitchen', 'l': 'Main', 'w': 8.04, 'h':...   [Sale]  [{'_id': 1020001, 'nm': 'Archbishop Denis O'Co...        NaN       Cooperage     10      U  3532.00  2021.0     3.0  2.0  NaN         CA:ON:AJAX:10 COOPERAGE LANE       NaN  L1S0E8                   2.5%   38.37  14.14  {'nm': 'RE/MAX ROYAL PROPERTIES REALTY, BROKER...         NaN      Sld  20210923.0      0.0  {'agnt': [{'id': '1981746', 'nm': 'MUHAMMAD FA...   710000.0   \n",
      "1000  Central Air      570 Creekview Circ  Durham    3.0     [Fin, W/O]     4.0  [{'t': 1, 'l': 'Main', 'p': 2}, {'t': 1, 'l': ...       N   Pickering      West Shore         Y  [355350801.02]        [Brick, Vinyl Siding]     Y      Y       NaN   S                                                NaN  Attached  2.0  Forced Air        N         N        NaN  2.0  43.806860   NaN -79.107242        0.0    0.00  20210919      NaN       NaN        Y   ON  Backsplit 5          Detached     r      [House, Detached]               RIGHT AT HOME REALTY INC., BROKERAGE  [{'t': 'Kitchen', 'l': 'Main', 'w': 0, 'h': 0,...  [Lease]  [{'_id': 1020029, 'nm': 'St. Mary Catholic Sec...        NaN  Creekview Circ    570      U      NaN     NaN     5.0  4.0    N   CA:ON:PICKERING:570 CREEKVIEW CIRC         N  L1W3E4          1/2 Mont Rent  106.43  50.62  {'nm': 'RIGHT AT HOME REALTY INC., BROKERAGE',...         NaN      Lsd  20210924.0      2.0  {'agnt': [{'id': '1723030', 'nm': 'MICHAEL WAN...     3800.0   \n",
      "\n",
      "      unt  rmBltYr  rmSqft all_inc  laundry     lpr pvt_ent  bltYr  saletp_b   ptype2_l  pets_n  laundry_lev_n  flt_n  depth_n    tax_n  taxyr_n  built_yr_n  sqft_n  st_num_n  rm_p_size_n  rm_p_area_n  rm_t_size_n  rm_t_area_n  bth_t0_n  bth_pc0_n  bth_t1_n  bth_pc1_n  bth_t2_n  bth_pc2_n  bth_t3_n  bth_pc3_n  ConstrStone_b  ConstrInsul_b  ConstrWood_b  ConstrBoard_b  ConstrConc_b  ConstrStucco_b  ConstrVinyl_b  ConstrShing_b  ConstrAlum_b  ConstrMetal_b  ConstrBrick_b  ConstrOther_b  ConstrLog_b  featLevel_b  featTiled_b  featPlaceOfWorship_b  featTreed_b  featRolling_b  featBeach_b  featPark_b  featCampground_b  featSchool_b  featWaterfront_b  featEquestrian_b  featMarina_b  featRiverStream_b  featPublicTransit_b  featFencedYard_b  featLibrary_b  featGardenShed_b  featHospital_b  featPartCleared_b  featStuccoPlaster_b  featArtsCentre_b  featRecRm_b  featBush_b  featGeenbelt_b  featLakeBacklot_b  featLakePond_b  featMajorHighway_b  featOther_b  featWood_b  featCulDeSac_b  \\\n",
      "0     NaN      NaN     NaN     NaN      NaN     0.0     NaN    NaN         0  Townhouse       1            1.0    NaN      NaN  4430.52     2021         NaN     NaN        25         5.91       8.7164        48.37      73.3432         0          0         1          2         2          7         0          0              0              0             0              0             0               0              0              0             1              0              1              0            0            0            0                     0            0              0            0           1                 0             1                 0                 0             0                  0                    1                 1              0                 0               0                  0                    0                 0            0           0               0                  0               0                   0            0           0               0   \n",
      "1     NaN      NaN     NaN     NaN      NaN     0.0     NaN    NaN         0  Townhouse       2            0.5    NaN      NaN  3475.85     2021         NaN     NaN        51         6.29       9.8908        42.69      76.2465         0          0         1          2         1          3         0          0              0              0             0              0             0               0              1              0             1              0              0              0            0            0            0                     0            0              0            0           1                 0             1                 0                 0             0                  0                    0                 1              0                 0               0                  0                    0                 0            0           0               0                  0               0                   0            0           0               0   \n",
      "2     NaN      NaN     NaN     NaN      NaN     0.0     NaN    NaN         0   Detached       2            1.0    NaN      NaN  6996.00     2021         NaN     NaN       815         7.90      15.3000        68.80     129.2700         0          0         1          2         2          8         0          0              0              0             0              0             0               0              1              0             0              0              1              0            0            0            0                     0            0              0            0           0                 0             0                 0                 0             0                  0                    0                 0              0                 0               0                  0                    0                 0            0           0               0                  0               0                   0            0           0               0   \n",
      "3     NaN      NaN     NaN     NaN      NaN     0.0     NaN    NaN         0   Detached       2            1.0    NaN      NaN  3634.81     2020         NaN     NaN       729         4.96       6.1440        39.51      65.4499         0          0         1          4         0          0         0          0              0              0             0              0             0               0              0              0             0              0              1              0            0            0            0                     0            0              0            1           1                 0             0                 0                 0             1                  0                    1                 1              0                 0               0                  0                    0                 0            0           0               0                  0               1                   0            0           0               0   \n",
      "4     NaN      NaN     NaN     NaN      NaN     0.0     NaN    NaN         0   Detached       2            1.0    NaN      NaN  4773.80     2021         NaN     NaN       869         0.00       0.0000        83.23     205.5557         1          3         1          2         1          4         0          0              0              0             0              0             0               0              0              0             0              0              1              1            0            0            0                     0            0              0            0           0                 0             0                 0                 0             0                  0                    0                 0              0                 0               0                  0                    0                 0            0           0               0                  0               0                   0            0           0               0   \n",
      "...   ...      ...     ...     ...      ...     ...     ...    ...       ...        ...     ...            ...    ...      ...      ...      ...         ...     ...       ...          ...          ...          ...          ...       ...        ...       ...        ...       ...        ...       ...        ...            ...            ...           ...            ...           ...             ...            ...            ...           ...            ...            ...            ...          ...          ...          ...                   ...          ...            ...          ...         ...               ...           ...               ...               ...           ...                ...                  ...               ...            ...               ...             ...                ...                  ...               ...          ...         ...             ...                ...             ...                 ...          ...         ...             ...   \n",
      "996   NaN      NaN  1800.0       N  Ensuite  3099.0       Y    NaN         1  Townhouse       2            1.0    NaN      NaN      NaN     2021         NaN  1800.0      2450         0.00       0.0000         0.00       0.0000         1          3         1          2         2          6         0          0              0              0             0              0             0               0              0              0             0              0              1              0            0            0            0                     0            0              0            0           0                 0             0                 0                 0             0                  0                    0                 0              0                 0               0                  0                    0                 0            0           0               0                  0               0                   0            0           0               0   \n",
      "997   NaN      NaN     NaN     NaN      NaN     0.0     NaN    NaN         0   Detached       2            1.0    NaN      NaN  6177.00     2021         NaN     NaN        34        12.72      40.3920        92.00     186.4508         1          3         0          0         3         11         0          0              0              0             0              0             0               0              0              0             0              0              1              0            0            0            0                     0            0              0            0           1                 0             1                 0                 0             0                  0                    1                 1              0                 0               0                  0                    0                 0            0           0               0                  0               0                   0            0           0               0   \n",
      "998   NaN      NaN     NaN       N  Ensuite  2800.0       Y    NaN         1   Detached       2            0.5    NaN      NaN      NaN     2021         NaN     NaN        60         0.00       0.0000        58.87     108.2411         1          4         1          2         2          8         0          0              1              0             0              0             0               0              0              0             0              0              1              0            0            0            0                     1            0              0            0           0                 0             1                 0                 0             0                  0                    1                 0              0                 0               0                  0                    0                 0            0           0               0                  0               0                   0            0           0               0   \n",
      "999   NaN   2011.0     NaN     NaN      NaN     0.0     NaN    NaN         0  Townhouse       2            1.0    NaN      NaN  3532.00     2021      2011.0     NaN        10        24.50     148.4749       133.99     744.6489         0          0         0          0         1          4         1          4              0              0             0              0             0               0              0              0             0              0              1              0            0            0            0                     0            0              0            0           1                 0             1                 0                 0             0                  0                    1                 0              1                 0               1                  0                    0                 0            0           0               0                  0               0                   0            0           0               0   \n",
      "1000  NaN      NaN     NaN       N  Ensuite  3700.0       Y    NaN         1   Detached       2            1.0    NaN      NaN      NaN     2021         NaN     NaN       570         0.00       0.0000         0.00       0.0000         1          4         1          2         2          7         0          0              0              0             0              0             0               0              1              0             0              0              1              0            0            0            0                     0            0              0            0           0                 0             0                 0                 0             0                  0                    0                 0              0                 0               0                  0                    0                 0            0           0               0                  0               0                   0            0           0               0   \n",
      "\n",
      "      featLakeAccess_b  featSchoolBusRoute_b  featTerraced_b  featGreenbelt_b  featRecCentre_b  featElectricCarCharg_b  featClearView_b  featPlaceOfWorkship_b  featIsland_b  featPublic_b  featRavine_b  featSkiing_b  featSecuritySystem_b  featSloping_b  featGolf_b  bsmtUnFin_b  bsmtWU_b  bsmtY_b  bsmtHalf_b  bsmtNON_b  bsmtCrw_b  bsmtPrt_b  bsmtFin_b  bsmtSep_b  bsmtFull_b  bsmtSlab_b  bsmtApt_b  bsmtWO_b  acOther_b  acPart_b  acY_b  acNON_b  acCentral_b  GrOther_b  GrCovered_b  GrReserved_b  GrPlaza_b  GrSurface_b  GrNone_b  GrStreet_b  GrLane_b  GrInOut_b  GrAttached_b  GrPublic_b  GrSingleDetached_b  GrVisitor_b  GrValet_b  GrDoubleDetached_b  GrBoulevard_b  GrPay_b  GrCarport_b  GrUnderground_b  GrBuiltIn_b  GrDetached_b  lkrEnsuite_b  lkrCommon_b  lkrNone_b  lkrOwned_b  lkrExclusive_b  htCoil_b  htOilSteam_b  htPropane_b  htOutside_b  htStove_b  htDuctless_b  htWater_b  htForceAir_b  htForcedAir_b  htHeatPump_b  htSpace_b  htGravity_b  htOilForcedAir_b  htCentral_b  htBase_b  \\\n",
      "0                    0                     0               0                1                1                       0                0                      0             0             0             0             0                     0              0           0            1         0        0           0          0          0          0          0          0           1           0          0         0          0         0      0        0            1          0            0             0          0            0         0           0         0          0             0           0                   0            0          0                   0              0        0            0                0            0             1             0            0          1           0               0         0             0            0            0          0             0          0             1              0             0          0            0                 0            0         0   \n",
      "1                    0                     0               0                0                0                       0                0                      0             0             0             0             0                     0              0           0            0         0        0           0          0          0          0          1          0           0           0          0         0          0         0      0        0            1          0            0             0          0            0         0           0         0          0             1           0                   0            0          0                   0              0        0            0                0            0             0             0            0          0           0               0         0             0            0            0          0             0          0             1              0             0          0            0                 0            0         0   \n",
      "2                    0                     0               0                0                0                       0                0                      0             0             0             0             0                     0              0           0            1         0        0           0          0          0          0          0          0           0           0          0         0          0         0      0        0            1          0            0             0          0            0         0           0         0          0             1           0                   0            0          0                   0              0        0            0                0            0             0             0            0          0           0               0         0             0            0            0          0             0          0             1              0             0          0            0                 0            0         0   \n",
      "3                    0                     0               0                0                0                       0                0                      0             0             0             0             0                     0              0           0            0         0        0           0          0          0          0          0          1           0           0          0         0          0         0      0        0            1          0            0             0          0            0         0           0         0          0             0           0                   0            0          0                   0              0        0            0                0            0             1             0            0          0           0               0         0             0            0            0          0             0          0             1              0             0          0            0                 0            0         0   \n",
      "4                    0                     0               0                0                0                       0                0                      0             0             0             0             0                     0              0           0            0         0        0           0          0          0          0          1          1           0           0          0         0          0         0      0        0            1          0            0             0          0            0         1           0         0          0             0           0                   0            0          0                   0              0        0            0                0            0             0             0            0          0           0               0         0             0            0            0          0             0          0             1              0             0          0            0                 0            0         0   \n",
      "...                ...                   ...             ...              ...              ...                     ...              ...                    ...           ...           ...           ...           ...                   ...            ...         ...          ...       ...      ...         ...        ...        ...        ...        ...        ...         ...         ...        ...       ...        ...       ...    ...      ...          ...        ...          ...           ...        ...          ...       ...         ...       ...        ...           ...         ...                 ...          ...        ...                 ...            ...      ...          ...              ...          ...           ...           ...          ...        ...         ...             ...       ...           ...          ...          ...        ...           ...        ...           ...            ...           ...        ...          ...               ...          ...       ...   \n",
      "996                  0                     0               0                0                0                       0                0                      0             0             0             0             0                     0              0           0            0         0        0           0          0          0          0          1          0           0           0          0         0          0         0      0        0            1          0            0             0          0            0         0           0         0          0             0           0                   0            0          0                   0              0        0            0                0            1             0             0            0          0           0               0         0             0            0            0          0             0          0             1              0             0          0            0                 0            0         0   \n",
      "997                  0                     0               0                0                1                       0                0                      0             0             0             0             0                     0              0           1            0         0        0           0          0          0          0          1          0           0           0          0         0          0         0      0        0            1          0            0             0          0            0         0           0         0          0             1           0                   0            0          0                   0              0        0            0                0            0             0             0            0          0           0               0         0             0            0            0          0             0          0             1              0             0          0            0                 0            0         0   \n",
      "998                  0                     0               0                0                0                       0                0                      0             0             0             0             0                     0              0           0            0         0        0           0          0          0          0          1          0           0           0          0         0          0         0      0        0            1          0            0             0          0            0         0           0         0          0             1           0                   0            0          0                   0              0        0            0                0            0             0             0            0          0           0               0         0             0            0            0          0             0          0             1              0             0          0            0                 0            0         0   \n",
      "999                  0                     0               0                0                0                       0                0                      0             0             0             0             0                     0              0           0            0         0        0           0          1          0          0          0          0           0           0          0         0          0         0      0        0            1          0            0             0          0            0         0           0         0          0             0           0                   0            0          0                   0              0        0            0                0            1             0             0            0          0           0               0         0             0            0            0          0             0          0             1              0             0          0            0                 0            0         0   \n",
      "1000                 0                     0               0                0                0                       0                0                      0             0             0             0             0                     0              0           0            0         0        0           0          0          0          0          1          0           0           0          0         1          0         0      0        0            1          0            0             0          0            0         0           0         0          0             1           0                   0            0          0                   0              0        0            0                0            0             0             0            0          0           0               0         0             0            0            0          0             0          0             1              0             0          0            0                 0            0         0   \n",
      "\n",
      "      htGas_b  htWall_b  htRadiant_b  htSolar_b  htHRV_b  htFurnace_b  htOilHotWater_b  htBoiler_b  htFloor_b  htWood_b  htOverhead_b  htNone_b  htAir_b  htHotWater_b  htGround_b  htOther_b  fceUnknown_b  fceS_b  fceW_b  fceE_b  fceN_b  lndrySetUsage_b  lndryLower_b  lndryCoin_b  lndryShared_b  lndryNone_b  lndryEnsuite_b  lndryInArea_b  lndryMain_b  prkSurface_b  prkNone_b  prkPrivate_b  prkFacility_b  prkMutual_b  prkOther_b  prkUnderground_b  status_b  den_fr_b  ens_lndry_b  cac_inc_b  comel_inc_b  heat_inc_b  prkg_inc_b  hydro_inc_b  water_inc_b  insur_bldg_b  tv_b  all_inc_b  pvt_ent_b  lst_c  prov_c  area_c  city_c  cmty_c  st_c  zip_c  rltr_c  ptype2_l_c  pstyl_c  ptp_c      lat_n      lng_n  mfee_n  tbdrms_n  bdrms_n  br_plus_n  bthrms_n  kch_n  tgr_n  gr_n       lp_n   lpr_n       sp_n  \n",
      "0           0         0            0          0        0            0                0           0          0         0             0         0        0             0           0          0             0       0       1       0       0                0             0            0              0            0               0              0            0             0          1             0              0            0           0                 0         1         1            1          0            1           0           1            0            0             0     0          1          1      7       0       0       7      33   537    482     167           3        2      3  43.857937 -78.950545  135.53       3.0      3.0        0.0       3.0    1.0    2.0   2.0   699900.0     0.0        0.0  \n",
      "1           0         0            0          0        0            0                0           0          0         0             0         0        0             0           0          0             0       1       0       0       0                0             0            0              0            0               0              0            0             0          0             0              0            0           0                 0         0         0            1          1            1           1           1            1            1             1     1          1          1      6       0       0       2      13   382    142     173           3        2      0  43.888515 -78.803922    0.00       3.0      3.0        0.0       2.0    1.0    5.0   1.0   649900.0     0.0        0.0  \n",
      "2           0         0            0          0        0            0                0           0          0         0             0         0        0             0           0          0             0       0       0       1       0                0             0            0              0            0               0              0            0             0          0             0              0            0           0                 0         0         1            1          1            1           1           1            1            1             1     1          1          1      6       0       0       3      44   509    382     152           1        2      5  43.947700 -78.866360    0.00       4.0      4.0        0.0       3.0    1.0    4.0   2.0   885000.0     0.0        0.0  \n",
      "3           0         0            0          0        0            0                0           0          0         0             0         0        0             0           0          0             0       1       0       0       0                0             0            0              0            0               0              0            0             0          0             0              0            0           0                 0         0         0            1          1            1           1           1            1            1             1     1          1          1      4       0       0       3      21   525    258     170           1       10      5  43.859642 -78.854439    0.00       3.0      3.0        0.0       1.0    1.0    6.0   1.0   699900.0     0.0   770000.0  \n",
      "4           0         0            0          0        0            0                0           0          0         0             0         0        0             0           0          0             0       0       0       1       0                0             0            0              0            0               0              0            0             0          0             0              0            0           0                 0         0         0            1          1            1           1           1            1            1             1     1          1          1      4       0       0       4       1   421    715     129           1        2      5  43.824342 -79.085137    0.00       4.0      4.0        0.0       3.0    1.0    3.0   0.0   839000.0     0.0   950000.0  \n",
      "...       ...       ...          ...        ...      ...          ...              ...         ...        ...       ...           ...       ...      ...           ...         ...        ...           ...     ...     ...     ...     ...              ...           ...          ...            ...          ...             ...            ...          ...           ...        ...           ...            ...          ...         ...               ...       ...       ...          ...        ...          ...         ...         ...          ...          ...           ...   ...        ...        ...    ...     ...     ...     ...     ...   ...    ...     ...         ...      ...    ...        ...        ...     ...       ...      ...        ...       ...    ...    ...   ...        ...     ...        ...  \n",
      "996         0         0            0          0        0            0                0           0          0         0             0         0        0             0           0          0             0       0       0       1       0                0             0            0              0            0               1              0            0             0          0             0              0            0           0                 0         0         0            1          0            0           0           1            0            0             1     0          0          1      6       0       0       3      56    95    393      80           3        2      0  43.958762 -78.903976    0.00       5.0      4.0        1.0       4.0    1.0    2.0   1.0        0.0  3099.0        0.0  \n",
      "997         0         0            0          0        0            0                0           0          0         0             0         0        0             0           0          0             0       0       1       0       0                0             0            0              0            0               0              0            0             0          0             0              0            0           0                 0         0         1            1          1            1           1           1            1            1             1     1          1          1      4       0       0       0      28   579    641     126           1        2      5  43.883649 -79.033899    0.00       6.0      4.0        2.0       4.0    1.0    6.0   2.0  1200000.0     0.0  1475000.0  \n",
      "998         0         0            0          0        0            0                0           0          0         0             0         0        0             0           0          0             0       0       1       0       0                0             0            0              0            0               1              0            0             0          0             0              0            0           0                 0         0         1            1          1            0           0           1            0            0             1     0          0          1      2       0       0       0      28    55    646     190           1        2      5  43.884760 -79.031165    0.00       3.0      3.0        0.0       4.0    1.0    5.0   1.0        0.0  2800.0     3000.0  \n",
      "999         0         0            0          0        0            0                0           0          0         0             0         0        0             0           0          0             0       0       0       1       0                0             0            0              0            0               0              0            0             0          0             0              0            0           0                 0         0         0            1          1            1           1           1            1            1             1     1          1          1      4       0       0       0      10   164    568     153           3        3      0  43.858615 -79.014619  226.00       3.0      3.0        0.0       2.0    1.0    2.0   1.0   699000.0     0.0   710000.0  \n",
      "1000        0         0            0          0        0            0                0           0          0         0             0         0        0             0           0          0             0       1       0       0       0                0             0            0              0            0               1              0            0             0          0             0              0            0           0                 0         0         1            1          0            1           0           1            0            0             1     0          0          1      2       0       0       4      54   176    725     167           1        8      5  43.806860 -79.107242    0.00       5.0      3.0        2.0       4.0    2.0    4.0   2.0        0.0  3700.0     3800.0  \n",
      "\n",
      "[1001 rows x 286 columns]\n",
      "Timer Elapsed time: 3.6226 s\n"
     ]
    }
   ],
   "source": [
    "from transformer.preprocessor import Preprocessor\n",
    "from prop.const import Mode\n",
    "from base.timer import Timer\n",
    "t = Timer()\n",
    "t.start()\n",
    "data1 = raw_data.loc[0:1000,:].copy()\n",
    "preprocessor = Preprocessor(mode=Mode.TRAIN)\n",
    "#preprocessor.fit(data1)\n",
    "data2 = preprocessor.fit_transform(data1)\n",
    "print(data2)\n",
    "t.stop()"
   ]
  },
  {
   "cell_type": "code",
   "execution_count": null,
   "id": "6c320f0b",
   "metadata": {},
   "outputs": [],
   "source": [
    "import numpy as np\n",
    "import numpy.ma as ma\n",
    "from scipy import stats\n",
    "mfee = data.loc[:,'mfee']\n",
    "print(mfee)\n",
    "desc = stats.describe(mfee, nan_policy='omit')\n",
    "#print(desc)\n",
    "s = (float(desc.minmax[0]),float(desc.minmax[1]))\n",
    "print(s)"
   ]
  },
  {
   "cell_type": "code",
   "execution_count": null,
   "id": "a4943e4f",
   "metadata": {},
   "outputs": [],
   "source": [
    "from prop.organizer import Organizer\n",
    "organizer = Organizer()\n",
    "organizer.train_init()\n",
    "organizer.prep_data.to_pickle('20210101_prep.pkl')\n",
    "organizer.prep_data.shape"
   ]
  },
  {
   "cell_type": "code",
   "execution_count": null,
   "id": "7dcc65d1",
   "metadata": {},
   "outputs": [],
   "source": [
    "m = data.loc[data['sqft'].apply(lambda x: isinstance(x,int)),'sqft']\n",
    "print(m)"
   ]
  },
  {
   "cell_type": "code",
   "execution_count": null,
   "id": "77ed1d7f",
   "metadata": {},
   "outputs": [],
   "source": [
    "t.start()\n",
    "data1 = raw_data.loc[:,:].copy()\n",
    "data2 = preprocessor.transform(data1)\n",
    "print(data2)\n",
    "t.stop()"
   ]
  },
  {
   "cell_type": "code",
   "execution_count": null,
   "id": "3f27db2f",
   "metadata": {},
   "outputs": [],
   "source": [
    "raw_data = org.raw_data\n",
    "print(raw_data.shape)\n",
    "raw_data.loc[raw_data['ptype2'].apply(lambda p: isinstance(p,float)),'ptype2']"
   ]
  },
  {
   "cell_type": "code",
   "execution_count": 39,
   "id": "62c36877",
   "metadata": {},
   "outputs": [
    {
     "name": "stdout",
     "output_type": "stream",
     "text": [
      "['ac' 'addr' 'area' 'bdrms' 'bsmt' 'bthrms' 'bths' 'cac_inc' 'city' 'cmty'\n",
      " 'comel_inc' 'commuId' 'constr' 'daddr' 'den_fr' 'ens_lndry' 'fce' 'feat'\n",
      " 'gatp' 'gr' 'heat' 'heat_inc' 'hydro_inc' 'insur_bldg' 'kch' 'lat' 'lkr'\n",
      " 'lng' 'lp' 'mfee' 'onD' 'park_fac' 'pets' 'prkg_inc' 'prov' 'pstyl' 'ptp'\n",
      " 'ptype' 'ptype2' 'rltr' 'rms' 'saletp' 'schools' 'sqft' 'st' 'st_num'\n",
      " 'status' 'tax' 'taxyr' 'tbdrms' 'tgr' 'tv' 'uaddr' 'water_inc' 'zip'\n",
      " 'comm' 'depth' 'flt' 'la' 'laundry_lev' 'lst' 'offD' 'br_plus' 'la2' 'sp'\n",
      " 'unt' 'rmBltYr' 'rmSqft' 'all_inc' 'laundry' 'lpr' 'pvt_ent' 'bltYr'] (73,)\n",
      "['ac' 'addr' 'area' 'bdrms' 'bsmt' 'bthrms' 'bths' 'cac_inc' 'city' 'cmty'\n",
      " 'comel_inc' 'commuId' 'constr' 'daddr' 'den_fr' 'ens_lndry' 'fce' 'feat'\n",
      " 'gatp' 'gr' 'heat' 'heat_inc' 'hydro_inc' 'insur_bldg' 'kch' 'lat' 'lkr'\n",
      " 'lng' 'lp' 'mfee' 'onD' 'park_fac' 'pets' 'prkg_inc' 'prov' 'pstyl' 'ptp'\n",
      " 'ptype' 'ptype2' 'rltr' 'rms' 'saletp' 'schools' 'sqft' 'st' 'st_num'\n",
      " 'status' 'tax' 'taxyr' 'tbdrms' 'tgr' 'tv' 'uaddr' 'water_inc' 'zip'\n",
      " 'comm' 'depth' 'flt' 'la' 'laundry_lev' 'lst' 'offD' 'br_plus' 'la2' 'sp'\n",
      " 'unt' 'rmBltYr' 'rmSqft' 'all_inc' 'laundry' 'lpr' 'pvt_ent' 'bltYr'\n",
      " 'ptype2_l' 'pets_n' 'laundry_lev_n' 'flt_n' 'depth_n' 'tax_n' 'taxyr_n'\n",
      " 'built_yr_n' 'sqft_n' 'st_num_n' 'saletp_b' 'ConstrStone_b'\n",
      " 'ConstrInsul_b' 'ConstrWood_b' 'ConstrBoard_b' 'ConstrConc_b'\n",
      " 'ConstrStucco_b' 'ConstrVinyl_b' 'ConstrShing_b' 'ConstrAlum_b'\n",
      " 'ConstrMetal_b' 'ConstrBrick_b' 'ConstrOther_b' 'ConstrLog_b'\n",
      " 'featLevel_b' 'featTiled_b' 'featPlaceOfWorship_b' 'featTreed_b'\n",
      " 'featRolling_b' 'featBeach_b' 'featPark_b' 'featCampground_b'\n",
      " 'featSchool_b' 'featWaterfront_b' 'featEquestrian_b' 'featMarina_b'\n",
      " 'featRiverStream_b' 'featPublicTransit_b' 'featFencedYard_b'\n",
      " 'featLibrary_b' 'featGardenShed_b' 'featHospital_b' 'featPartCleared_b'\n",
      " 'featStuccoPlaster_b' 'featArtsCentre_b' 'featRecRm_b' 'featBush_b'\n",
      " 'featGeenbelt_b' 'featLakeBacklot_b' 'featLakePond_b'\n",
      " 'featMajorHighway_b' 'featOther_b' 'featWood_b' 'featCulDeSac_b'\n",
      " 'featLakeAccess_b' 'featSchoolBusRoute_b' 'featTerraced_b'\n",
      " 'featGreenbelt_b' 'featRecCentre_b' 'featElectricCarCharg_b'\n",
      " 'featClearView_b' 'featPlaceOfWorkship_b' 'featIsland_b' 'featPublic_b'\n",
      " 'featRavine_b' 'featSkiing_b' 'featSecuritySystem_b' 'featSloping_b'\n",
      " 'featGolf_b' 'bsmtUnFin_b' 'bsmtWU_b' 'bsmtY_b' 'bsmtHalf_b' 'bsmtNON_b'\n",
      " 'bsmtCrw_b' 'bsmtPrt_b' 'bsmtFin_b' 'bsmtSep_b' 'bsmtFull_b' 'bsmtSlab_b'\n",
      " 'bsmtApt_b' 'bsmtWO_b' 'acOther_b' 'acPart_b' 'acY_b' 'acNON_b'\n",
      " 'acCentral_b' 'GrOther_b' 'GrCovered_b' 'GrReserved_b' 'GrPlaza_b'\n",
      " 'GrSurface_b' 'GrNone_b' 'GrStreet_b' 'GrLane_b' 'GrInOut_b'\n",
      " 'GrAttached_b' 'GrPublic_b' 'GrSingleDetached_b' 'GrVisitor_b'\n",
      " 'GrValet_b' 'GrDoubleDetached_b' 'GrBoulevard_b' 'GrPay_b' 'GrCarport_b'\n",
      " 'GrUnderground_b' 'GrBuiltIn_b' 'GrDetached_b' 'lkrEnsuite_b'\n",
      " 'lkrCommon_b' 'lkrNone_b' 'lkrOwned_b' 'lkrExclusive_b' 'htCoil_b'\n",
      " 'htOilSteam_b' 'htPropane_b' 'htOutside_b' 'htStove_b' 'htDuctless_b'\n",
      " 'htWater_b' 'htForceAir_b' 'htForcedAir_b' 'htHeatPump_b' 'htSpace_b'\n",
      " 'htGravity_b' 'htOilForcedAir_b' 'htCentral_b' 'htBase_b' 'htGas_b'\n",
      " 'htWall_b' 'htRadiant_b' 'htSolar_b' 'htHRV_b' 'htFurnace_b'\n",
      " 'htOilHotWater_b' 'htBoiler_b' 'htFloor_b' 'htWood_b' 'htOverhead_b'\n",
      " 'htNone_b' 'htAir_b' 'htHotWater_b' 'htGround_b' 'htOther_b'\n",
      " 'fceUnknown_b' 'fceS_b' 'fceW_b' 'fceE_b' 'fceN_b' 'lndrySetUsage_b'\n",
      " 'lndryLower_b' 'lndryCoin_b' 'lndryShared_b' 'lndryNone_b'\n",
      " 'lndryEnsuite_b' 'lndryInArea_b' 'lndryMain_b' 'prkSurface_b' 'prkNone_b'\n",
      " 'prkPrivate_b' 'prkFacility_b' 'prkMutual_b' 'prkOther_b'\n",
      " 'prkUnderground_b' 'status_b' 'den_fr_b' 'ens_lndry_b' 'cac_inc_b'\n",
      " 'comel_inc_b' 'heat_inc_b' 'prkg_inc_b' 'hydro_inc_b' 'water_inc_b'\n",
      " 'insur_bldg_b' 'tv_b' 'all_inc_b' 'pvt_ent_b' 'lst_n' 'prov_n' 'area_n'\n",
      " 'city_n' 'cmty_n' 'st_n' 'zip_n' 'rltr_n' 'ptype2_l_n' 'pstyl_n' 'ptp_n'\n",
      " 'lat_n' 'lng_n' 'mfee_n' 'tbdrms_n' 'bdrms_n' 'br_plus_n' 'bthrms_n'\n",
      " 'kch_n' 'tgr_n' 'gr_n' 'lp_n' 'lpr_n' 'sp_n'] (274,)\n",
      "['ac' 'addr' 'area' 'bdrms' 'bsmt' 'bthrms' 'bths' 'cac_inc' 'city' 'cmty'\n",
      " 'comel_inc' 'commuId' 'constr' 'daddr' 'den_fr' 'ens_lndry' 'fce' 'feat'\n",
      " 'gatp' 'gr' 'heat' 'heat_inc' 'hydro_inc' 'insur_bldg' 'kch' 'lat' 'lkr'\n",
      " 'lng' 'lp' 'mfee' 'onD' 'park_fac' 'pets' 'prkg_inc' 'prov' 'pstyl' 'ptp'\n",
      " 'ptype' 'ptype2' 'rltr' 'rms' 'saletp' 'schools' 'sqft' 'st' 'st_num'\n",
      " 'status' 'tax' 'taxyr' 'tbdrms' 'tgr' 'tv' 'uaddr' 'water_inc' 'zip'\n",
      " 'comm' 'depth' 'flt' 'la' 'laundry_lev' 'lst' 'offD' 'br_plus' 'la2' 'sp'\n",
      " 'unt' 'rmBltYr' 'rmSqft' 'all_inc' 'laundry' 'lpr' 'pvt_ent' 'bltYr'\n",
      " 'ptype2_l' 'pets_n' 'laundry_lev_n' 'flt_n' 'depth_n' 'tax_n' 'taxyr_n'\n",
      " 'built_yr_n' 'sqft_n' 'st_num_n' 'saletp_b' 'ConstrStone_b'\n",
      " 'ConstrInsul_b' 'ConstrWood_b' 'ConstrBoard_b' 'ConstrConc_b'\n",
      " 'ConstrStucco_b' 'ConstrVinyl_b' 'ConstrShing_b' 'ConstrAlum_b'\n",
      " 'ConstrMetal_b' 'ConstrBrick_b' 'ConstrOther_b' 'ConstrLog_b'\n",
      " 'featLevel_b' 'featTiled_b' 'featPlaceOfWorship_b' 'featTreed_b'\n",
      " 'featRolling_b' 'featBeach_b' 'featPark_b' 'featCampground_b'\n",
      " 'featSchool_b' 'featWaterfront_b' 'featEquestrian_b' 'featMarina_b'\n",
      " 'featRiverStream_b' 'featPublicTransit_b' 'featFencedYard_b'\n",
      " 'featLibrary_b' 'featGardenShed_b' 'featHospital_b' 'featPartCleared_b'\n",
      " 'featStuccoPlaster_b' 'featArtsCentre_b' 'featRecRm_b' 'featBush_b'\n",
      " 'featGeenbelt_b' 'featLakeBacklot_b' 'featLakePond_b'\n",
      " 'featMajorHighway_b' 'featOther_b' 'featWood_b' 'featCulDeSac_b'\n",
      " 'featLakeAccess_b' 'featSchoolBusRoute_b' 'featTerraced_b'\n",
      " 'featGreenbelt_b' 'featRecCentre_b' 'featElectricCarCharg_b'\n",
      " 'featClearView_b' 'featPlaceOfWorkship_b' 'featIsland_b' 'featPublic_b'\n",
      " 'featRavine_b' 'featSkiing_b' 'featSecuritySystem_b' 'featSloping_b'\n",
      " 'featGolf_b' 'bsmtUnFin_b' 'bsmtWU_b' 'bsmtY_b' 'bsmtHalf_b' 'bsmtNON_b'\n",
      " 'bsmtCrw_b' 'bsmtPrt_b' 'bsmtFin_b' 'bsmtSep_b' 'bsmtFull_b' 'bsmtSlab_b'\n",
      " 'bsmtApt_b' 'bsmtWO_b' 'acOther_b' 'acPart_b' 'acY_b' 'acNON_b'\n",
      " 'acCentral_b' 'GrOther_b' 'GrCovered_b' 'GrReserved_b' 'GrPlaza_b'\n",
      " 'GrSurface_b' 'GrNone_b' 'GrStreet_b' 'GrLane_b' 'GrInOut_b'\n",
      " 'GrAttached_b' 'GrPublic_b' 'GrSingleDetached_b' 'GrVisitor_b'\n",
      " 'GrValet_b' 'GrDoubleDetached_b' 'GrBoulevard_b' 'GrPay_b' 'GrCarport_b'\n",
      " 'GrUnderground_b' 'GrBuiltIn_b' 'GrDetached_b' 'lkrEnsuite_b'\n",
      " 'lkrCommon_b' 'lkrNone_b' 'lkrOwned_b' 'lkrExclusive_b' 'htCoil_b'\n",
      " 'htOilSteam_b' 'htPropane_b' 'htOutside_b' 'htStove_b' 'htDuctless_b'\n",
      " 'htWater_b' 'htForceAir_b' 'htForcedAir_b' 'htHeatPump_b' 'htSpace_b'\n",
      " 'htGravity_b' 'htOilForcedAir_b' 'htCentral_b' 'htBase_b' 'htGas_b'\n",
      " 'htWall_b' 'htRadiant_b' 'htSolar_b' 'htHRV_b' 'htFurnace_b'\n",
      " 'htOilHotWater_b' 'htBoiler_b' 'htFloor_b' 'htWood_b' 'htOverhead_b'\n",
      " 'htNone_b' 'htAir_b' 'htHotWater_b' 'htGround_b' 'htOther_b'\n",
      " 'fceUnknown_b' 'fceS_b' 'fceW_b' 'fceE_b' 'fceN_b' 'lndrySetUsage_b'\n",
      " 'lndryLower_b' 'lndryCoin_b' 'lndryShared_b' 'lndryNone_b'\n",
      " 'lndryEnsuite_b' 'lndryInArea_b' 'lndryMain_b' 'prkSurface_b' 'prkNone_b'\n",
      " 'prkPrivate_b' 'prkFacility_b' 'prkMutual_b' 'prkOther_b'\n",
      " 'prkUnderground_b' 'status_b' 'den_fr_b' 'ens_lndry_b' 'cac_inc_b'\n",
      " 'comel_inc_b' 'heat_inc_b' 'prkg_inc_b' 'hydro_inc_b' 'water_inc_b'\n",
      " 'insur_bldg_b' 'tv_b' 'all_inc_b' 'pvt_ent_b' 'lst_n' 'prov_n' 'area_n'\n",
      " 'city_n' 'cmty_n' 'st_n' 'zip_n' 'rltr_n' 'ptype2_l_n' 'pstyl_n' 'ptp_n'\n",
      " 'lat_n' 'lng_n' 'mfee_n' 'tbdrms_n' 'bdrms_n' 'br_plus_n' 'bthrms_n'\n",
      " 'kch_n' 'tgr_n' 'gr_n' 'lp_n' 'lpr_n' 'sp_n'] (274,)\n"
     ]
    }
   ],
   "source": [
    "from base.util import print_all_columns\n",
    "print_all_columns(raw_data)\n",
    "print_all_columns(data1)\n",
    "print_all_columns(data2)"
   ]
  },
  {
   "cell_type": "code",
   "execution_count": null,
   "id": "3db5906f",
   "metadata": {},
   "outputs": [],
   "source": [
    "import pandas as pd\n",
    "m = pd.DataFrame({'A':['m','n','o','o','n','n'],'B':[2,4,6,1,1,2]})\n",
    "m_index = m['A'].value_counts().index\n",
    "m_values = range(1,len(m_index)+1)\n",
    "print(dict(zip(m_index,m_index)))\n",
    "def check(row):\n",
    "    return row['A'] == 'm'\n",
    "m.drop(m.index[check(m)])\n",
    "def dupRow(row):\n",
    "    return (row['B'],row['A'])\n",
    "n = m.apply(lambda row:dupRow(row), axis=1)\n",
    "n = pd.DataFrame(list(n))\n",
    "print(n)\n",
    "m.loc[:,['C','D']] = n\n",
    "print(mm)"
   ]
  },
  {
   "cell_type": "code",
   "execution_count": 1,
   "id": "92f8e05d",
   "metadata": {},
   "outputs": [
    {
     "name": "stdout",
     "output_type": "stream",
     "text": [
      "     c    n\n",
      "0  0.0  3.0\n",
      "1  NaN  3.0\n",
      "2  0.0  NaN\n"
     ]
    }
   ],
   "source": [
    "import pandas as pd\n",
    "df = pd.DataFrame(0, index=[0,1,2], columns=['a','b','c'])\n",
    "df['n'] = 3\n",
    "df.loc[1,'c'] = None\n",
    "df.loc[2,'n'] = None\n",
    "print(df.loc[:,['c','n']])"
   ]
  },
  {
   "cell_type": "code",
   "execution_count": 8,
   "id": "faaab095",
   "metadata": {},
   "outputs": [
    {
     "name": "stdout",
     "output_type": "stream",
     "text": [
      "0    0.0\n",
      "1    NaN\n",
      "2    0.0\n",
      "Name: c, dtype: float64\n",
      "0    3.0\n",
      "1    3.0\n",
      "2    NaN\n",
      "Name: n, dtype: float64\n",
      "0    3\n",
      "1    3\n",
      "2    0\n",
      "dtype: int64\n",
      "0    0.0\n",
      "1    NaN\n",
      "2    0.0\n",
      "Name: c, dtype: float64\n",
      "0    3.0\n",
      "1    3.0\n",
      "2    NaN\n",
      "Name: n, dtype: float64\n"
     ]
    }
   ],
   "source": [
    "from math import isnan\n",
    "y = df['c']\n",
    "x = df.loc[:,'n']\n",
    "print(y)\n",
    "print(x)\n",
    "def select(a,b):\n",
    "    if (a is not None) and (not isnan(a)):\n",
    "        return a\n",
    "    return b\n",
    "z = x.combine(y,select).astype(int)\n",
    "print(z)\n",
    "print(y)\n",
    "print(x)"
   ]
  },
  {
   "cell_type": "code",
   "execution_count": 10,
   "id": "d80de858",
   "metadata": {},
   "outputs": [
    {
     "name": "stdout",
     "output_type": "stream",
     "text": [
      "NAN\n",
      "NAN\n"
     ]
    },
    {
     "data": {
      "text/html": [
       "<div>\n",
       "<style scoped>\n",
       "    .dataframe tbody tr th:only-of-type {\n",
       "        vertical-align: middle;\n",
       "    }\n",
       "\n",
       "    .dataframe tbody tr th {\n",
       "        vertical-align: top;\n",
       "    }\n",
       "\n",
       "    .dataframe thead th {\n",
       "        text-align: right;\n",
       "    }\n",
       "</style>\n",
       "<table border=\"1\" class=\"dataframe\">\n",
       "  <thead>\n",
       "    <tr style=\"text-align: right;\">\n",
       "      <th></th>\n",
       "      <th>a</th>\n",
       "      <th>b</th>\n",
       "      <th>c</th>\n",
       "      <th>n</th>\n",
       "      <th>m</th>\n",
       "      <th>st_num_st_n</th>\n",
       "    </tr>\n",
       "  </thead>\n",
       "  <tbody>\n",
       "    <tr>\n",
       "      <th>0</th>\n",
       "      <td>0</td>\n",
       "      <td>0</td>\n",
       "      <td>0.0</td>\n",
       "      <td>3.0</td>\n",
       "      <td>0</td>\n",
       "      <td>100003.0</td>\n",
       "    </tr>\n",
       "    <tr>\n",
       "      <th>1</th>\n",
       "      <td>0</td>\n",
       "      <td>0</td>\n",
       "      <td>NaN</td>\n",
       "      <td>3.0</td>\n",
       "      <td>0</td>\n",
       "      <td>NaN</td>\n",
       "    </tr>\n",
       "    <tr>\n",
       "      <th>2</th>\n",
       "      <td>0</td>\n",
       "      <td>0</td>\n",
       "      <td>0.0</td>\n",
       "      <td>NaN</td>\n",
       "      <td>0</td>\n",
       "      <td>NaN</td>\n",
       "    </tr>\n",
       "  </tbody>\n",
       "</table>\n",
       "</div>"
      ],
      "text/plain": [
       "   a  b    c    n  m  st_num_st_n\n",
       "0  0  0  0.0  3.0  0     100003.0\n",
       "1  0  0  NaN  3.0  0          NaN\n",
       "2  0  0  0.0  NaN  0          NaN"
      ]
     },
     "execution_count": 10,
     "metadata": {},
     "output_type": "execute_result"
    }
   ],
   "source": [
    "from math import isnan\n",
    "df['m'] = 0\n",
    "X=df\n",
    "for i, row in X.iterrows():\n",
    "    st = row['c']\n",
    "    st_num = row['n']\n",
    "    if isnan(st) or isnan(st_num):\n",
    "        print('NAN')\n",
    "    X.loc[i,'st_num_st_n'] = (st + 1) * 100000 + st_num\n",
    "X"
   ]
  },
  {
   "cell_type": "code",
   "execution_count": 13,
   "id": "d4247dc3",
   "metadata": {},
   "outputs": [
    {
     "name": "stdout",
     "output_type": "stream",
     "text": [
      "None\n",
      "['b', 'c', 'n', 'm', 'st_num_st_n']\n"
     ]
    }
   ],
   "source": [
    "cols = list(X.columns)\n",
    "print(cols.remove('a'))\n",
    "print(cols)"
   ]
  },
  {
   "cell_type": "code",
   "execution_count": 14,
   "id": "1e251f74",
   "metadata": {},
   "outputs": [
    {
     "name": "stdout",
     "output_type": "stream",
     "text": [
      "[1, 2, 3]\n"
     ]
    }
   ],
   "source": [
    "a = [1,3,2]\n",
    "a.sort()\n",
    "print(a)"
   ]
  },
  {
   "cell_type": "code",
   "execution_count": null,
   "id": "faad49bc",
   "metadata": {},
   "outputs": [],
   "source": [
    "import re\n",
    "reAllNumber = re.compile(r'^\\s*\\d+(?:\\.\\d+)?\\s*$')\n",
    "import math\n",
    "def numberSelector(value:str or float or int):\n",
    "    if isinstance(value, str) and reAllNumber.match(value):\n",
    "        return float(value)\n",
    "    if (isinstance(value, float) or isinstance(value, int)) and not math.isnan(value):\n",
    "        return float(value)\n",
    "    return None\n",
    "from transformer.select_col import SelectColumnTransformer\n",
    "tt = SelectColumnTransformer(\n",
    "                new_col='built_yr_n', columns=['bltYr', 'rmBltYr'], func=numberSelector, as_na_value=None)\n",
    "data3 = data2.loc[0:100,:]\n",
    "data4 = tt.transform(data3)\n",
    "print(data4)"
   ]
  },
  {
   "cell_type": "code",
   "execution_count": 60,
   "id": "20046d1c",
   "metadata": {},
   "outputs": [
    {
     "name": "stdout",
     "output_type": "stream",
     "text": [
      "[{'t': 1, 'l': 'Main', 'p': 2}, {'t': 1, 'l': '2nd', 'p': 4}, {'t': 1, 'l': '2nd', 'p': 3}]\n",
      "[{'t': 1, 'l': 'Upper', 'p': 3}, {'t': 1, 'l': 'Main', 'p': 2}]\n",
      "[{'t': 2, 'l': '2nd', 'p': 4}, {'t': 1, 'l': 'Main', 'p': 2}]\n",
      "[{'t': 1, 'l': 'Main', 'p': 4}]\n",
      "[{'t': 1, 'l': 'Main', 'p': 2}, {'t': 1, 'l': '2nd', 'p': 4}, {'t': 1, 'l': 'Bsmt', 'p': 3}]\n",
      "[{'t': 1, 'l': 'Main', 'p': 4}, {'t': 1, 'l': 'Main', 'p': 3}]\n",
      "[{'t': 3, 'l': None, 'p': 5}]\n",
      "[{'t': 1, 'l': 'Bsmt', 'p': 4}]\n",
      "[{'t': 1, 'l': 'Main', 'p': 2}, {'t': 1, 'l': '2nd', 'p': 4}, {'t': 1, 'l': '3rd', 'p': 5}]\n",
      "[{'t': 1, 'l': 'Main', 'p': 2}, {'t': 1, 'l': '2nd', 'p': 3}, {'t': 1, 'l': '2nd', 'p': 4}]\n",
      "[{'t': 1, 'l': 'Main', 'p': 2}, {'t': 1, 'l': 'Upper', 'p': 4}]\n"
     ]
    }
   ],
   "source": [
    "for index in data2.loc[0:10,'bths']:\n",
    "    print(index)"
   ]
  },
  {
   "cell_type": "code",
   "execution_count": 9,
   "id": "516eb095",
   "metadata": {},
   "outputs": [
    {
     "name": "stdout",
     "output_type": "stream",
     "text": [
      "7305\n"
     ]
    }
   ],
   "source": [
    "import datetime\n",
    "DATE_20000101 = datetime.datetime(2000, 1, 1, 0, 0)\n",
    "\n",
    "def daysFrom2k(_, dayNum):\n",
    "    dayNum = int(dayNum)\n",
    "    day = dayNum % 100\n",
    "    year = dayNum // 10000\n",
    "    month = (dayNum // 100) - (year * 100)\n",
    "    date = datetime.datetime(year, month, day, 0, 0)\n",
    "    return abs((date - DATE_20000101).days)\n",
    "\n",
    "print(daysFrom2k(0,20200101.0))"
   ]
  }
 ],
 "metadata": {
  "kernelspec": {
   "display_name": "Python 3 (ipykernel)",
   "language": "python",
   "name": "python3"
  },
  "language_info": {
   "codemirror_mode": {
    "name": "ipython",
    "version": 3
   },
   "file_extension": ".py",
   "mimetype": "text/x-python",
   "name": "python",
   "nbconvert_exporter": "python",
   "pygments_lexer": "ipython3",
   "version": "3.9.7"
  }
 },
 "nbformat": 4,
 "nbformat_minor": 5
}
