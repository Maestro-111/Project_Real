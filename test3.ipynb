{
 "cells": [
  {
   "cell_type": "code",
   "execution_count": 1,
   "id": "f81847c6",
   "metadata": {},
   "outputs": [
    {
     "name": "stderr",
     "output_type": "stream",
     "text": [
      "DEBUG:root:test\n"
     ]
    },
    {
     "name": "stdout",
     "output_type": "stream",
     "text": [
      "/Users/fred/work/cfglocal/built/base.py\n"
     ]
    }
   ],
   "source": [
    "import pandas as pd\n",
    "import numpy as np\n",
    "import os\n",
    "os.environ['DEBUG'] = 'True'\n",
    "os.environ[\"RMBASE_FILE_PYTHON\"] = \"/Users/fred/work/cfglocal/built/base.py\"\n",
    "print(os.environ['RMBASE_FILE_PYTHON'])\n",
    "import logging\n",
    "logger = logging.getLogger()\n",
    "logger.setLevel(logging.DEBUG)\n",
    "logging.debug(\"test\")"
   ]
  },
  {
   "cell_type": "code",
   "execution_count": null,
   "id": "6650e8b7",
   "metadata": {},
   "outputs": [],
   "source": [
    "%load_ext autoreload\n",
    "%reload_ext autoreload"
   ]
  },
  {
   "cell_type": "code",
   "execution_count": 2,
   "id": "bce93e47",
   "metadata": {},
   "outputs": [
    {
     "name": "stderr",
     "output_type": "stream",
     "text": [
      "DEBUG:root:root logger created\n",
      "DEBUG:mongo.py:connect to DB\n",
      "DEBUG:matplotlib:matplotlib data path: /opt/anaconda3/lib/python3.9/site-packages/matplotlib/mpl-data\n",
      "DEBUG:matplotlib:CONFIGDIR=/Users/fred/.matplotlib\n",
      "DEBUG:matplotlib:matplotlib version 3.4.3\n",
      "DEBUG:matplotlib:interactive is False\n",
      "DEBUG:matplotlib:platform is darwin\n",
      "DEBUG:matplotlib:loaded modules: ['sys', 'builtins', '_frozen_importlib', '_imp', '_thread', '_warnings', '_weakref', '_io', 'marshal', 'posix', '_frozen_importlib_external', 'time', 'zipimport', '_codecs', 'codecs', 'encodings.aliases', 'encodings', 'encodings.utf_8', '_signal', 'encodings.latin_1', '_abc', 'abc', 'io', '__main__', '_stat', 'stat', '_collections_abc', 'genericpath', 'posixpath', 'os.path', 'os', '_sitebuiltins', '_locale', '_bootlocale', 'types', 'importlib._bootstrap', 'importlib._bootstrap_external', 'warnings', 'importlib', 'importlib.machinery', '_heapq', 'heapq', 'itertools', 'keyword', '_operator', 'operator', 'reprlib', '_collections', 'collections', 'collections.abc', '_functools', 'functools', 'contextlib', 'enum', '_sre', 'sre_constants', 'sre_parse', 'sre_compile', 'copyreg', 're', 'typing.io', 'typing.re', 'typing', 'importlib.abc', 'importlib.util', 'google', 'mpl_toolkits', 'sphinxcontrib', 'zope', 'site', '_weakrefset', 'weakref', 'pkgutil', 'runpy', 'ipykernel._version', '_json', 'json.scanner', 'json.decoder', 'json.encoder', 'json', 'errno', 'signal', 'threading', 'pwd', 'grp', '_posixsubprocess', 'select', 'math', 'selectors', 'subprocess', 'jupyter_client._version', 'fnmatch', 'glob', '_socket', 'array', 'socket', 'zlib', '_compression', '_bz2', 'bz2', '_lzma', 'lzma', 'shutil', '_bisect', 'bisect', '_random', '_sha512', 'random', 'tempfile', 'termios', 'getpass', 'platform', '_ctypes', '_struct', 'struct', 'ctypes._endian', 'ctypes', 'zmq.backend.select', 'cython_runtime', 'zmq.backend.cython.constants', '_cython_0_29_24', 'zmq.backend.cython.error', 'zmq.error', 'zmq.backend.cython.message', 'zmq.backend.cython.context', 'copy', '_compat_pickle', '_pickle', 'pickle', 'zmq.backend.cython.socket', 'zmq.backend.cython.utils', 'zmq.backend.cython._poll', 'zmq.backend.cython._version', 'zmq.backend.cython._device', 'zmq.backend.cython._proxy_steerable', 'zmq.backend.cython', 'zmq.backend', 'zmq.utils', 'zmq.utils.constant_names', 'zmq.sugar.constants', 'atexit', 'zmq.sugar.attrsettr', 'zmq.sugar.poll', 'zmq.utils.jsonapi', 'zmq.utils.strtypes', 'zmq.sugar.socket', 'zmq.sugar.context', 'zmq.sugar.frame', 'zmq.sugar.tracker', 'zmq.sugar.version', 'zmq.sugar.stopwatch', 'zmq.sugar', 'zmq', '_ast', 'ast', '_opcode', 'opcode', 'dis', 'token', 'tokenize', 'linecache', 'inspect', 'traitlets.utils', 'traitlets.utils.getargspec', 'traitlets.utils.importstring', 'traitlets.utils.sentinel', 'traitlets.utils.bunch', 'traitlets.utils.descriptions', 'traitlets.traitlets', 'traitlets.utils.decorators', 'traitlets._version', 'traitlets', 'traceback', '_string', 'string', 'logging', 'pprint', 'gettext', 'argparse', 'traitlets.config.loader', 'textwrap', 'traitlets.utils.text', 'traitlets.config.configurable', 'traitlets.config.application', 'traitlets.config', 'jupyter_client.localinterfaces', 'jupyter_core.version', 'jupyter_core', 'ntpath', 'urllib', 'urllib.parse', 'pathlib', 'jupyter_core.paths', 'jupyter_client.utils', 'jupyter_client.connect', 'traitlets.log', 'jupyter_client.launcher', 'concurrent', 'concurrent.futures._base', 'concurrent.futures', '_ssl', 'binascii', 'base64', 'ssl', 'asyncio.constants', 'asyncio.format_helpers', 'asyncio.base_futures', 'asyncio.log', 'asyncio.coroutines', '_contextvars', 'contextvars', 'asyncio.exceptions', 'asyncio.base_tasks', '_asyncio', 'asyncio.events', 'asyncio.futures', 'asyncio.protocols', 'asyncio.transports', 'asyncio.sslproto', 'asyncio.locks', 'asyncio.tasks', 'asyncio.staggered', 'asyncio.trsock', 'asyncio.base_events', 'asyncio.runners', 'asyncio.queues', 'asyncio.streams', 'asyncio.subprocess', 'asyncio.threads', 'asyncio.base_subprocess', 'asyncio.selector_events', 'asyncio.unix_events', 'asyncio', 'jupyter_client.channelsabc', 'jupyter_client.channels', 'jupyter_client.clientabc', 'jupyter_client.client', 'jupyter_client.kernelspec', 'jupyter_client.managerabc', 'jupyter_client.manager', '_queue', 'queue', 'jupyter_client.blocking.channels', 'jupyter_client.blocking.client', 'jupyter_client.blocking', 'zmq._future', 'zmq.asyncio', 'jupyter_client.asynchronous.channels', 'jupyter_client.asynchronous.client', 'jupyter_client.asynchronous', '_uuid', 'uuid', 'jupyter_client.multikernelmanager', 'jupyter_client', 'ipykernel.connect', 'ipykernel', 'tornado', '_datetime', 'datetime', 'numbers', 'logging.handlers', 'html.entities', 'html', 'tornado.speedups', 'tornado.util', 'tornado.escape', 'colorama.ansi', 'colorama.win32', 'colorama.winterm', 'colorama.ansitowin32', 'colorama.initialise', 'colorama', '_curses', 'curses', 'tornado.log', 'tornado.concurrent', 'tornado.ioloop', '__future__', 'tornado.platform', 'tornado.gen', 'tornado.platform.asyncio', 'zmq.eventloop.ioloop', 'zmq.eventloop', 'zmq.eventloop.zmqstream', 'IPython.core', 'IPython.core.getipython', 'IPython.core.release', 'sysconfig', '_sysconfigdata__darwin_darwin', '_osx_support', 'pydoc', 'bdb', 'IPython.utils', 'IPython.utils.ipstruct', 'IPython.utils.coloransi', 'pygments', 'IPython.utils.colorable', 'IPython.utils.PyColorize', 'locale', 'IPython.utils.encoding', 'IPython.utils.py3compat', 'IPython.core.excolors', 'IPython.testing', 'IPython.testing.skipdoctest', 'cmd', 'codeop', 'code', 'pdb', 'IPython.core.debugger', 'IPython.core.display_trap', 'pexpect.exceptions', 'pexpect.utils', 'pexpect.expect', 'tty', 'pty', 'fcntl', 'resource', 'ptyprocess.util', 'ptyprocess.ptyprocess', 'ptyprocess', 'pexpect.spawnbase', 'pexpect.pty_spawn', 'pexpect.run', 'pexpect', 'shlex', 'IPython.utils._process_common', 'IPython.utils._process_posix', 'IPython.utils.process', 'IPython.utils.decorators', 'IPython.utils.path', 'IPython.utils.data', 'IPython.utils.terminal', 'IPython.core.ultratb', 'IPython.utils._sysinfo', 'IPython.utils.sysinfo', 'IPython.core.crashhandler', 'IPython.utils.importstring', 'IPython.paths', 'IPython.core.profiledir', 'IPython.core.application', 'IPython.terminal', '_hashlib', '_blake2', 'hashlib', 'IPython.core.compilerop', 'IPython.core.error', 'IPython.utils.text', 'IPython.core.magic_arguments', 'getopt', 'mimetypes', 'IPython.core.display', 'IPython.core.page', 'IPython.lib.security', 'IPython.lib', 'IPython.lib.pretty', 'IPython.utils.openpy', 'IPython.utils.dir2', 'IPython.utils.wildcard', 'pygments.lexers._mapping', 'pygments.modeline', 'pygments.plugin', 'pygments.util', 'pygments.lexers', 'pygments.filter', 'pygments.token', 'pygments.filters', 'pygments.regexopt', 'pygments.lexer', 'pygments.unistring', 'pygments.lexers.python', 'pygments.formatters._mapping', 'pygments.formatters', 'pygments.styles', 'pygments.formatter', 'pygments.formatters.html', 'IPython.core.oinspect', 'IPython.core.inputtransformer2', 'decorator', 'IPython.core.magic', 'pickleshare', 'IPython.core.autocall', 'IPython.core.macro', 'IPython.core.splitinput', 'IPython.core.prefilter', 'IPython.core.alias', 'IPython.core.builtin_trap', 'backcall.backcall', 'backcall', 'IPython.core.events', 'IPython.core.displayhook', 'IPython.core.displaypub', 'IPython.core.extensions', 'IPython.utils.sentinel', 'IPython.core.formatters', '_sqlite3', 'sqlite3.dbapi2', 'sqlite3', 'IPython.core.history', 'IPython.core.logger', 'IPython.core.payload', 'IPython.core.usage', 'IPython.lib.display', 'IPython.display', 'IPython.utils.capture', 'IPython.utils.io', 'IPython.core.hooks', 'IPython.utils.strdispatch', 'IPython.utils.syspathcontext', 'IPython.utils.tempdir', 'IPython.utils.contexts', 'IPython.core.async_helpers', 'IPython.core.interactiveshell', 'prompt_toolkit.application.current', 'prompt_toolkit.eventloop.utils', 'prompt_toolkit.eventloop.async_generator', 'wcwidth.table_wide', 'wcwidth.table_zero', 'wcwidth.unicode_versions', 'wcwidth.wcwidth', 'wcwidth', 'prompt_toolkit.utils', 'prompt_toolkit.eventloop.inputhook', 'prompt_toolkit.eventloop', 'prompt_toolkit.application.run_in_terminal', 'prompt_toolkit.selection', 'prompt_toolkit.clipboard.base', 'prompt_toolkit.clipboard.in_memory', 'prompt_toolkit.clipboard', 'prompt_toolkit.cache', 'prompt_toolkit.enums', 'prompt_toolkit.filters.base', 'prompt_toolkit.filters.app', 'prompt_toolkit.filters.cli', 'prompt_toolkit.filters.utils', 'prompt_toolkit.filters', 'prompt_toolkit.document', 'prompt_toolkit.auto_suggest', 'prompt_toolkit.data_structures', 'prompt_toolkit.styles.base', 'prompt_toolkit.styles.named_colors', 'prompt_toolkit.styles.style', 'prompt_toolkit.styles.defaults', 'prompt_toolkit.styles.pygments', 'colorsys', 'prompt_toolkit.styles.style_transformation', 'prompt_toolkit.styles', 'prompt_toolkit.output.color_depth', 'prompt_toolkit.output.base', 'prompt_toolkit.output.defaults', 'prompt_toolkit.output', 'prompt_toolkit.output.vt100', 'prompt_toolkit.mouse_events', 'prompt_toolkit.formatted_text.base', 'prompt_toolkit.formatted_text.ansi', 'xml', 'xml.dom.domreg', 'xml.dom', 'xml.dom.minicompat', 'xml.dom.NodeFilter', 'xml.dom.xmlbuilder', 'xml.dom.minidom', 'prompt_toolkit.formatted_text.html', 'prompt_toolkit.formatted_text.pygments', 'prompt_toolkit.formatted_text.utils', 'prompt_toolkit.formatted_text', 'prompt_toolkit.completion.base', 'prompt_toolkit.completion.deduplicate', 'prompt_toolkit.completion.filesystem', 'prompt_toolkit.completion.word_completer', 'prompt_toolkit.completion.fuzzy_completer', 'prompt_toolkit.completion.nested', 'prompt_toolkit.completion', 'prompt_toolkit.history', 'prompt_toolkit.keys', 'prompt_toolkit.key_binding.key_bindings', 'prompt_toolkit.key_binding.key_processor', 'prompt_toolkit.key_binding', 'prompt_toolkit.key_binding.vi_state', 'prompt_toolkit.search', 'prompt_toolkit.validation', 'prompt_toolkit.buffer', 'prompt_toolkit.input.base', 'prompt_toolkit.input.defaults', 'prompt_toolkit.input', 'prompt_toolkit.input.typeahead', 'prompt_toolkit.key_binding.bindings', 'prompt_toolkit.key_binding.bindings.scroll', 'prompt_toolkit.key_binding.bindings.page_navigation', 'prompt_toolkit.lexers.base', 'prompt_toolkit.lexers.pygments', 'prompt_toolkit.lexers', 'prompt_toolkit.layout.utils', 'prompt_toolkit.layout.processors', 'prompt_toolkit.layout.controls', 'prompt_toolkit.layout.dimension', 'prompt_toolkit.layout.margins', 'prompt_toolkit.layout.mouse_handlers', 'prompt_toolkit.layout.screen', 'prompt_toolkit.layout.containers', 'prompt_toolkit.layout.layout', 'prompt_toolkit.layout.menus', 'prompt_toolkit.layout.scrollable_pane', 'prompt_toolkit.layout', 'prompt_toolkit.key_binding.bindings.completion', 'prompt_toolkit.key_binding.bindings.named_commands', 'prompt_toolkit.key_binding.bindings.basic', 'prompt_toolkit.key_binding.bindings.cpr', 'prompt_toolkit.key_binding.bindings.emacs', 'prompt_toolkit.key_binding.bindings.mouse', 'prompt_toolkit.input.ansi_escape_sequences', 'prompt_toolkit.input.vt100_parser', 'prompt_toolkit.key_binding.digraphs', 'prompt_toolkit.key_binding.bindings.vi', 'prompt_toolkit.key_binding.defaults', 'prompt_toolkit.key_binding.emacs_state', 'prompt_toolkit.layout.dummy', 'prompt_toolkit.renderer', 'prompt_toolkit.application.application', 'prompt_toolkit.application.dummy', 'prompt_toolkit.application', 'prompt_toolkit.key_binding.bindings.focus', 'prompt_toolkit.widgets.toolbars', 'prompt_toolkit.widgets.base', 'prompt_toolkit.widgets.dialogs', 'prompt_toolkit.widgets.menus', 'prompt_toolkit.widgets', 'prompt_toolkit.shortcuts.dialogs', 'prompt_toolkit.shortcuts.progress_bar.formatters', 'prompt_toolkit.shortcuts.progress_bar.base', 'prompt_toolkit.shortcuts.progress_bar', 'prompt_toolkit.key_binding.bindings.auto_suggest', 'prompt_toolkit.key_binding.bindings.open_in_editor', 'prompt_toolkit.shortcuts.prompt', 'prompt_toolkit.shortcuts.utils', 'prompt_toolkit.shortcuts', 'prompt_toolkit', 'prompt_toolkit.patch_stdout', 'pygments.style', 'unicodedata', 'IPython.core.latex_symbols', 'IPython.utils.generics', 'parso.utils', 'parso.tree', 'parso.python', 'parso.python.token', 'parso.python.tokenize', 'parso.pgen2.grammar_parser', 'parso.pgen2.generator', 'parso.pgen2', 'parso.parser', 'parso._compatibility', 'difflib', 'parso.python.prefix', 'parso.python.tree', 'parso.python.parser', 'parso.python.diff', 'gc', 'parso.cache', 'parso.normalizer', 'parso.python.errors', 'parso.python.pep8', 'parso.file_io', 'parso.grammar', 'parso', 'jedi._compatibility', 'jedi.parser_utils', 'jedi.debug', 'jedi.settings', 'jedi.cache', 'jedi.file_io', 'jedi.inference.cache', 'jedi.inference.helpers', 'jedi.inference.utils', 'jedi.inference.base_value', 'jedi.inference.sys_path', 'jedi.inference.recursion', 'jedi.inference.flow_analysis', 'jedi.common', 'jedi.inference.lazy_value', 'jedi.inference.docstrings', 'jedi.plugins', 'jedi.inference.names', 'jedi.inference.filters', 'jedi.inference.compiled.getattr_static', 'jedi.inference.compiled.access', 'jedi.inference.signature', 'jedi.inference.context', 'jedi.inference.compiled.value', 'jedi.inference.compiled', 'jedi.inference.analysis', 'jedi.inference.gradual', 'jedi.inference.value.module', 'jedi.inference.value.dynamic_arrays', 'jedi.inference.value.iterable', 'jedi.inference.arguments', 'jedi.inference.parser_cache', 'jedi.inference.gradual.generics', 'jedi.inference.value.function', 'jedi.inference.value.klass', 'jedi.inference.value.instance', 'jedi.inference.value', 'jedi.inference.gradual.base', 'jedi.inference.gradual.type_var', 'jedi.inference.gradual.typing', 'jedi.inference.gradual.stub_value', 'jedi.inference.gradual.typeshed', 'jedi.inference.compiled.subprocess.functions', 'jedi.api.exceptions', 'jedi.inference.compiled.subprocess', 'jedi.inference.imports', 'jedi.inference.param', 'jedi.inference.gradual.annotation', 'jedi.inference.value.decorator', 'jedi.inference.syntax_tree', 'jedi.inference', 'jedi.inference.gradual.conversion', 'jedi.inference.compiled.mixed', 'pydoc_data', 'pydoc_data.topics', 'jedi.api.keywords', 'jedi.api.completion_cache', 'jedi.api.helpers', 'jedi.api.classes', 'jedi.api.interpreter', 'jedi.api.strings', 'jedi.api.file_name', 'jedi.api.completion', 'filecmp', 'jedi.api.environment', 'jedi.inference.references', 'jedi.api.project', 'jedi.api.errors', 'jedi.api.refactoring', 'jedi.api.refactoring.extract', 'jedi.inference.gradual.utils', 'jedi.api', 'jedi.plugins.stdlib', 'jedi.plugins.flask', 'jedi.plugins.pytest', 'jedi.plugins.django', 'jedi.plugins.registry', 'jedi', 'IPython.core.completer', 'IPython.terminal.ptutils', 'IPython.terminal.shortcuts', 'IPython.terminal.debugger', 'IPython.lib.clipboard', 'IPython.terminal.magics', 'IPython.terminal.pt_inputhooks', 'IPython.terminal.prompts', 'IPython.terminal.interactiveshell', 'IPython.core.magics.auto', 'IPython.core.magics.basic', 'email', 'http', 'email.errors', 'email.quoprimime', 'email.base64mime', 'quopri', 'email.encoders', 'email.charset', 'email.header', 'calendar', 'email._parseaddr', 'email.utils', 'email._policybase', 'email.feedparser', 'email.parser', 'uu', 'email._encoded_words', 'email.iterators', 'email.message', 'http.client', 'urllib.response', 'urllib.error', '_scproxy', 'urllib.request', 'IPython.core.magics.code', 'IPython.core.magics.config', 'IPython.core.magics.display', 'timeit', '_lsprof', 'profile', 'cProfile', 'dataclasses', 'pstats', 'IPython.utils.module_paths', 'IPython.utils.timing', 'IPython.core.magics.execution', 'IPython.core.magics.extension', 'IPython.core.magics.history', 'IPython.core.magics.logging', 'IPython.core.magics.namespace', 'IPython.core.magics.osm', 'IPython.core.magics.packaging', 'IPython.core.pylabtools', 'IPython.core.magics.pylab', 'IPython.lib.backgroundjobs', 'IPython.core.magics.script', 'IPython.core.magics', 'IPython.core.shellapp', 'IPython.extensions', 'IPython.extensions.storemagic', 'IPython.terminal.ipapp', 'IPython.terminal.embed', 'IPython.utils.frame', 'IPython', 'ipython_genutils._version', 'ipython_genutils', 'ipython_genutils.encoding', 'ipython_genutils.py3compat', 'ipython_genutils.path', 'imp', 'hmac', 'dateutil._version', 'dateutil', 'six', '_decimal', 'decimal', 'dateutil._common', 'dateutil.relativedelta', 'six.moves', 'dateutil.tz._common', 'dateutil.tz._factories', 'dateutil.tz.tz', 'dateutil.tz', 'dateutil.parser._parser', 'dateutil.parser.isoparser', 'dateutil.parser', '_strptime', 'jupyter_client.jsonutil', 'jupyter_client.adapter', 'jupyter_client.session', 'ipykernel.iostream', 'ipykernel.control', 'ipykernel.heartbeat', 'IPython.utils.tokenutil', 'tornado.locks', 'tornado.queues', 'ipykernel.jsonutil', 'ipykernel.kernelbase', 'ipykernel.comm.comm', 'ipykernel.comm.manager', 'ipykernel.comm', 'IPython.core.payloadpage', 'ipykernel.displayhook', 'ipykernel.zmqshell', 'distutils', 'distutils.version', 'ipykernel.eventloops', 'ipykernel.compiler', 'debugpy._version', 'debugpy.common', 'debugpy.common.json', 'debugpy.common.fmt', 'debugpy.common.compat', 'debugpy', 'debugpy._vendored._util', 'debugpy._vendored', '_pydevd_bundle', 'encodings.ascii', 'stringprep', 'encodings.idna', '_pydevd_bundle.pydevd_vm_type', '_pydev_imps', 'xmlrpc', 'xml.parsers', 'pyexpat.errors', 'pyexpat.model', 'pyexpat', 'xml.parsers.expat.model', 'xml.parsers.expat.errors', 'xml.parsers.expat', 'gzip', 'xmlrpc.client', 'socketserver', 'http.server', 'xmlrpc.server', '_pydev_imps._pydev_saved_modules', '_pydevd_bundle.pydevd_constants', '_pydev_bundle', '_pydev_runfiles', '_pydevd_frame_eval', 'pydev_ipython', 'pydevd_concurrency_analyser', 'zipfile', 'plistlib', 'pkg_resources.extern', 'pkg_resources._vendor', 'pkg_resources._vendor.appdirs', 'pkg_resources.extern.appdirs', 'pkg_resources._vendor.packaging.__about__', 'pkg_resources._vendor.packaging', 'pkg_resources.extern.packaging', 'pkg_resources.extern.packaging._structures', 'pkg_resources.extern.packaging._typing', 'pkg_resources.extern.packaging.version', 'pkg_resources.extern.packaging._compat', 'pkg_resources.extern.packaging.utils', 'pkg_resources.extern.packaging.specifiers', 'pkg_resources._vendor.pyparsing', 'pkg_resources.extern.pyparsing', 'pkg_resources.extern.packaging.markers', 'pkg_resources.extern.packaging.requirements', 'encodings.cp437', 'pkg_resources', 'pydevd_plugins', '_pydev_bundle.pydev_log', '_pydev_bundle._pydev_filesystem_encoding', '_pydevd_bundle.pydevd_comm_constants', 'pydevd_file_utils', '_pydev_imps._pydev_execfile', '_pydevd_bundle.pydevd_exec2', '_pydev_bundle.pydev_imports', '_pydev_bundle.pydev_is_thread_alive', '_pydev_bundle.pydev_override', 'pydevd_plugins.extensions', '_pydevd_bundle.pydevd_extension_utils', '_pydevd_bundle.pydevd_frame_utils', '_pydevd_bundle.pydevd_filtering', '_pydevd_bundle.pydevd_io', '_pydevd_bundle.pydevd_utils', '_pydev_bundle._pydev_tipper_common', '_pydev_bundle._pydev_imports_tipper', '_pydev_bundle._pydev_calltip_util', '_pydevd_bundle.pydevd_safe_repr', '_pydevd_bundle.pydevd_resolver', '_pydevd_bundle.pydevd_extension_api', '_pydevd_bundle.pydevd_xml', '_pydevd_bundle.pydevd_dont_trace', '_pydevd_frame_eval.vendored', '_pydevd_frame_eval.vendored.bytecode.flags', '_pydevd_frame_eval.vendored.bytecode.instr', '_pydevd_frame_eval.vendored.bytecode.bytecode', '_pydevd_frame_eval.vendored.bytecode.concrete', '_pydevd_frame_eval.vendored.bytecode.cfg', '_pydevd_frame_eval.vendored.bytecode', '_pydevd_bundle.pydevd_bytecode_utils', '_pydevd_bundle.pydevd_cython', '_pydevd_bundle.pydevd_cython_wrapper', '_pydevd_bundle.pydevd_additional_thread_info', '_pydevd_bundle.pydevd_thread_lifecycle', '_pydevd_bundle.pydevd_save_locals', '_pydevd_bundle.pydevd_defaults', '_pydev_bundle.pydev_monkey', 'pydevd_tracing', '_pydevd_bundle.pydevd_daemon_thread', '_pydevd_bundle.pydevd_timeout', '_pydevd_bundle.pydevd_vars', '_pydev_bundle.pydev_console_utils', '_pydevd_bundle.pydevd_import_class', '_pydevd_bundle.pydevd_breakpoints', '_pydevd_bundle.pydevd_custom_frames', '_pydevd_bundle.pydevd_dont_trace_files', '_pydevd_bundle.pydevd_net_command', '_pydev_bundle.pydev_umd', 'pydevconsole', '_pydev_bundle._pydev_completer', '_pydevd_bundle.pydevd_net_command_factory_xml', '_pydevd_bundle.pydevd_frame', '_pydevd_bundle.pydevd_additional_thread_info_regular', '_pydevd_bundle.pydevd_trace_dispatch', '_pydevd_frame_eval.pydevd_frame_eval_main', '_pydevd_bundle.pydevd_source_mapping', 'pydevd_concurrency_analyser.pydevd_thread_wrappers', 'pydevd_concurrency_analyser.pydevd_concurrency_logger', '_pydevd_bundle._debug_adapter', '_pydevd_bundle._debug_adapter.pydevd_schema_log', '_pydevd_bundle._debug_adapter.pydevd_base_schema', '_pydevd_bundle._debug_adapter.pydevd_schema', '_pydevd_bundle.pydevd_reload', '_pydev_bundle.fsnotify', '_pydevd_bundle.pydevd_console', '_pydevd_bundle.pydevd_comm', '_pydevd_bundle.pydevd_net_command_factory_json', '_pydevd_bundle.pydevd_collect_bytecode_info', '_pydevd_bundle.pydevd_api', '_pydevd_bundle.pydevd_json_debug_options', '_pydevd_bundle.pydevd_process_net_command_json', '_pydevd_bundle.pydevd_traceproperty', '_pydevd_bundle.pydevd_process_net_command', '_pydevd_bundle.pydevd_suspended_frames', '_pydevd_bundle.pydevd_trace_api', 'pydevd_plugins.django_debug', 'pydevd_plugins.jinja2_debug', '_pydevd_bundle.pydevd_plugin_utils', 'pydevd_plugins.extensions.types', 'pydevd_plugins.extensions.types.pydevd_helpers', 'pydevd_plugins.extensions.types.pydevd_plugin_numpy_types', 'pydevd_plugins.extensions.types.pydevd_plugins_django_form_str', 'pydevd', 'debugpy._vendored.force_pydevd', 'debugpy.server', 'debugpy.adapter', 'debugpy.common.timestamp', 'debugpy.common.util', 'debugpy.common.log', 'debugpy.common.sockets', 'debugpy.server.api', 'ipykernel.debugger', 'ipykernel.ipkernel', 'ipykernel.parentpoller', 'ipykernel.kernelapp', 'faulthandler', 'IPython.core.completerlib', 'ctypes.macholib', 'ctypes.macholib.framework', 'ctypes.macholib.dylib', 'ctypes.macholib.dyld', 'ctypes.util', 'appnope._nope', 'appnope', 'storemagic', 'autoreload', 'numpy._globals', 'numpy.__config__', 'numpy.version', 'mkl._mklinit', 'mkl._py_mkl_service', 'mkl', 'numpy._distributor_init', 'numpy.core._multiarray_umath', 'numpy.compat._inspect', 'numpy.compat.py3k', 'numpy.compat', 'numpy.core.overrides', 'numpy.core.multiarray', 'numpy.core.umath', 'numpy.core._string_helpers', 'numpy.core._dtype', 'numpy.core._type_aliases', 'numpy.core.numerictypes', 'numpy.core._asarray', 'numpy.core._exceptions', 'numpy.core._methods', 'numpy.core.fromnumeric', 'numpy.core.shape_base', 'numpy.core._ufunc_config', 'numpy.core.arrayprint', 'numpy.core.numeric', 'numpy.core.defchararray', 'numpy.core.records', 'numpy.core.memmap', 'numpy.core.function_base', 'numpy.core.machar', 'numpy.core.getlimits', 'numpy.core.einsumfunc', 'numpy.core._multiarray_tests', 'numpy.core._add_newdocs', 'numpy.core._add_newdocs_scalars', 'numpy.core._dtype_ctypes', 'numpy.core._internal', 'numpy._pytesttester', 'numpy.core', 'numpy.lib.mixins', 'numpy.lib.ufunclike', 'numpy.lib.type_check', 'numpy.lib.scimath', 'numpy.lib.twodim_base', 'numpy.linalg.lapack_lite', 'numpy.linalg._umath_linalg', 'numpy.linalg.linalg', 'numpy.linalg', 'numpy.matrixlib.defmatrix', 'numpy.matrixlib', 'numpy.lib.histograms', 'numpy.lib.function_base', 'numpy.lib.stride_tricks', 'numpy.lib.index_tricks', 'numpy.lib.nanfunctions', 'numpy.lib.shape_base', 'numpy.lib.polynomial', 'numpy.lib.utils', 'numpy.lib.arraysetops', 'numpy.lib.format', 'numpy.lib._datasource', 'numpy.lib._iotools', 'numpy.lib.npyio', 'numpy.lib.arrayterator', 'numpy.lib.arraypad', 'numpy.lib._version', 'numpy.lib', 'numpy.fft._pocketfft_internal', 'numpy.fft._pocketfft', 'numpy.fft.helper', 'numpy.fft', 'numpy.polynomial.polyutils', 'numpy.polynomial._polybase', 'numpy.polynomial.polynomial', 'numpy.polynomial.chebyshev', 'numpy.polynomial.legendre', 'numpy.polynomial.hermite', 'numpy.polynomial.hermite_e', 'numpy.polynomial.laguerre', 'numpy.polynomial', 'numpy.random._common', 'secrets', 'numpy.random.bit_generator', 'numpy.random._bounded_integers', 'numpy.random._mt19937', 'numpy.random.mtrand', 'numpy.random._philox', 'numpy.random._pcg64', 'numpy.random._sfc64', 'numpy.random._generator', 'numpy.random._pickle', 'numpy.random', 'numpy.ctypeslib', 'numpy.ma.core', 'numpy.ma.extras', 'numpy.ma', 'numpy', 'pytz.exceptions', 'pytz.lazy', 'pytz.tzinfo', 'pytz.tzfile', 'pytz', 'mmap', 'pandas._typing', 'pandas._libs.tslibs.dtypes', 'pandas._libs.tslibs.base', 'pandas._libs.tslibs.np_datetime', 'pandas._libs.tslibs.nattype', 'pandas._libs.tslibs.timezones', 'pandas._libs.tslibs.ccalendar', 'pandas._libs.tslibs.tzconversion', 'pandas._config.config', 'pandas._config.dates', 'pandas._config.display', 'pandas._config', 'pandas._config.localization', 'pandas._libs.tslibs.strptime', 'pandas._libs.tslibs.fields', 'pandas._libs.tslibs.timedeltas', 'pandas._libs.tslibs.timestamps', 'dateutil.easter', 'pandas._libs.properties', 'pandas._libs.tslibs.offsets', 'pandas._libs.tslibs.parsing', 'pandas._libs.tslibs.conversion', 'pandas._libs.tslibs.period', 'pandas._libs.tslibs.vectorized', 'pandas._libs.tslibs', 'pandas._libs.ops_dispatch', 'pandas._libs.missing', 'pandas._libs.hashtable', 'pandas._libs.algos', 'pandas._libs.interval', 'pandas._libs', 'pandas.util._decorators', 'pandas.core', 'pandas.core.util', 'pandas._libs.tslib', 'pandas._libs.lib', 'pandas._libs.hashing', 'pandas.core.dtypes', 'pandas.errors', 'pandas.core.dtypes.generic', 'pandas.core.dtypes.base', 'pandas.core.dtypes.inference', 'pandas.core.dtypes.dtypes', 'pandas.core.dtypes.common', 'pandas.core.util.hashing', 'pandas.util', 'pandas.util.version', 'pandas.compat.numpy', 'pandas.compat.pyarrow', 'pandas.compat', 'pandas.core.config_init', 'pandas.core.dtypes.missing', 'pandas.util._exceptions', 'pandas.util._validators', 'pandas.core.dtypes.cast', 'pandas.core.array_algos', 'pandas.core.common', 'pandas.core.construction', 'pandas.core.array_algos.take', 'pandas.core.indexers', 'pandas.core.algorithms', 'pandas.compat.numpy.function', 'pandas.compat._optional', 'pandas.core.missing', 'pandas.core.roperator', 'pandas._libs.ops', 'pandas.core.computation', 'numexpr.__config__', 'numexpr.interpreter', 'numexpr.expressions', 'numexpr.utils', 'numexpr.necompiler', 'numexpr.version', 'numexpr', 'pandas.core.computation.check', 'pandas.core.computation.expressions', 'pandas.core.ops.missing', 'pandas.core.ops.dispatch', 'pandas.core.ops.invalid', 'pandas.core.ops.array_ops', 'pandas.core.ops.common', 'pandas.core.ops.docstrings', 'pandas.core.ops.mask_ops', 'pandas.core.ops.methods', 'pandas.core.ops', 'pandas.core.sorting', 'pandas.core.arrays.base', 'bottleneck.reduce', 'bottleneck.nonreduce', 'bottleneck.nonreduce_axis', 'bottleneck.move', 'bottleneck.slow.reduce', 'bottleneck.slow.nonreduce', 'bottleneck.slow.nonreduce_axis', 'bottleneck.slow.move', 'bottleneck.slow', 'bottleneck.benchmark', 'bottleneck.benchmark.autotimeit', 'bottleneck.benchmark.bench', 'bottleneck.benchmark.bench_detailed', 'bottleneck.tests', 'bottleneck.tests.util', 'bottleneck._pytesttester', 'bottleneck._version', 'bottleneck', 'pandas.core.nanops', 'pandas.core.array_algos.masked_reductions', 'pandas.core.arraylike', 'pandas.core.arrays.masked', 'pandas.core.arrays.boolean', '_csv', 'csv', 'pandas._libs.arrays', 'pandas.core.accessor', 'pandas.core.array_algos.transforms', 'pandas.core.arrays._mixins', 'pandas.core.base', 'pandas.core.strings.accessor', 'pandas.core.strings.base', 'pandas.core.strings', 'pandas.core.strings.object_array', 'pandas.io', 'pandas.io.formats', 'pandas.io.formats.console', 'pandas.core.arrays.categorical', 'pandas.tseries', 'pandas.tseries.frequencies', 'pandas.core.arrays.datetimelike', 'pandas.core.arrays._ranges', 'pandas.core.arrays.numeric', 'pandas.core.tools', 'pandas.core.tools.numeric', 'pandas.core.arrays.integer', 'pandas.tseries.offsets', 'pandas.core.arrays.datetimes', 'pandas.core.arrays.floating', 'pandas.core.indexes', 'pandas._libs.index', 'pandas._libs.join', 'pandas._libs.sparse', 'pandas.core.arrays.sparse.dtype', 'pandas.io.formats.printing', 'pandas.core.arrays.sparse.array', 'pandas.core.arrays.sparse.accessor', 'pandas.core.arrays.sparse', 'pandas.core.dtypes.concat', 'pandas.core.array_algos.putmask', 'pandas.core.indexes.frozen', 'pandas.core.indexes.base', 'pandas.core.arrays.interval', 'pandas.core.arrays.numpy_', 'pandas.core.arrays.period', 'pandas.core.arrays.string_', 'pandas.core.arrays.string_arrow', 'pandas.core.arrays.timedeltas', 'pandas.core.arrays', 'pandas.core.flags', 'pandas._libs.reduction', 'pandas.core.indexes.extension', 'pandas.core.indexes.category', 'pandas.core.indexes.numeric', 'pandas.core.tools.timedeltas', 'pandas.core.indexes.datetimelike', 'pandas.core.tools.times', 'pandas.core.indexes.datetimes', 'pandas.core.indexes.multi', 'pandas.core.indexes.timedeltas', 'pandas.core.indexes.interval', 'pandas.core.indexes.period', 'pandas.core.indexes.range', 'pandas.core.indexes.api', 'pandas.core.aggregation', 'pandas.core.apply', 'pandas._libs.indexing', 'pandas.core.indexing', 'pandas.core.reshape', 'pandas._libs.internals', 'pandas._libs.writers', 'pandas.core.array_algos.quantile', 'pandas.core.array_algos.replace', 'pandas.core.internals.blocks', 'pandas.core.internals.api', 'pandas.core.internals.base', 'pandas.core.internals.array_manager', 'pandas.core.internals.ops', 'pandas.core.internals.managers', 'pandas.core.internals.concat', 'pandas.core.internals', 'pandas.core.reshape.concat', 'pandas.io.common', 'pandas.io.formats.format', 'pandas.core.describe', 'pandas.core.internals.construction', 'pandas.core.shared_docs', 'pandas._libs.window', 'pandas._libs.window.aggregations', 'pandas.core.util.numba_', 'pandas.core.window.common', 'pandas.core.window.doc', 'pandas._libs.window.indexers', 'pandas.core.window.indexers', 'pandas.core.window.numba_', 'pandas.core.window.online', 'pandas.core.window.rolling', 'pandas.core.window.ewm', 'pandas.core.window.expanding', 'pandas.core.window', 'pandas.core.generic', 'pandas.core.reshape.util', 'pandas.core.reshape.melt', 'pandas._libs.reshape', 'pandas.core.indexes.accessors', 'pandas.arrays', 'pandas.core.tools.datetimes', 'pandas.plotting._core', 'pandas.plotting._misc', 'pandas.plotting', 'pandas.core.series', 'pandas.io.formats.info', 'pandas.core.frame', 'pandas.core.groupby.base', 'pandas._libs.groupby', 'pandas.core.groupby.numba_', 'pandas.core.groupby.categorical', 'pandas.core.groupby.grouper', 'pandas.core.groupby.ops', 'pandas.core.groupby.groupby', 'pandas.core.groupby.generic', 'pandas.core.groupby', 'pandas.core.api', 'pandas.tseries.api', 'pandas.core.computation.common', 'pandas.core.computation.align', 'pandas.compat.chainmap', 'pandas.core.computation.scope', 'pandas.core.computation.ops', 'pandas.core.computation.parsing', 'pandas.core.computation.expr', 'pandas.core.computation.engines', 'pandas.core.computation.eval', 'pandas.core.computation.api', 'pandas.core.reshape.merge', 'pandas.core.reshape.pivot', 'pandas.core.reshape.reshape', 'pandas.core.reshape.tile', 'pandas.core.reshape.api', 'pandas.api.extensions', 'pandas.api.indexers', 'pandas.core.dtypes.api', 'pandas.api.types', 'pandas.api', 'pandas.util._print_versions', 'pandas.io.clipboards', 'pandas._libs.parsers', 'pandas.io.excel._util', 'pandas.io.date_converters', 'pandas.io.parsers.base_parser', 'pandas.io.parsers.c_parser_wrapper', 'pandas.io.parsers.python_parser', 'pandas.io.parsers.readers', 'pandas.io.parsers', 'pandas.io.excel._odfreader', 'pandas.io.excel._openpyxl', 'pandas.io.excel._pyxlsb', 'pandas.io.excel._xlrd', 'pandas.io.excel._base', 'pandas._libs.json', 'pandas.io.formats._color_data', 'pandas.io.formats.css', 'pandas.io.formats.excel', 'pandas.io.excel._odswriter', 'pandas.io.excel._xlsxwriter', 'pandas.io.excel._xlwt', 'pandas.io.excel', 'pandas.io.feather_format', 'pandas.io.gbq', 'pandas.io.html', 'pandas.io.json._normalize', 'pandas.io.json._table_schema', 'pandas.io.json._json', 'pandas.io.json', 'pandas.io.orc', 'pandas.io.parquet', 'pandas.compat.pickle_compat', 'pandas.io.pickle', 'pandas.core.computation.pytables', 'pandas.io.pytables', 'pandas.io.sas.sasreader', 'pandas.io.sas', 'pandas.io.spss', 'pandas.io.sql', 'pandas.io.stata', 'pandas.io.xml', 'pandas.io.api', 'pandas.util._tester', 'pandas._testing._random', 'pandas._testing.contexts', 'pandas._testing._io', 'pandas._testing._warnings', 'cmath', 'pandas._libs.testing', 'pandas._testing.asserters', 'pandas._testing.compat', 'pandas._testing', 'pandas.testing', 'pandas._version', 'pandas', 'organizer', 'base', 'lib2to3', 'lib2to3.pytree', 'base.base_cfg', 'base.const', 'bson.py3compat', 'bson.binary', 'bson.code', 'bson.codec_options', 'bson.son', 'bson.dbref', 'bson.decimal128', 'bson.errors', 'bson.int64', 'bson.max_key', 'bson.min_key', 'bson.tz_util', 'bson.objectid', 'bson.regex', 'bson.timestamp', 'bson._cbson', 'bson', 'bson.raw_bson', 'pymongo.errors', 'pymongo.auth_aws', 'pymongo.saslprep', 'backports', 'pymongo.auth', 'pymongo.hello_compat', 'pymongo.helpers', 'pymongo.monitoring', 'pymongo.compression_support', 'pymongo.driver_info', 'pymongo.server_api', 'pymongo.encryption_options', 'pymongo.read_concern', 'pymongo.server_type', 'pymongo.max_staleness_selectors', 'pymongo.server_selectors', 'pymongo.read_preferences', 'ipaddress', 'cryptography.__about__', 'cryptography', 'cryptography.utils', 'cryptography.x509.certificate_transparency', 'cryptography.hazmat', 'cryptography.hazmat.primitives', 'cryptography.hazmat.primitives.asymmetric', 'cryptography.hazmat.backends', 'cryptography.hazmat.primitives._serialization', 'cryptography.exceptions', 'cryptography.hazmat.backends.interfaces', 'cryptography.hazmat.primitives.hashes', 'cryptography.hazmat._der', 'cryptography.hazmat.primitives.asymmetric.utils', 'cryptography.hazmat.primitives.asymmetric.dsa', 'cryptography.hazmat._oid', 'cryptography.hazmat.primitives.asymmetric.ec', 'cryptography.hazmat.primitives.asymmetric.ed25519', 'cryptography.hazmat.primitives.asymmetric.ed448', 'cryptography.hazmat.primitives._asymmetric', 'cryptography.hazmat.primitives.asymmetric.rsa', 'cryptography.hazmat._types', 'cryptography.hazmat.primitives.asymmetric.dh', 'cryptography.hazmat.primitives.serialization.base', 'cryptography.hazmat.primitives._cipheralgorithm', 'cryptography.hazmat.primitives.ciphers.modes', 'cryptography.hazmat.primitives.ciphers.base', 'cryptography.hazmat.primitives.ciphers', 'cryptography.hazmat.primitives.ciphers.algorithms', 'cryptography.hazmat.primitives.serialization.ssh', 'cryptography.hazmat.primitives.serialization', 'cryptography.hazmat.primitives.constant_time', 'cryptography.x509.oid', 'cryptography.x509.name', 'cryptography.x509.general_name', 'cryptography.x509.extensions', 'cryptography.x509.base', 'cryptography.x509', 'cryptography.hazmat.bindings', 'cryptography.hazmat.bindings.openssl', '_cffi_backend', '_openssl.lib', '_openssl', 'cryptography.hazmat.bindings._openssl', 'cryptography.hazmat.bindings.openssl._conditional', 'cryptography.hazmat.bindings.openssl.binding', 'OpenSSL._util', 'OpenSSL.crypto', 'OpenSSL.SSL', 'OpenSSL.version', 'OpenSSL', 'pymongo.ssl_context', 'importlib._common', 'importlib.resources', 'certifi.core', 'certifi', 'pymongo.ssl_support', 'pymongo.write_concern', 'pymongo.common', 'pymongo._cmessage', 'pymongo.message', 'pymongo.collation', 'pymongo.aggregation', 'pymongo.monotonic', 'pymongo.response', 'pymongo.cursor', 'pymongo.client_session', 'pymongo.bulk', 'pymongo.command_cursor', 'pymongo.change_stream', 'pymongo.operations', 'pymongo.results', 'pymongo.collection', 'pymongo.son_manipulator', 'pymongo.database', 'pymongo.periodic_executor', 'pymongo._ipaddress', 'pymongo.srv_resolver', 'pymongo.uri_parser', 'pymongo.thread_util', 'pymongo.hello', 'pymongo.ismaster', 'pymongo.socket_checker', 'pymongo.network', 'pymongo.ssl_match_hostname', 'pymongo.pool', 'pymongo.client_options', 'pymongo.cursor_manager', 'pymongo.server_description', 'pymongo.topology_description', 'pymongo.monitor', 'pymongo.server', 'pymongo.topology', 'pymongo.settings', 'pymongo.mongo_client', 'pymongo.mongo_replica_set_client', 'pymongo', 'base.mongo', 'base.store_file', 'gridfs.errors', 'gridfs.grid_file', 'gridfs', 'base.store_gridfs', 'base.sysDataHelpers', 'predictor', 'predictor.built_year', 'base.timer', 'prop', 'regex._regex', 'regex._regex_core', 'regex.regex', 'regex', 'mpmath.usertools', 'gmpy2', 'mpmath.libmp.backend', 'mpmath.libmp.libintmath', 'mpmath.libmp.libmpf', 'mpmath.libmp.libelefun', 'mpmath.libmp.libmpc', 'mpmath.libmp.gammazeta', 'mpmath.libmp.libhyper', 'mpmath.libmp.libmpi', 'mpmath.libmp', 'mpmath.functions.functions', 'mpmath.functions.factorials', 'mpmath.functions.hypergeometric', 'mpmath.functions.expintegrals', 'mpmath.functions.bessel', 'mpmath.functions.orthogonal', 'mpmath.functions.theta', 'mpmath.functions.elliptic', 'mpmath.functions.zeta', 'mpmath.functions.rszeta', 'mpmath.functions.zetazeros', 'mpmath.functions.qfunctions', 'mpmath.functions', 'mpmath.calculus.calculus', 'mpmath.calculus.approximation', 'mpmath.calculus.differentiation', 'mpmath.calculus.extrapolation', 'mpmath.calculus.polynomials', 'mpmath.calculus', 'mpmath.calculus.quadrature', 'mpmath.calculus.inverselaplace', 'mpmath.calculus.optimization', 'mpmath.calculus.odes', 'mpmath.matrices.eigen', 'mpmath.matrices.eigen_symmetric', 'mpmath.matrices', 'mpmath.matrices.matrices', 'mpmath.matrices.calculus', 'mpmath.matrices.linalg', 'mpmath.identification', 'mpmath.visualization', 'mpmath.ctx_base', 'mpmath.math2', 'mpmath.function_docs', 'mpmath.ctx_fp', 'mpmath.rational', 'mpmath.ctx_mp_python', 'mpmath.ctx_mp', 'mpmath.ctx_iv', 'mpmath', 'sympy.release', 'sympy.external.importtools', 'sympy.external', 'sympy.external.gmpy', 'sympy.core.compatibility', 'sympy.core.cache', 'sympy.core.parameters', 'sympy.core.logic', 'sympy.core.facts', 'sympy.core.core', 'sympy.core.assumptions', 'sympy.multipledispatch.utils', 'sympy.multipledispatch.conflict', 'sympy.multipledispatch.dispatcher', 'sympy.multipledispatch.core', 'sympy.multipledispatch', 'sympy.core.decorators', 'sympy.core.kind', 'sympy.core._print_helpers', 'sympy.core.singleton', 'sympy.core.basic', 'sympy.core.sympify', 'sympy.utilities.enumerative', 'sympy.utilities.iterables', 'sympy.utilities.exceptions', 'sympy.utilities.misc', 'unittest.util', 'unittest.result', 'unittest.case', 'unittest.suite', 'unittest.loader', 'unittest.signals', 'unittest.runner', 'unittest.main', 'unittest', 'doctest', 'sympy.testing.runtests', 'sympy.testing', 'sympy.utilities.decorator', 'sympy.utilities.lambdify', 'sympy.utilities.source', 'sympy.utilities.timeutils', 'sympy.utilities', 'sympy.core.evalf', 'sympy.core.operations', 'fractions', 'sympy.core.containers', 'sympy.core.add', 'sympy.core.rules', 'sympy.logic.boolalg', 'sympy.logic.inference', 'sympy.logic', 'sympy.core.symbol', 'sympy.core.function', 'sympy.core.power', 'sympy.core.numbers', 'sympy.core.mul', 'sympy.core.mod', 'sympy.core.coreerrors', 'sympy.core.exprtools', 'sympy.core.expr', 'sympy.core.relational', 'sympy.core.multidimensional', 'sympy.core', 'sympy.assumptions.assume', 'sympy.assumptions.cnf', 'sympy.assumptions.ask_generated', 'sympy.assumptions.ask', 'sympy.assumptions.refine', 'sympy.assumptions.relation.binrel', 'sympy.assumptions.relation', 'sympy.assumptions', 'sympy.polys.polyerrors', 'sympy.polys.polyoptions', 'sympy.polys.domains.domainelement', 'sympy.polys.orderings', 'sympy.polys.polyutils', 'sympy.polys.domains.domain', 'sympy.polys.domains.ring', 'sympy.polys.domains.field', 'sympy.polys.domains.modularinteger', 'sympy.polys.domains.simpledomain', 'sympy.external.pythonmpq', 'sympy.polys.domains.pythonrational', 'sympy.polys.domains.groundtypes', 'sympy.polys.domains.finitefield', 'sympy.polys.domains.characteristiczero', 'sympy.polys.domains.integerring', 'sympy.polys.domains.rationalfield', 'sympy.polys.monomials', 'sympy.polys.densebasic', 'sympy.polys.densearith', 'sympy.polys.densetools', 'sympy.ntheory.primetest', 'sympy.ntheory.generate', 'sympy.ntheory.digits', 'sympy.ntheory.ecm', 'sympy.ntheory.factor_', 'sympy.ntheory.residue_ntheory', 'sympy.ntheory.partitions_', 'sympy.ntheory.multinomial', 'sympy.ntheory.continued_fraction', 'sympy.ntheory.egyptian_fraction', 'sympy.ntheory.qs', 'sympy.ntheory', 'sympy.polys.polyconfig', 'sympy.polys.galoistools', 'sympy.polys.euclidtools', 'sympy.polys.sqfreetools', 'sympy.polys.factortools', 'sympy.polys.rootisolation', 'sympy.polys.polyclasses', 'sympy.polys.domains.algebraicfield', 'sympy.polys.domains.gaussiandomains', 'sympy.polys.domains.mpelements', 'sympy.polys.domains.realfield', 'sympy.polys.domains.complexfield', 'sympy.polys.domains.compositedomain', 'sympy.polys.domains.polynomialring', 'sympy.polys.domains.fractionfield', 'sympy.polys.domains.expressiondomain', 'sympy.polys.domains.expressionrawdomain', 'sympy.polys.domains.pythonintegerring', 'sympy.polys.domains.pythonfinitefield', 'sympy.polys.domains.gmpyintegerring', 'sympy.polys.domains.gmpyfinitefield', 'sympy.polys.domains.pythonrationalfield', 'sympy.polys.domains.gmpyrationalfield', 'sympy.polys.domains', 'sympy.polys.constructor', 'sympy.polys.fglmtools', 'sympy.polys.groebnertools', 'sympy.polys.rationaltools', 'sympy.polys.polytools', 'sympy.functions.combinatorial', 'sympy.functions.combinatorial.factorials', 'sympy.functions.elementary', 'sympy.functions.elementary.miscellaneous', 'sympy.functions.elementary.exponential', 'sympy.functions.elementary.integers', 'sympy.functions.elementary.hyperbolic', 'sympy.functions.elementary.piecewise', 'sympy.sets.contains', 'sympy.sets.sets', 'sympy.sets.fancysets', 'sympy.sets.conditionset', 'sympy.sets.ordinals', 'sympy.sets.powerset', 'sympy.sets.handlers', 'sympy.sets.handlers.comparison', 'sympy.sets', 'sympy.functions.elementary.trigonometric', 'sympy.utilities.memoization', 'sympy.functions.combinatorial.numbers', 'sympy.functions.elementary.complexes', 'sympy.functions.special', 'sympy.functions.special.hyper', 'sympy.functions.special.error_functions', 'sympy.functions.special.zeta_functions', 'sympy.functions.special.gamma_functions', 'sympy.functions.special.tensor_functions', 'sympy.functions.special.delta_functions', 'sympy.functions.special.singularity_functions', 'sympy.functions.special.bsplines', 'sympy.polys.orthopolys', 'sympy.functions.special.bessel', 'sympy.functions.special.polynomials', 'sympy.functions.special.spherical_harmonics', 'sympy.functions.special.elliptic_integrals', 'sympy.functions.special.beta_functions', 'sympy.functions.special.mathieu_functions', 'sympy.functions', 'sympy.polys.compatibility', 'sympy.polys.heuristicgcd', 'sympy.printing.conventions', 'sympy.printing.precedence', 'sympy.printing.printer', 'sympy.printing.str', 'sympy.core.alphabets', 'sympy.printing.pretty.pretty_symbology', 'sympy.printing.pretty.stringpict', 'sympy.printing.pretty.pretty', 'sympy.printing.pretty', 'sympy.printing.latex', 'sympy.printing.mathml', 'sympy.printing.repr', 'sympy.printing.python', 'sympy.printing.codeprinter', 'sympy.printing.pycode', 'sympy.printing.glsl', 'sympy.printing.rcode', 'sympy.printing.jscode', 'sympy.printing.julia', 'sympy.printing.mathematica', 'sympy.printing.octave', 'sympy.printing.rust', 'sympy.utilities.pkgdata', 'sympy.utilities.mathml', 'sympy.printing.gtk', 'sympy.printing.preview', 'sympy.printing.tree', 'sympy.printing.tableform', 'sympy.printing.dot', 'sympy.printing.maple', 'sympy.printing', 'sympy.printing.defaults', 'sympy.utilities.magic', 'sympy.polys.rings', 'sympy.polys.specialpolys', 'sympy.polys.polyfuncs', 'sympy.polys.ring_series', 'sympy.polys.polyquinticconst', 'sympy.simplify.gammasimp', 'sympy.simplify.combsimp', 'sympy.simplify.cse_opts', 'sympy.simplify.powsimp', 'sympy.simplify.sqrtdenest', 'sympy.simplify.radsimp', 'sympy.simplify.cse_main', 'sympy.strategies.util', 'sympy.strategies.rl', 'sympy.strategies.core', 'sympy.strategies.traverse', 'sympy.strategies.tools', 'sympy.strategies.branch.core', 'sympy.strategies.branch.traverse', 'sympy.strategies.branch.tools', 'sympy.strategies.branch', 'sympy.strategies', 'sympy.strategies.tree', 'sympy.simplify.trigsimp', 'sympy.simplify.simplify', 'sympy.simplify.fu', 'sympy.simplify.traversaltools', 'sympy.simplify.epathtools', 'sympy.series.order', 'sympy.simplify.ratsimp', 'sympy.series.gruntz', 'sympy.series.limits', 'sympy.series.series', 'sympy.series.approximants', 'sympy.series.residues', 'sympy.tensor.indexed', 'sympy.tensor.index_methods', 'sympy.tensor.functions', 'sympy.tensor.array.ndim_array', 'sympy.tensor.array.mutable_ndim_array', 'sympy.tensor.array.dense_ndim_array', 'sympy.tensor.array.sparse_ndim_array', 'sympy.tensor.array.arrayop', 'sympy.tensor.array.array_comprehension', 'sympy.tensor.array', 'sympy.tensor', 'sympy.series.sequences', 'sympy.series.series_class', 'sympy.series.fourier', 'sympy.discrete.transforms', 'sympy.discrete.convolutions', 'sympy.discrete', 'sympy.series.formal', 'sympy.series.limitseq', 'sympy.series', 'sympy.simplify.hyperexpand', 'sympy.simplify', 'sympy.polys.polyroots', 'sympy.polys.rootoftools', 'sympy.printing.numpy', 'sympy.printing.lambdarepr', 'sympy.polys.numberfields', 'sympy.matrices.utilities', 'sympy.matrices.common', 'sympy.polys.matrices.exceptions', 'sympy.polys.matrices.dense', 'sympy.polys.matrices.sdm', 'sympy.polys.matrices.ddm', 'sympy.polys.matrices.domainscalar', 'sympy.polys.matrices.domainmatrix', 'sympy.polys.matrices', 'sympy.matrices.determinant', 'sympy.matrices.decompositions', 'sympy.matrices.reductions', 'sympy.matrices.subspaces', 'sympy.polys.agca.ideals', 'sympy.polys.agca.modules', 'sympy.polys.agca.homomorphisms', 'sympy.polys.agca', 'sympy.polys.agca.extensions', 'sympy.polys.matrices.eigen', 'sympy.matrices.eigen', 'sympy.matrices.graph', 'sympy.matrices.solvers', 'sympy.matrices.inverse', 'sympy.matrices.matrices', 'sympy.matrices.repmatrix', 'sympy.matrices.dense', 'sympy.matrices.sparse', 'sympy.matrices.sparsetools', 'sympy.matrices.expressions.special', 'sympy.matrices.expressions.matpow', 'sympy.matrices.expressions.inverse', 'sympy.matrices.expressions.transpose', 'sympy.matrices.expressions.permutation', 'sympy.matrices.expressions.matmul', 'sympy.matrices.expressions.matadd', 'sympy.matrices.expressions.matexpr', 'sympy.matrices.expressions.slice', 'sympy.matrices.expressions.trace', 'sympy.matrices.expressions.determinant', 'sympy.matrices.expressions.blockmatrix', 'sympy.matrices.expressions.companion', 'sympy.matrices.expressions.funcmatrix', 'sympy.matrices.expressions.adjoint', 'sympy.matrices.expressions.hadamard', 'sympy.matrices.expressions.diagonal', 'sympy.matrices.expressions.dotproduct', 'sympy.matrices.expressions.kronecker', 'sympy.matrices.expressions.sets', 'sympy.matrices.expressions', 'sympy.matrices.immutable', 'sympy.matrices', 'sympy.polys.partfrac', 'sympy.polys.fields', 'sympy.polys', 'sympy.concrete.expr_with_limits', 'sympy.concrete.expr_with_intlimits', 'sympy.concrete.products', 'sympy.calculus.euler', 'sympy.integrals.manualintegrate', 'sympy.integrals.trigonometry', 'sympy.integrals.meijerint', 'sympy.integrals.integrals', 'sympy.polys.domainmatrix', 'sympy.polys.solvers', 'sympy.polys.matrices.linsolve', 'sympy.solvers.inequalities', 'sympy.integrals.transforms', 'sympy.integrals.singularityfunctions', 'sympy.integrals', 'sympy.solvers.polysys', 'sympy.solvers.bivariate', 'sympy.solvers.solvers', 'sympy.calculus.util', 'sympy.solvers.solveset', 'sympy.solvers.diophantine.diophantine', 'sympy.solvers.diophantine', 'sympy.solvers.recurr', 'sympy.solvers.deutils', 'sympy.solvers.ode.riccati', 'sympy.solvers.ode.hypergeometric', 'sympy.solvers.ode.subscheck', 'sympy.solvers.ode.nonhomogeneous', 'sympy.solvers.pde', 'sympy.solvers.ode.lie_group', 'sympy.solvers.ode.single', 'sympy.solvers.ode.ode', 'sympy.solvers.ode.systems', 'sympy.solvers.ode', 'sympy.solvers.decompogen', 'sympy.solvers', 'sympy.calculus.singularities', 'sympy.calculus.finite_diff', 'sympy.calculus', 'sympy.concrete.gosper', 'sympy.concrete.summations', 'sympy.concrete', 'sympy.geometry.exceptions', 'sympy.sets.handlers.intersection', 'sympy.sets.handlers.union', 'sympy.geometry.entity', 'sympy.geometry.point', 'sympy.geometry.util', 'sympy.geometry.line', 'sympy.geometry.plane', 'sympy.geometry.polygon', 'sympy.geometry.ellipse', 'sympy.geometry.curve', 'sympy.geometry.parabola', 'sympy.geometry', 'sympy.parsing.sympy_parser', 'sympy.parsing', 'sympy.algebras.quaternion', 'sympy.algebras', 'sympy.plotting.experimental_lambdify', 'sympy.plotting.textplot', 'sympy.plotting.plot', 'sympy.plotting.intervalmath.interval_membership', 'sympy.plotting.intervalmath.interval_arithmetic', 'sympy.plotting.intervalmath.lib_interval', 'sympy.plotting.intervalmath', 'sympy.plotting.plot_implicit', 'sympy.plotting.pygletplot', 'sympy.plotting', 'sympy.interactive.printing', 'sympy.interactive.session', 'sympy.interactive', 'sympy', 'prop.estimate_scale', 'base.util', 'transformer', 'pyrsistent._transformations', 'pvectorc', 'pyrsistent._pvector', 'pyrsistent._pmap', 'pyrsistent._pset', 'pyrsistent._pbag', 'pyrsistent._plist', 'pyrsistent._pdeque', 'pyrsistent._checked_types', 'pyrsistent._field_common', 'pyrsistent._precord', 'pyrsistent._pclass', 'pyrsistent._immutable', 'pyrsistent._helpers', 'pyrsistent._toolz', 'pyrsistent', 'sklearn._config', 'sklearn._distributor_init', 'sklearn.__check_build._check_build', 'sklearn.__check_build', 'scipy._lib._testutils', 'scipy._lib', 'scipy._lib.deprecation', 'scipy.__config__', 'scipy.version', 'scipy._distributor_init', 'scipy._lib._pep440', 'scipy._lib._ccallback_c', 'scipy._lib._ccallback', 'scipy', 'scipy._lib._util', 'scipy.sparse.sputils', 'scipy.sparse.base', 'scipy.sparse._sparsetools', 'scipy.sparse.data', 'scipy.sparse.dia', 'scipy.sparse._index', 'scipy.sparse.compressed', 'scipy.sparse.csr', 'scipy.sparse.csc', 'scipy.sparse._csparsetools', 'scipy.sparse.lil', 'scipy.sparse.dok', 'scipy.sparse.coo', 'scipy.sparse.bsr', 'scipy.sparse.construct', 'scipy.sparse.extract', 'scipy.sparse._matrix_io', 'scipy.sparse.csgraph._laplacian', 'scipy.sparse.csgraph._tools', 'scipy.sparse.csgraph._validation', 'scipy.sparse.csgraph._shortest_path', 'scipy.sparse.csgraph._traversal', 'scipy.sparse.csgraph._min_spanning_tree', 'scipy.sparse.csgraph._flow', 'scipy.sparse.csgraph._matching', 'scipy.sparse.csgraph._reordering', 'scipy.sparse.csgraph', 'scipy.sparse', 'sklearn.utils.murmurhash', 'joblib.hashing', 'multiprocessing.process', 'multiprocessing.reduction', 'multiprocessing.context', '__mp_main__', 'multiprocessing', 'multiprocessing.util', 'joblib.disk', 'joblib.logger', 'joblib.func_inspect', 'joblib.backports', 'joblib.compressor', 'joblib.numpy_pickle_utils', 'joblib.numpy_pickle_compat', 'joblib.numpy_pickle', 'joblib._store_backends', 'joblib.memory', '_multiprocessing', 'joblib._multiprocessing_helpers', 'joblib._deprecated_my_exceptions', 'joblib.my_exceptions', 'joblib.externals', 'joblib.externals.loky._base', 'multiprocessing.connection', 'joblib.externals.loky.backend.compat_posix', 'joblib.externals.loky.backend.compat', 'joblib.externals.loky.backend.process', 'joblib.externals.loky.backend.context', 'multiprocessing.synchronize', 'joblib.externals.loky.backend', 'joblib.externals.loky.backend._posix_reduction', 'joblib.externals.cloudpickle.compat', 'typing_extensions', 'joblib.externals.cloudpickle.cloudpickle', 'joblib.externals.cloudpickle.cloudpickle_fast', 'joblib.externals.cloudpickle', 'joblib.externals.loky.backend.reduction', 'multiprocessing.queues', 'joblib.externals.loky.backend.queues', 'psutil._common', 'psutil._compat', 'psutil._psposix', 'psutil._psutil_osx', 'psutil._psutil_posix', 'psutil._psosx', 'psutil', 'joblib.externals.loky.backend.utils', 'joblib.externals.loky.initializers', 'concurrent.futures.process', 'joblib.externals.loky.process_executor', 'joblib.externals.loky.reusable_executor', 'joblib.externals.loky.cloudpickle_wrapper', 'joblib.externals.loky', 'joblib.externals.loky.backend.spawn', 'joblib.externals.loky.backend.resource_tracker', 'joblib._memmapping_reducer', 'multiprocessing.pool', 'joblib.pool', 'joblib.executor', 'joblib._parallel_backends', 'joblib.parallel', 'joblib', 'scipy.spatial.ckdtree', 'scipy.spatial.kdtree', 'scipy._lib.messagestream', 'scipy.spatial.qhull', 'scipy.spatial._voronoi', 'scipy.spatial._spherical_voronoi', 'scipy._lib.decorator', 'scipy.spatial._plotutils', 'scipy.linalg._fblas', 'scipy.linalg.blas', 'scipy.linalg._flapack', 'scipy.linalg.lapack', 'scipy.linalg.misc', 'scipy.linalg._flinalg', 'scipy.linalg.flinalg', 'scipy.linalg.decomp', 'scipy.linalg.decomp_svd', 'scipy.linalg._solve_toeplitz', 'scipy.linalg.basic', 'scipy.linalg.decomp_lu', 'scipy.linalg._decomp_ldl', 'scipy.linalg.decomp_cholesky', 'scipy.linalg.decomp_qr', 'scipy.linalg._decomp_qz', 'scipy.linalg.decomp_schur', 'scipy.linalg._decomp_polar', 'scipy.linalg.special_matrices', 'scipy.linalg._expm_frechet', 'scipy.linalg._matfuncs_sqrtm_triu', 'scipy.linalg._matfuncs_sqrtm', 'scipy.linalg.matfuncs', 'scipy.linalg._solvers', 'scipy.linalg._procrustes', 'scipy.linalg.cython_blas', 'scipy.linalg.cython_lapack', 'scipy.linalg._decomp_update', 'scipy.linalg._sketches', 'scipy.linalg._decomp_cossin', 'scipy.linalg', 'scipy.spatial._procrustes', 'scipy.spatial._distance_wrap', 'scipy.spatial._hausdorff', 'scipy.special.sf_error', 'scipy.special._ufuncs_cxx', 'scipy.special._ufuncs', 'scipy.special.specfun', 'scipy.special.orthogonal', 'scipy.special._comb', 'scipy.special._basic', 'scipy.special._logsumexp', 'scipy.special.spfun_stats', 'scipy.special._ellip_harm_2', 'scipy.special._ellip_harm', 'scipy.special._lambertw', 'scipy.special._spherical_bessel', 'scipy.special', 'scipy.spatial._distance_pybind', 'scipy.spatial.distance', 'scipy.spatial._geometric_slerp', 'scipy.constants.codata', 'scipy.constants.constants', 'scipy.constants', 'scipy.spatial.transform._rotation_groups', 'scipy.spatial.transform.rotation', 'scipy.spatial.transform._rotation_spline', 'scipy.spatial.transform', 'scipy.spatial', 'scipy.ndimage._ni_support', 'scipy.ndimage._nd_image', 'scipy._lib.doccer', 'scipy.ndimage._ni_docstrings', 'scipy.ndimage.filters', 'scipy.ndimage.fourier', 'scipy.ndimage.interpolation', '_ni_label', 'scipy.ndimage._ni_label', 'scipy.ndimage.morphology', 'scipy.ndimage.measurements', 'scipy.ndimage', 'scipy.stats._distr_params', 'scipy.optimize.minpack2', 'scipy.optimize.linesearch', 'scipy.sparse.linalg.isolve._iterative', 'scipy.sparse.linalg.interface', 'scipy.sparse.linalg.isolve.utils', 'scipy._lib._threadsafety', 'scipy.sparse.linalg.isolve.iterative', 'scipy.sparse.linalg.isolve.minres', 'scipy.sparse.linalg.isolve._gcrotmk', 'scipy.sparse.linalg.isolve.lgmres', 'scipy.sparse.linalg.isolve.lsqr', 'scipy.sparse.linalg.isolve.lsmr', 'scipy.sparse.linalg.isolve', 'scipy.sparse.linalg.dsolve._superlu', 'scipy.sparse.linalg.dsolve.linsolve', 'scipy.sparse.linalg.dsolve._add_newdocs', 'scipy.sparse.linalg.dsolve', 'scipy.sparse.linalg.eigen.arpack._arpack', 'scipy.sparse.linalg.eigen.lobpcg.lobpcg', 'scipy.sparse.linalg.eigen.lobpcg', 'scipy.sparse.linalg.eigen.arpack.arpack', 'scipy.sparse.linalg.eigen.arpack', 'scipy.sparse.linalg.eigen', 'scipy.sparse.linalg._expm_multiply', 'scipy.sparse.linalg.matfuncs', 'scipy.sparse.linalg._onenormest', 'scipy.sparse.linalg._norm', 'scipy.sparse.linalg', 'scipy.optimize._group_columns', 'scipy.optimize._numdiff', 'scipy.optimize._hessian_update_strategy', 'scipy.optimize._differentiable_functions', 'scipy.optimize.optimize', 'scipy.optimize._trustregion', 'scipy.optimize._trustregion_dogleg', 'scipy.optimize._trustregion_ncg', 'scipy.optimize._trlib._trlib', 'scipy.optimize._trlib', 'scipy.optimize._trustregion_krylov', 'scipy.optimize._trustregion_exact', 'numpy.testing._private', 'numpy.testing._private.utils', 'numpy.testing._private.decorators', 'numpy.testing._private.nosetester', 'numpy.testing', 'scipy.optimize._constraints', 'scipy.optimize._trustregion_constr.projections', 'scipy.optimize._trustregion_constr.qp_subproblem', 'scipy.optimize._trustregion_constr.equality_constrained_sqp', 'scipy.optimize._trustregion_constr.canonical_constraint', 'scipy.optimize._trustregion_constr.tr_interior_point', 'scipy.optimize._trustregion_constr.report', 'scipy.optimize._trustregion_constr.minimize_trustregion_constr', 'scipy.optimize._trustregion_constr', 'scipy.optimize._lbfgsb', 'scipy.optimize.lbfgsb', 'scipy.optimize.moduleTNC', 'scipy.optimize.tnc', 'scipy.optimize._cobyla', 'scipy.optimize.cobyla', 'scipy.optimize._slsqp', 'scipy.optimize.slsqp', 'scipy.optimize._minimize', 'scipy.optimize._minpack', 'scipy.optimize._lsq.common', 'scipy.optimize._lsq.trf', 'scipy.optimize._lsq.dogbox', 'scipy.optimize._lsq.least_squares', 'scipy.optimize._lsq.givens_elimination', 'scipy.optimize._lsq.trf_linear', 'scipy.optimize._lsq.bvls', 'scipy.optimize._lsq.lsq_linear', 'scipy.optimize._lsq', 'scipy.optimize.minpack', 'scipy.optimize._spectral', 'scipy.optimize.nonlin', 'scipy.optimize._root', 'scipy.optimize._zeros', 'scipy.optimize.zeros', 'scipy.optimize._root_scalar', 'scipy.optimize.__nnls', 'scipy.optimize._nnls', 'scipy.optimize._basinhopping', 'scipy.optimize._highs', 'scipy.optimize._highs.cython.src._highs_wrapper', 'scipy.optimize._highs._highs_wrapper', 'scipy.optimize._highs.cython.src._highs_constants', 'scipy.optimize._highs._highs_constants', 'scipy.optimize._linprog_highs', 'scipy.linalg._interpolative', 'scipy.linalg._interpolative_backend', 'scipy.linalg.interpolative', 'scipy.optimize._remove_redundancy', 'scipy.optimize._linprog_util', 'scipy.optimize._linprog_ip', 'scipy.optimize._linprog_simplex', 'scipy.optimize._bglu_dense', 'scipy.optimize._linprog_rs', 'scipy.optimize._linprog_doc', 'scipy.optimize._linprog', 'scipy.optimize._lsap_module', 'scipy.optimize._lsap', 'scipy.optimize._differentialevolution', 'scipy.optimize._shgo_lib', 'scipy.optimize._shgo_lib.triangulation', 'scipy.optimize._shgo', 'scipy.optimize._dual_annealing', 'scipy.optimize._qap', 'scipy.optimize', 'scipy.integrate._quadrature', 'scipy.integrate._odepack', 'scipy.integrate.odepack', 'scipy.integrate._quadpack', 'scipy.integrate.quadpack', 'scipy.integrate.vode', 'scipy.integrate._dop', 'scipy.integrate.lsoda', 'scipy.integrate._ode', 'scipy.integrate._bvp', 'scipy.integrate._ivp.common', 'scipy.integrate._ivp.base', 'scipy.integrate._ivp.bdf', 'scipy.integrate._ivp.radau', 'scipy.integrate._ivp.dop853_coefficients', 'scipy.integrate._ivp.rk', 'scipy.integrate._ivp.lsoda', 'scipy.integrate._ivp.ivp', 'scipy.integrate._ivp', 'scipy.integrate._quad_vec', 'scipy.integrate', 'scipy.misc.doccer', 'scipy.misc.common', 'scipy.misc', 'scipy.stats._constants', 'scipy.stats._distn_infrastructure', 'scipy.interpolate._fitpack', 'scipy.interpolate.dfitpack', 'scipy.interpolate._fitpack_impl', 'scipy.interpolate._bspl', 'scipy.interpolate._bsplines', 'scipy.interpolate.fitpack', 'scipy.interpolate.polyint', 'scipy.interpolate._ppoly', 'scipy.interpolate.fitpack2', 'scipy.interpolate.interpnd', 'scipy.interpolate.interpolate', 'scipy.interpolate.rbf', 'scipy.interpolate._rbfinterp_pythran', 'scipy.interpolate._rbfinterp', 'scipy.interpolate._cubic', 'scipy.interpolate.ndgriddata', 'scipy.interpolate._pade', 'scipy.interpolate', 'scipy.special.cython_special', 'scipy.stats._stats', 'scipy.stats._rvs_sampling', 'scipy.stats._tukeylambda_stats', 'scipy.stats._ksstats', 'beta_ufunc', 'scipy.stats._boost.beta_ufunc', 'binom_ufunc', 'scipy.stats._boost.binom_ufunc', 'nbinom_ufunc', 'scipy.stats._boost.nbinom_ufunc', 'scipy.stats._boost', 'scipy.stats._continuous_distns', 'scipy.stats.biasedurn', 'scipy.stats._discrete_distns', 'scipy.stats._entropy', 'scipy.stats.distributions', 'scipy._lib._bunch', 'scipy.stats._stats_mstats_common', 'scipy.stats.mstats_basic', 'scipy.stats._wilcoxon_data', 'scipy.stats._hypotests', 'scipy.stats.stats', 'scipy.stats.statlib', 'scipy.stats._common', 'scipy.stats._relative_risk', 'scipy.stats._crosstab', 'scipy.stats.contingency', 'scipy.stats.morestats', 'scipy.stats._binomtest', 'scipy.stats._binned_statistic', 'scipy.stats.mvn', 'scipy.stats.kde', 'scipy.stats.mstats_extras', 'scipy.stats.mstats', 'scipy.stats._sobol', 'scipy.stats._qmc_cy', 'scipy.stats._qmc', 'scipy.stats.qmc', 'scipy.stats._multivariate', 'scipy.stats._bootstrap', 'scipy.stats._page_trend_test', 'scipy.stats._mannwhitneyu', 'scipy.stats', 'sklearn.utils.deprecation', 'sklearn.utils.fixes', 'sklearn.exceptions', 'sklearn.utils.validation', 'sklearn.utils.class_weight', 'sklearn.utils._joblib', 'sklearn.utils._estimator_html_repr', 'sklearn.utils', 'sklearn.utils._tags', 'sklearn.base', 'sklearn.utils._openmp_helpers', 'sklearn.utils._show_versions', 'sklearn', 'sklearn.utils.metaestimators', 'sklearn.pipeline', 'sklearn.preprocessing._function_transformer', 'sklearn.utils._logistic_sigmoid', '_cython_0_29_23', 'sklearn.utils.sparsefuncs_fast', 'sklearn.utils.extmath', 'sklearn.utils.sparsefuncs', 'sklearn.preprocessing._csr_polynomial_expansion', 'sklearn.utils._encode', 'sklearn.preprocessing._encoders', 'sklearn.preprocessing._data', 'sklearn.utils.multiclass', 'sklearn.preprocessing._label', 'sklearn.preprocessing._discretization', 'sklearn.preprocessing', 'sklearn.compose._column_transformer', 'sklearn.compose._target', 'sklearn.compose', 'transformer.binary', 'transformer.label_map', 'transformer.baths', 'transformer.bedrooms', 'transformer.one_hot_array', 'transformer.select_col', 'transformer.db_label', 'transformer.db_numeric', 'transformer.drop_row', 'transformer.row_func', 'transformer.simple_column', 'transformer.simple_column_concurrent', 'transformer.preprocessor', 'prop.data_source', 'sklearn.model_selection._split', 'sklearn.metrics._base', 'sklearn.metrics._ranking', 'sklearn.metrics._classification', 'sklearn.metrics.cluster._expected_mutual_info_fast', 'sklearn.metrics.cluster._supervised', 'sklearn.utils._mask', 'sklearn.metrics._pairwise_fast', 'sklearn.metrics.pairwise', 'sklearn.metrics.cluster._unsupervised', 'sklearn.metrics.cluster._bicluster', 'sklearn.metrics.cluster', 'sklearn._loss', 'sklearn._loss.glm_distribution', 'sklearn.utils.stats', 'sklearn.metrics._regression', 'sklearn.metrics._scorer', 'sklearn.metrics._plot', 'sklearn.metrics._plot.base', 'sklearn.metrics._plot.det_curve', 'sklearn.metrics._plot.roc_curve', 'sklearn.metrics._plot.precision_recall_curve', 'sklearn.metrics._plot.confusion_matrix', 'sklearn.metrics', 'sklearn.model_selection._validation', 'sklearn.utils._random', 'sklearn.utils.random', 'sklearn.model_selection._search', 'sklearn.model_selection', 'predictor.base_predictor', 'lightgbm', 'lightgbm.basic', 'lightgbm.compat', 'matplotlib', 'matplotlib._api.deprecation', 'matplotlib._api', 'matplotlib._c_internal_utils', 'matplotlib.cbook', 'matplotlib.docstring', 'PIL._version', 'PIL', 'defusedxml.common', 'defusedxml', 'xml.etree', 'xml.etree.ElementPath', '_elementtree', 'xml.etree.ElementTree', 'defusedxml.ElementTree', 'PIL.ImageMode', 'PIL.TiffTags', 'PIL._binary', 'PIL._util', 'PIL._imaging', 'cffi.lock', 'cffi.error', 'cffi.model', 'cffi.api', 'cffi', 'PIL.Image', 'matplotlib._animation_data', 'matplotlib.animation', 'PIL.ImageChops', 'PIL.ImageFile', 'PIL.GimpGradientFile', 'PIL.GimpPaletteFile', 'PIL.ImageColor', 'PIL.PaletteFile', 'PIL.ImagePalette', 'PIL.ImageSequence', 'PIL.PngImagePlugin', 'matplotlib._path', 'matplotlib.bezier', 'matplotlib.path', 'matplotlib.transforms', 'matplotlib.ticker', 'matplotlib.scale', 'matplotlib._color_data', 'matplotlib.colors', 'pyparsing.util', 'pyparsing.unicode', 'pyparsing.exceptions', 'pyparsing.actions', 'pyparsing.results', 'pyparsing.core', 'pyparsing.helpers', 'pyparsing.testing', 'pyparsing.common', 'pyparsing', 'matplotlib.fontconfig_pattern', 'matplotlib._enums', 'cycler', 'matplotlib.rcsetup', 'matplotlib._version', 'matplotlib.ft2font', 'kiwisolver', 'dateutil.rrule', 'matplotlib.units', 'matplotlib.dates']\n"
     ]
    },
    {
     "name": "stderr",
     "output_type": "stream",
     "text": [
      "DEBUG:mongo.py:connect to DB\n",
      "INFO:organizer:Organizer job(program) status: run\n",
      "DEBUG:mongo.py:{'$set': {'hostName': 'FM.local', 'pid': 11302, 'batchNm': '/opt/anaconda3/lib/python3.9/site-packages/ipykernel_launcher.py', 'status': 'run', '_mt': datetime.datetime(2022, 6, 13, 21, 5, 26, 132262)}}\n",
      "INFO:organizer:Organizer job(init transformers) status: run\n",
      "DEBUG:mongo.py:{'$set': {'hostName': 'FM.local', 'pid': 11302, 'batchNm': '/opt/anaconda3/lib/python3.9/site-packages/ipykernel_launcher.py', 'status': 'run', '_mt': datetime.datetime(2022, 6, 13, 21, 5, 26, 140489)}}\n",
      "DEBUG:mongo.py:connect to DB\n",
      "INFO:prop.data_source:Mongo Query: {'onD': {'$gt': 20210101}, 'ptype': 'r', 'prov': 'ON', 'area': {'$in': ['Toronto', 'York', 'Halton', 'Durham', 'Peel', 'Hamilton', 'Simcoe']}}\n",
      "DEBUG:prop.data_source:columns: {result.columns} shape: {result.shape}\n",
      "INFO:prop.data_source:Result data shape:(332446, 74); used: 55.771337032318115s\n",
      "INFO:transformer.preprocessor:Building transformers for baseline transforming\n",
      "DEBUG:transformer.simple_column_concurrent:fit saletp_b:saletp\n",
      "DEBUG:transformer.simple_column_concurrent:fit ptype2_l:ptype2\n",
      "DEBUG:transformer.simple_column_concurrent:fit pets:pets\n",
      "DEBUG:transformer.simple_column_concurrent:fit laundry_lev:laundry_lev\n",
      "DEBUG:transformer.simple_column_concurrent:fit flt:flt\n",
      "DEBUG:transformer.simple_column_concurrent:fit depth:depth\n",
      "DEBUG:transformer.simple_column_concurrent:fit tax:tax\n",
      "DEBUG:transformer.simple_column_concurrent:fit taxyr:taxyr\n",
      "DEBUG:transformer.simple_column_concurrent:fit bltYr:None\n",
      "DEBUG:transformer.simple_column_concurrent:fit sqft:None\n",
      "DEBUG:transformer.simple_column_concurrent:fit st_num:st_num\n",
      "DEBUG:transformer.simple_column_concurrent:fit rms:None\n",
      "DEBUG:transformer.simple_column_concurrent:fit bths:None\n",
      "DEBUG:transformer.simple_column_concurrent:fit constr_x:None\n",
      "DEBUG:transformer.simple_column_concurrent:fit feat_x:None\n",
      "DEBUG:transformer.simple_column_concurrent:fit bsmt_x:None\n",
      "DEBUG:transformer.simple_column_concurrent:fit ac_x:None\n",
      "DEBUG:transformer.simple_column_concurrent:fit gatp_x:None\n",
      "DEBUG:transformer.simple_column_concurrent:fit lkr_x:None\n",
      "DEBUG:transformer.simple_column_concurrent:fit heat_x:None\n",
      "DEBUG:transformer.simple_column_concurrent:fit fce_x:None\n",
      "DEBUG:transformer.simple_column_concurrent:fit laundry_x:None\n",
      "DEBUG:transformer.simple_column_concurrent:fit park_fac_x:None\n",
      "DEBUG:transformer.simple_column_concurrent:fit status_b:status\n",
      "DEBUG:transformer.binary:binary.fit status\n",
      "DEBUG:transformer.simple_column_concurrent:fit den_fr_b:den_fr\n",
      "DEBUG:transformer.binary:binary.fit den_fr\n",
      "DEBUG:transformer.simple_column_concurrent:fit ens_lndry_b:ens_lndry\n",
      "DEBUG:transformer.binary:binary.fit ens_lndry\n",
      "DEBUG:transformer.simple_column_concurrent:fit cac_inc_b:cac_inc\n",
      "DEBUG:transformer.binary:binary.fit cac_inc\n",
      "DEBUG:transformer.simple_column_concurrent:fit comel_inc_b:comel_inc\n",
      "DEBUG:transformer.binary:binary.fit comel_inc\n",
      "DEBUG:transformer.simple_column_concurrent:fit heat_inc_b:heat_inc\n",
      "DEBUG:transformer.binary:binary.fit heat_inc\n",
      "DEBUG:transformer.simple_column_concurrent:fit prkg_inc_b:prkg_inc\n",
      "DEBUG:transformer.binary:binary.fit prkg_inc\n",
      "DEBUG:transformer.simple_column_concurrent:fit hydro_inc_b:hydro_inc\n",
      "DEBUG:transformer.binary:binary.fit hydro_inc\n",
      "DEBUG:transformer.simple_column_concurrent:fit water_inc_b:water_inc\n",
      "DEBUG:transformer.binary:binary.fit water_inc\n",
      "DEBUG:transformer.simple_column_concurrent:fit insur_bldg_b:insur_bldg\n",
      "DEBUG:transformer.binary:binary.fit insur_bldg\n",
      "DEBUG:transformer.simple_column_concurrent:fit tv_b:tv\n",
      "DEBUG:transformer.binary:binary.fit tv\n",
      "DEBUG:transformer.simple_column_concurrent:fit all_inc_b:all_inc\n",
      "DEBUG:transformer.binary:binary.fit all_inc\n",
      "DEBUG:transformer.simple_column_concurrent:fit pvt_ent_b:pvt_ent\n",
      "DEBUG:transformer.binary:binary.fit pvt_ent\n",
      "DEBUG:transformer.simple_column_concurrent:fit lst_c:lst\n",
      "DEBUG:transformer.db_label:label lst fit Mode.TRAIN\n"
     ]
    },
    {
     "name": "stdout",
     "output_type": "stream",
     "text": [
      "                _id           ac                 addr    area  bdrms  br_plus             bsmt  bthrms                                               bths       city  ... rmBltYr    mfee    unt  rmSqft ens_lndry insur_bldg        lkr   park_fac      pets  bltYr\n",
      "0       TRBE5073657  Central Air     1733 Woodgate Tr  Durham    3.0      0.0            [Fin]     3.0  [{'t': 2, 'l': '2nd', 'p': 4}, {'t': 1, 'l': '...     Oshawa  ...     NaN     NaN    NaN     NaN       NaN        NaN        NaN        NaN       NaN    NaN\n",
      "1       TRBE5073329  Central Air       274 Sharbot St  Durham    3.0      2.0       [Fin, Sep]     2.0  [{'t': 1, 'l': 'Main', 'p': 4}, {'t': 1, 'l': ...     Oshawa  ...     NaN     NaN    NaN     NaN       NaN        NaN        NaN        NaN       NaN    NaN\n",
      "2       TRBE5074416  Central Air        995 Hortop St  Durham    2.0      2.0       [Fin, Sep]     2.0  [{'t': 1, 'l': 'Main', 'p': 3}, {'t': 1, 'l': ...     Oshawa  ...     NaN     NaN    NaN     NaN       NaN        NaN        NaN        NaN       NaN    NaN\n",
      "3       TRBE5073267  Central Air     53 Bluegill Cres  Durham    3.0      0.0            [NON]     3.0  [{'t': 1, 'l': '2nd', 'p': 2}, {'t': 1, 'l': '...     Whitby  ...  2020.0     NaN    NaN     NaN       NaN        NaN        NaN        NaN       NaN    NaN\n",
      "4       TRBE5073219  Central Air            9 Cree Dr  Durham    3.0      1.0            [Fin]     4.0  [{'t': 2, 'l': '2nd', 'p': 4}, {'t': 1, 'l': '...       Ajax  ...  2009.0     NaN    NaN     NaN       NaN        NaN        NaN        NaN       NaN    NaN\n",
      "...             ...          ...                  ...     ...    ...      ...              ...     ...                                                ...        ...  ...     ...     ...    ...     ...       ...        ...        ...        ...       ...    ...\n",
      "332441  TRBN5492386  Central Air        3240 Kirby Rd    York    2.0      0.0            [NON]     2.0  [{'t': 1, 'l': 'Ground', 'p': 3}, {'t': 1, 'l'...    Vaughan  ...  1986.0     NaN    NaN  1900.0       NaN        NaN        NaN        NaN       NaN    NaN\n",
      "332442  TRBN5492393  Central Air         60 Disera Dr    York    1.0      0.0              NaN     1.0                                 [{'t': 1, 'p': 4}]    Vaughan  ...  2005.0  375.96   1108   600.0         Y          Y       None  Undergrnd  Restrict    NaN\n",
      "332443  TRBN5492394  Central Air         7895 Jane St    York    2.0      0.0            [NON]     2.0  [{'t': 1, 'l': 'Flat', 'p': 4}, {'t': 1, 'l': ...    Vaughan  ...  2020.0     NaN  Lph10   749.0       NaN          Y  Exclusive  Undergrnd  Restrict    NaN\n",
      "332444  TRBN5492398  Central Air         62 Lancer Dr    York    5.0      0.0            [NON]     3.0               [{'t': 1, 'p': 4}, {'t': 2, 'p': 3}]    Vaughan  ...     NaN     NaN    NaN  2017.0       NaN        NaN        NaN        NaN       NaN    NaN\n",
      "332445  TRBN5492400        Other  763 Greenfield Cres    York    3.0      0.0  [Fin, W/O, NON]     1.0                                 [{'t': 1, 'p': 4}]  Newmarket  ...     NaN     NaN    NaN     NaN       NaN        NaN        NaN        NaN       NaN    NaN\n",
      "\n",
      "[332446 rows x 74 columns]\n"
     ]
    },
    {
     "name": "stderr",
     "output_type": "stream",
     "text": [
      "INFO:transformer.db_label:lst took 0.0770 seconds 4.32M/sec\n",
      "DEBUG:transformer.simple_column_concurrent:fit prov_c:prov\n",
      "DEBUG:transformer.db_label:label prov fit Mode.TRAIN\n",
      "INFO:transformer.db_label:prov took 0.0736 seconds 4.52M/sec\n",
      "DEBUG:transformer.simple_column_concurrent:fit area_c:area\n",
      "DEBUG:transformer.db_label:label area fit Mode.TRAIN\n",
      "INFO:transformer.db_label:area took 0.0778 seconds 4.28M/sec\n",
      "DEBUG:transformer.simple_column_concurrent:fit city_c:city\n",
      "DEBUG:transformer.db_label:label city fit Mode.TRAIN\n",
      "INFO:transformer.db_label:city took 0.0772 seconds 4.31M/sec\n",
      "DEBUG:transformer.simple_column_concurrent:fit cmty_c:cmty\n",
      "DEBUG:transformer.db_label:label cmty fit Mode.TRAIN\n",
      "INFO:transformer.db_label:cmty took 0.0843 seconds 3.95M/sec\n",
      "DEBUG:transformer.simple_column_concurrent:fit st_c:st\n",
      "DEBUG:transformer.db_label:label st fit Mode.TRAIN\n",
      "INFO:transformer.db_label:st took 0.1337 seconds 2.49M/sec\n",
      "DEBUG:transformer.simple_column_concurrent:fit zip_c:zip\n",
      "DEBUG:transformer.db_label:label zip fit Mode.TRAIN\n",
      "INFO:transformer.db_label:zip took 0.2209 seconds 1.51M/sec\n",
      "DEBUG:transformer.simple_column_concurrent:fit rltr_c:rltr\n",
      "DEBUG:transformer.db_label:label rltr fit Mode.TRAIN\n",
      "INFO:transformer.db_label:rltr took 0.0632 seconds 5.26M/sec\n",
      "DEBUG:transformer.simple_column_concurrent:fit ptype2_l_c:ptype2_l\n",
      "DEBUG:transformer.simple_column_concurrent:fit pstyl_c:pstyl\n",
      "DEBUG:transformer.db_label:label pstyl fit Mode.TRAIN\n",
      "INFO:transformer.db_label:pstyl took 0.0760 seconds 4.37M/sec\n",
      "DEBUG:transformer.simple_column_concurrent:fit ptp_c:ptp\n",
      "DEBUG:transformer.db_label:label ptp fit Mode.TRAIN\n",
      "INFO:transformer.db_label:ptp took 0.0801 seconds 4.15M/sec\n",
      "DEBUG:transformer.simple_column_concurrent:fit lat_n:lat\n",
      "DEBUG:transformer.db_numeric:number lat fit Mode.TRAIN\n",
      "INFO:transformer.db_numeric:lat took 0.0101 seconds 32.75M/sec\n",
      "DEBUG:transformer.simple_column_concurrent:fit lng_n:lng\n",
      "DEBUG:transformer.db_numeric:number lng fit Mode.TRAIN\n",
      "INFO:transformer.db_numeric:lng took 0.0225 seconds 14.75M/sec\n",
      "DEBUG:transformer.simple_column_concurrent:fit mfee_n:mfee\n",
      "DEBUG:transformer.db_numeric:number mfee fit Mode.TRAIN\n",
      "INFO:transformer.db_numeric:mfee took 0.0641 seconds 5.19M/sec\n",
      "DEBUG:transformer.simple_column_concurrent:fit tbdrms_n:tbdrms\n",
      "DEBUG:transformer.db_numeric:number tbdrms fit Mode.TRAIN\n",
      "INFO:transformer.db_numeric:tbdrms took 0.0514 seconds 6.46M/sec\n",
      "DEBUG:transformer.simple_column_concurrent:fit bdrms_n:bdrms\n",
      "DEBUG:transformer.db_numeric:number bdrms fit Mode.TRAIN\n",
      "INFO:transformer.db_numeric:bdrms took 0.0511 seconds 6.51M/sec\n",
      "DEBUG:transformer.simple_column_concurrent:fit br_plus_n:br_plus\n",
      "DEBUG:transformer.db_numeric:number br_plus fit Mode.TRAIN\n",
      "INFO:transformer.db_numeric:br_plus took 0.0648 seconds 5.13M/sec\n",
      "DEBUG:transformer.simple_column_concurrent:fit bthrms_n:bthrms\n",
      "DEBUG:transformer.db_numeric:number bthrms fit Mode.TRAIN\n",
      "INFO:transformer.db_numeric:bthrms took 0.0490 seconds 6.78M/sec\n",
      "DEBUG:transformer.simple_column_concurrent:fit kch_n:kch\n",
      "DEBUG:transformer.db_numeric:number kch fit Mode.TRAIN\n",
      "INFO:transformer.db_numeric:kch took 0.0474 seconds 7.02M/sec\n",
      "DEBUG:transformer.simple_column_concurrent:fit tgr_n:tgr\n",
      "DEBUG:transformer.db_numeric:number tgr fit Mode.TRAIN\n",
      "INFO:transformer.db_numeric:tgr took 0.0477 seconds 6.96M/sec\n",
      "DEBUG:transformer.simple_column_concurrent:fit gr_n:gr\n",
      "DEBUG:transformer.db_numeric:number gr fit Mode.TRAIN\n",
      "INFO:transformer.db_numeric:gr took 0.0508 seconds 6.55M/sec\n",
      "DEBUG:transformer.simple_column_concurrent:fit lp_n:lp\n",
      "DEBUG:transformer.db_numeric:number lp fit Mode.TRAIN\n",
      "INFO:transformer.db_numeric:lp took 0.0711 seconds 4.68M/sec\n",
      "DEBUG:transformer.simple_column_concurrent:fit lpr_n:lpr\n",
      "DEBUG:transformer.db_numeric:number lpr fit Mode.TRAIN\n",
      "INFO:transformer.db_numeric:lpr took 0.0691 seconds 4.81M/sec\n",
      "DEBUG:transformer.simple_column_concurrent:fit sp_n:sp\n",
      "DEBUG:transformer.db_numeric:number sp fit Mode.TRAIN\n",
      "INFO:transformer.db_numeric:sp took 0.0731 seconds 4.55M/sec\n",
      "DEBUG:transformer.simple_column_concurrent:fit depth_n:depth\n",
      "DEBUG:transformer.db_numeric:number depth fit Mode.TRAIN\n",
      "INFO:transformer.db_numeric:depth took 0.0654 seconds 5.08M/sec\n",
      "DEBUG:transformer.simple_column_concurrent:fit flt_n:flt\n",
      "DEBUG:transformer.db_numeric:number flt fit Mode.TRAIN\n",
      "INFO:transformer.db_numeric:flt took 0.0662 seconds 5.02M/sec\n",
      "DEBUG:transformer.simple_column_concurrent:fit drop_na:None\n",
      "DEBUG:transformer.simple_column_concurrent:fit drop_check:None\n",
      "INFO:transformer.preprocessor:Transforming to baseline format\n",
      "INFO:transformer.simple_column_concurrent:num_procs: 9\n"
     ]
    },
    {
     "name": "stdout",
     "output_type": "stream",
     "text": [
      "before submit========================\n",
      "[               _id           ac                    addr    area  bdrms  br_plus        bsmt  bthrms                                               bths        city  ... rmBltYr    mfee  unt  rmSqft ens_lndry insur_bldg  lkr park_fac pets   bltYr\n",
      "0      TRBE5073657  Central Air        1733 Woodgate Tr  Durham    3.0      0.0       [Fin]     3.0  [{'t': 2, 'l': '2nd', 'p': 4}, {'t': 1, 'l': '...      Oshawa  ...     NaN     NaN  NaN     NaN       NaN        NaN  NaN      NaN  NaN     NaN\n",
      "1      TRBE5073329  Central Air          274 Sharbot St  Durham    3.0      2.0  [Fin, Sep]     2.0  [{'t': 1, 'l': 'Main', 'p': 4}, {'t': 1, 'l': ...      Oshawa  ...     NaN     NaN  NaN     NaN       NaN        NaN  NaN      NaN  NaN     NaN\n",
      "2      TRBE5074416  Central Air           995 Hortop St  Durham    2.0      2.0  [Fin, Sep]     2.0  [{'t': 1, 'l': 'Main', 'p': 3}, {'t': 1, 'l': ...      Oshawa  ...     NaN     NaN  NaN     NaN       NaN        NaN  NaN      NaN  NaN     NaN\n",
      "3      TRBE5073267  Central Air        53 Bluegill Cres  Durham    3.0      0.0       [NON]     3.0  [{'t': 1, 'l': '2nd', 'p': 2}, {'t': 1, 'l': '...      Whitby  ...  2020.0     NaN  NaN     NaN       NaN        NaN  NaN      NaN  NaN     NaN\n",
      "4      TRBE5073219  Central Air               9 Cree Dr  Durham    3.0      1.0       [Fin]     4.0  [{'t': 2, 'l': '2nd', 'p': 4}, {'t': 1, 'l': '...        Ajax  ...  2009.0     NaN  NaN     NaN       NaN        NaN  NaN      NaN  NaN     NaN\n",
      "...            ...          ...                     ...     ...    ...      ...         ...     ...                                                ...         ...  ...     ...     ...  ...     ...       ...        ...  ...      ...  ...     ...\n",
      "36934  TRBO5281509  Central Air          1267 Dorval Dr  Halton    3.0      0.0       [Fin]     4.0  [{'t': 2, 'l': None, 'p': 2}, {'t': 1, 'l': No...    Oakville  ...  2000.0  667.00   56     NaN       NaN        NaN  NaN      NaN    Y  2000.0\n",
      "36935  TRBO5282454  Central Air  2300 Upper Middle Rd W  Halton    1.0      NaN         NaN     1.0                      [{'t': 1, 'l': None, 'p': 4}]    Oakville  ...  2015.0  412.55  102     NaN       NaN          N  NaN      NaN    Y     NaN\n",
      "36936  TRBO5283137  Central Air       223 Wheat Boom Dr  Halton    3.0      0.0       [NON]     4.0  [{'t': 1, 'l': None, 'p': 2}, {'t': 2, 'l': No...    Oakville  ...  2017.0     NaN  NaN  1815.0       NaN        NaN  NaN      NaN  NaN     NaN\n",
      "36937  TRBW5281495  Central Air          778 Drury Lane  Halton    3.0      1.0  [Fin, Sep]     2.0  [{'t': 1, 'l': 'Main', 'p': 4}, {'t': 1, 'l': ...  Burlington  ...  1977.0     NaN  NaN     NaN       NaN        NaN  NaN      NaN  NaN     NaN\n",
      "36938  TRBW5280915  Central Air       1272 Greeniaus Rd  Halton    4.0      0.0     [unFin]     3.0  [{'t': 1, 'l': '2nd', 'p': 5}, {'t': 1, 'l': '...    Oakville  ...     NaN     NaN  NaN  3000.0       NaN        NaN  NaN      NaN  NaN     NaN\n",
      "\n",
      "[36939 rows x 74 columns],                _id           ac                    addr    area  bdrms  br_plus        bsmt  bthrms                                               bths          city  ... rmBltYr mfee   unt  rmSqft ens_lndry insur_bldg   lkr   park_fac      pets  bltYr\n",
      "36939  TRBW5281784  Central Air           155 Rowe Terr  Halton    4.0      0.0  [Fin, Sep]     4.0  [{'t': 1, 'l': 'Main', 'p': 2}, {'t': 1, 'l': ...        Milton  ...  2011.0  NaN   NaN  2840.0       NaN        NaN   NaN        NaN       NaN    NaN\n",
      "36940  TRBW5281300  Central Air    2176 Mount Forest Dr  Halton    4.0      NaN       [Fin]     1.0                    [{'t': 1, 'l': 'Main', 'p': 3}]    Burlington  ...     NaN  NaN   NaN     NaN       NaN        NaN   NaN        NaN       NaN    NaN\n",
      "36941  TRBW5281400  Central Air    762 Miltonbrook Cres  Halton    4.0      NaN         NaN     3.0  [{'t': 1, 'l': 'Main', 'p': 2}, {'t': 1, 'l': ...        Milton  ...     NaN  NaN   NaN     NaN       NaN        NaN   NaN        NaN       NaN    NaN\n",
      "36942  TRBW5286495  Central Air           515 Regina Dr  Halton    3.0      1.0       [Fin]     2.0  [{'t': 1, 'l': 'Main', 'p': 4}, {'t': 1, 'l': ...    Burlington  ...  1988.0  NaN   NaN     NaN       NaN        NaN   NaN        NaN       NaN    NaN\n",
      "36943  TRBW5281279  Central Air          242 Niagara Tr  Halton    5.0      NaN       [Sep]     5.0  [{'t': 1, 'l': 'Main', 'p': 2}, {'t': 2, 'l': ...  Halton Hills  ...     NaN  NaN   NaN  3134.0       NaN        NaN   NaN        NaN       NaN    NaN\n",
      "...            ...          ...                     ...     ...    ...      ...         ...     ...                                                ...           ...  ...     ...  ...   ...     ...       ...        ...   ...        ...       ...    ...\n",
      "73873  TRBW5173352  Central Air     62 Gordon Randle Dr    Peel    5.0      2.0  [Fin, W/U]     5.0  [{'t': 1, 'l': 'Main', 'p': 2}, {'t': 1, 'l': ...      Brampton  ...  2019.0  NaN   NaN     NaN       NaN        NaN   NaN        NaN       NaN    NaN\n",
      "73874  TRBW5173626  Central Air      79 Saintsbury Cres    Peel    4.0      2.0  [Fin, Sep]     4.0  [{'t': 1, 'l': 'Main', 'p': 2}, {'t': 1, 'l': ...      Brampton  ...     NaN  NaN   NaN     NaN       NaN        NaN   NaN        NaN       NaN    NaN\n",
      "73875  TRBW5173524  Central Air           64 Cortez Crt    Peel    1.0      0.0  [Fin, Apt]     1.0                    [{'t': 1, 'l': 'Bsmt', 'p': 4}]      Brampton  ...     NaN  NaN  Bsmt     NaN       NaN        NaN   NaN        NaN       NaN    NaN\n",
      "73876  TRBW5173205  Central Air             3 Hood Cres    Peel    4.0      2.0       [Fin]     4.0  [{'t': 1, 'l': 'Main', 'p': 2}, {'t': 1, 'l': ...      Brampton  ...     NaN  NaN   NaN     NaN       NaN        NaN   NaN        NaN       NaN    NaN\n",
      "73877  TRBW5172523  Central Air  385 Prince Of Wales Dr    Peel    2.0      0.0       [NON]     1.0                    [{'t': 1, 'l': 'Main', 'p': 4}]   Mississauga  ...  2011.0  NaN  1702     NaN       NaN          Y  None  Undergrnd  Restrict    NaN\n",
      "\n",
      "[36939 rows x 74 columns],                 _id           ac                   addr  area  bdrms  br_plus          bsmt  bthrms                                               bths         city  ... rmBltYr   mfee   unt  rmSqft ens_lndry insur_bldg      lkr   park_fac      pets  bltYr\n",
      "73878   TRBW5172710  Central Air      94 Addington Cres  Peel    4.0      1.0    [Fin, Sep]     3.0  [{'t': 1, 'l': 'Main', 'p': 2}, {'t': 1, 'l': ...     Brampton  ...     NaN    NaN   NaN     NaN       NaN        NaN      NaN        NaN       NaN    NaN\n",
      "73879   TRBW5174344  Central Air   52 Paisley Green Ave  Peel    4.0      0.0           NaN     3.0  [{'t': 1, 'l': '2nd', 'p': 5}, {'t': 1, 'l': '...      Caledon  ...     NaN    NaN   NaN     NaN       NaN        NaN      NaN        NaN       NaN    NaN\n",
      "73880   TRBW5173155  Central Air         846 Savoy Cres  Peel    3.0      0.0         [Fin]     3.0  [{'t': 1, 'l': 'Main', 'p': 4}, {'t': 1, 'l': ...  Mississauga  ...     NaN    NaN   NaN     NaN       NaN        NaN      NaN        NaN       NaN    NaN\n",
      "73881   TRBW5172332  Central Air  39 Charleswood Circ S  Peel    3.0      1.0         [Fin]     4.0  [{'t': 1, 'l': 'Upper', 'p': 4}, {'t': 1, 'l':...     Brampton  ...     NaN    NaN   NaN     NaN       NaN        NaN      NaN        NaN       NaN    NaN\n",
      "73882   TRBW5173148  Window Unit          47 Briar Path  Peel    3.0      1.0         [Fin]     2.0  [{'t': 1, 'l': '3rd', 'p': 4}, {'t': 1, 'l': '...     Brampton  ...     NaN  476.5    17     NaN         Y          Y     None    Private  Restrict    NaN\n",
      "...             ...          ...                    ...   ...    ...      ...           ...     ...                                                ...          ...  ...     ...    ...   ...     ...       ...        ...      ...        ...       ...    ...\n",
      "110812  TRBW5474540  Central Air        36 Loftsmoor Dr  Peel    3.0      1.0    [Fin, Sep]     4.0  [{'t': 1, 'l': '2nd', 'p': 4}, {'t': 1, 'l': '...     Brampton  ...     NaN    NaN   NaN     NaN       NaN        NaN      NaN        NaN       NaN    NaN\n",
      "110813  TRBW5474596  Central Air           21 Park St E  Peel    2.0      1.0         [NON]     2.0  [{'t': 1, 'l': 'Flat', 'p': 4}, {'t': 1, 'l': ...  Mississauga  ...  2020.0    NaN  1012     NaN       NaN          Y    Owned       None  Restrict    NaN\n",
      "110814  TRBW5474644  Central Air            350 Webb Dr  Peel    2.0      1.0         [NON]     2.0  [{'t': 1, 'l': 'Flat', 'p': 4}, {'t': 1, 'l': ...  Mississauga  ...  1993.0    NaN  1004  1165.0       NaN          Y  Ensuite  Undergrnd  Restrict    NaN\n",
      "110815  TRBW5474651  Central Air      145 Hillcrest Ave  Peel    2.0      0.0         [NON]     1.0                    [{'t': 1, 'l': 'Flat', 'p': 4}]  Mississauga  ...  1992.0    NaN   901   940.0       NaN          Y     None  Undergrnd  Restrict    NaN\n",
      "110816  TRBW5474678         None       6600 Mayfield Rd  Peel    6.0      NaN  [Prt, unFin]     2.0  [{'t': 1, 'l': 'Main', 'p': 3}, {'t': 1, 'l': ...      Caledon  ...     NaN    NaN   NaN     NaN       NaN        NaN      NaN        NaN       NaN    NaN\n",
      "\n",
      "[36939 rows x 74 columns],                 _id           ac                  addr     area  bdrms  br_plus             bsmt  bthrms                                               bths         city  ... rmBltYr    mfee   unt  rmSqft ens_lndry insur_bldg    lkr   park_fac      pets  bltYr\n",
      "110817  TRBW5474699  Central Air     26 Bakersfield Rd     Peel    5.0      NaN      [Full, Sep]     5.0  [{'t': 1, 'l': 'Main', 'p': 2}, {'t': 1, 'l': ...     Brampton  ...  2010.0     NaN   NaN     NaN       NaN        NaN    NaN        NaN       NaN    NaN\n",
      "110818  TRBW5474930  Central Air  7155 Magistrate Terr     Peel    3.0      1.0            [Fin]     3.0  [{'t': 1, 'l': 'Main', 'p': 2}, {'t': 2, 'l': ...  Mississauga  ...  2004.0     NaN  /148     NaN       NaN          N   None    Private  Restrict    NaN\n",
      "110819  TRBW5474949  Central Air   4080 Living Arts Dr     Peel    2.0      NaN            [NON]     2.0  [{'t': 1, 'l': 'Flat', 'p': 3}, {'t': 1, 'l': ...  Mississauga  ...  2006.0  588.00  1901   787.0         Y          Y  Owned       None  Restrict    NaN\n",
      "110820  TRBW5474954  Central Air    2400 Barcella Cres     Peel    3.0      2.0  [Prt, Fin, Sep]     3.0                                 [{'t': 3, 'p': 4}]  Mississauga  ...     NaN     NaN   NaN     NaN       NaN        NaN    NaN        NaN       NaN    NaN\n",
      "110821  TRBW5474998  Central Air         32 Fenton Way     Peel    4.0      0.0            [NON]     3.0  [{'t': 1, 'l': 'Main', 'p': 2}, {'t': 1, 'l': ...     Brampton  ...     NaN     NaN   NaN  3000.0       NaN        NaN    NaN        NaN       NaN    NaN\n",
      "...             ...          ...                   ...      ...    ...      ...              ...     ...                                                ...          ...  ...     ...     ...   ...     ...       ...        ...    ...        ...       ...    ...\n",
      "147751  TRBC5122030  Central Air            761 Bay St  Toronto    1.0      NaN            [NON]     1.0                    [{'t': 1, 'l': 'Main', 'p': 4}]      Toronto  ...  2009.0     NaN   706   615.0       NaN          Y   None  Undergrnd  Restrict    NaN\n",
      "147752  TRBE5118684  Central Air           55 Hart Ave  Toronto    4.0      0.0       [Fin, Apt]     1.0                    [{'t': 1, 'l': 'Main', 'p': 3}]      Toronto  ...     NaN     NaN  Main     NaN       NaN        NaN    NaN        NaN       NaN    NaN\n",
      "147753  TRBW5118765  Central Air          15 Legion Rd  Toronto    2.0      1.0            [NON]     2.0                      [{'t': 2, 'l': None, 'p': 3}]      Toronto  ...  2012.0     NaN  1504   900.0       NaN          Y   None  Undergrnd  Restrict    NaN\n",
      "147754  TRBE5118075  Central Air  275 Village Green Sq  Toronto    1.0      0.0            [NON]     1.0                    [{'t': 1, 'l': 'Flat', 'p': 4}]      Toronto  ...  2019.0     NaN  2817     NaN       NaN          Y   None  Undergrnd  Restrict    NaN\n",
      "147755  TRBC5118081  Central Air     88 Sheppard Ave E  Toronto    0.0      0.0            [NON]     1.0                    [{'t': 1, 'l': 'Flat', 'p': 3}]      Toronto  ...  2016.0  200.22   312   361.0         Y          Y   None       None         N    NaN\n",
      "\n",
      "[36939 rows x 74 columns],                 _id           ac                addr     area  bdrms  br_plus        bsmt  bthrms                                               bths     city  ... rmBltYr    mfee   unt rmSqft ens_lndry insur_bldg        lkr   park_fac      pets  bltYr\n",
      "147756  TRBC5118832  Central Air        36 Lisgar St  Toronto    2.0      0.0       [NON]     2.0                    [{'t': 2, 'l': 'Flat', 'p': 4}]  Toronto  ...  2015.0     NaN  909w    NaN       NaN          Y       None  Undergrnd  Restrict    NaN\n",
      "147757  TRBE5117478  Central Air       42 Harris Ave  Toronto    3.0      0.0       [NON]     2.0                      [{'t': 2, 'l': None, 'p': 3}]  Toronto  ...     NaN     NaN   NaN    NaN       NaN        NaN        NaN        NaN       NaN    NaN\n",
      "147758  TRBW5117657         None    564 Caledonia Rd  Toronto    3.0      2.0  [Fin, Apt]     2.0  [{'t': 1, 'l': 'Main', 'p': 4}, {'t': 1, 'l': ...  Toronto  ...     NaN     NaN   NaN    NaN       NaN        NaN        NaN        NaN       NaN    NaN\n",
      "147759  TRBW5118728  Central Air    5229 Dundas St W  Toronto    1.0      1.0       [NON]     1.0                    [{'t': 1, 'l': 'Flat', 'p': 4}]  Toronto  ...  2004.0     NaN  1901  840.0       NaN          Y      Owned  Undergrnd  Restrict    NaN\n",
      "147760  TRBW5119258  Central Air         17 Zorra St  Toronto    1.0      NaN       [NON]     1.0                      [{'t': 1, 'l': None, 'p': 4}]  Toronto  ...  2018.0     NaN  1605    NaN       NaN          Y      Owned  Undergrnd  Restrict    NaN\n",
      "...             ...          ...                 ...      ...    ...      ...         ...     ...                                                ...      ...  ...     ...     ...   ...    ...       ...        ...        ...        ...       ...    ...\n",
      "184689  TRBC5227735  Central Air          25 Soho St  Toronto    2.0      NaN       [NON]     2.0  [{'t': 1, 'l': '2nd', 'p': 4}, {'t': 1, 'l': '...  Toronto  ...  2005.0  691.61  P105    NaN         Y          Y  Exclusive  Undergrnd  Restrict    NaN\n",
      "184690  TRBC5228671  Central Air  161 Roehampton Ave  Toronto    0.0      0.0       [NON]     1.0                    [{'t': 1, 'l': 'Flat', 'p': 4}]  Toronto  ...  2019.0     NaN  1011    NaN       NaN          Y      Owned       None         N    NaN\n",
      "184691  TRBC5227597  Central Air       629 King St W  Toronto    1.0      0.0       [NON]     1.0                    [{'t': 1, 'l': 'Main', 'p': 3}]  Toronto  ...  2016.0     NaN   318    NaN       NaN          N      Owned       None  Restrict    NaN\n",
      "184692  TRBC5227586  Window Unit    725 Don Mills Rd  Toronto    1.0      1.0       [NON]     1.0                      [{'t': 1, 'l': None, 'p': 4}]  Toronto  ...  1973.0     NaN  2604    NaN       NaN          Y       None  Undergrnd         N    NaN\n",
      "184693  TRBC5228532         None      25 Pebble Bywy  Toronto    3.0      0.0       [NON]     1.0                     [{'t': 1, 'l': '2nd', 'p': 3}]  Toronto  ...  1977.0  530.41    28    NaN         Y          Y       None  Undergrnd         N    NaN\n",
      "\n",
      "[36938 rows x 74 columns],                 _id           ac                  addr     area  bdrms  br_plus             bsmt  bthrms                                               bths     city  ... rmBltYr     mfee      unt  rmSqft ens_lndry insur_bldg    lkr   park_fac      pets  bltYr\n",
      "184694  TRBW5228435  Central Air    20 Shore Breeze Dr  Toronto    1.0      0.0            [NON]     1.0                    [{'t': 1, 'l': 'Main', 'p': 4}]  Toronto  ...  2018.0      NaN      222     NaN       NaN          Y   None       None         N    NaN\n",
      "184695  TRBC5228252  Central Air      61 Rollscourt Dr  Toronto    5.0      2.0       [Sep, W/U]     9.0  [{'t': 2, 'l': None, 'p': 2}, {'t': 6, 'l': No...  Toronto  ...     NaN      NaN      NaN     NaN       NaN        NaN    NaN        NaN       NaN    NaN\n",
      "184696  TRBC5228168  Central Air  18 Spring Garden Ave  Toronto    2.0      0.0            [NON]     1.0                    [{'t': 1, 'l': 'Flat', 'p': 4}]  Toronto  ...  2009.0      NaN     2503   734.0       NaN        NaN   None  Undergrnd  Restrict    NaN\n",
      "184697  TRBC5228570  Central Air      57 Paperbirch Dr  Toronto    4.0      1.0       [Fin, Sep]     2.0  [{'t': 1, 'l': 'Ground', 'p': 4}, {'t': 1, 'l'...  Toronto  ...     NaN      NaN      NaN     NaN       NaN        NaN    NaN        NaN       NaN    NaN\n",
      "184698  TRBC5228396         None      1888 Bayview Ave  Toronto    2.0      0.0            [NON]     3.0  [{'t': 1, 'l': None, 'p': 2}, {'t': 1, 'l': No...  Toronto  ...  2014.0  1299.43      507  1515.0         Y          Y  Owned  Undergrnd  Restrict    NaN\n",
      "...             ...          ...                   ...      ...    ...      ...              ...     ...                                                ...      ...  ...     ...      ...      ...     ...       ...        ...    ...        ...       ...    ...\n",
      "221627  TRBC5329359  Central Air          142 Grace St  Toronto    2.0      NaN            [NON]     1.0                    [{'t': 1, 'l': 'Main', 'p': 4}]  Toronto  ...     NaN      NaN  Mainflr     NaN       NaN        NaN    NaN        NaN       NaN    NaN\n",
      "221628  TRBC5328733  Central Air      231 Otonabee Ave  Toronto    3.0      3.0  [Fin, Apt, Sep]     4.0  [{'t': 1, 'l': None, 'p': 1}, {'t': 3, 'l': No...  Toronto  ...     NaN      NaN      NaN     NaN       NaN        NaN    NaN        NaN       NaN    NaN\n",
      "221629  TRBC5328021  Central Air    209 Fort York Blvd  Toronto    1.0      1.0            [NON]     1.0                    [{'t': 1, 'l': 'Flat', 'p': 4}]  Toronto  ...  2011.0   617.60      973   773.0         Y          Y  Owned  Undergrnd  Restrict    NaN\n",
      "221630  TRBC5328869  Central Air        50 Ordnance St  Toronto    2.0      0.0            [NON]     2.0                    [{'t': 2, 'l': 'Main', 'p': 3}]  Toronto  ...  2020.0   638.00     3305   835.0         Y          Y  Owned  Undergrnd  Restrict    NaN\n",
      "221631  TRBC5328526  Central Air        284 Ontario St  Toronto    0.0      0.0            [NON]     1.0                    [{'t': 1, 'l': 'Main', 'p': 4}]  Toronto  ...     NaN      NaN      NaN     NaN       NaN        NaN    NaN        NaN       NaN    NaN\n",
      "\n",
      "[36938 rows x 74 columns],                 _id           ac                     addr     area  bdrms  br_plus        bsmt  bthrms                                               bths     city  ... rmBltYr    mfee   unt  rmSqft ens_lndry insur_bldg    lkr   park_fac      pets  bltYr\n",
      "221632  TRBC5329126  Central Air    637 Lake Shore Blvd W  Toronto    1.0      0.0       [NON]     1.0                    [{'t': 1, 'l': 'Flat', 'p': 4}]  Toronto  ...  1996.0  450.52   214   607.0         Y          Y   None  Undergrnd  Restrict    NaN\n",
      "221633  TRBW5328721  Window Unit             390 Dixon Rd  Toronto    3.0      0.0       [NON]     2.0  [{'t': 1, 'l': None, 'p': 4}, {'t': 1, 'l': No...  Toronto  ...  1975.0  803.85   110     NaN         Y          Y   None  Undergrnd  Restrict    NaN\n",
      "221634  TRBC5329121  Central Air           115 Mcmahon Dr  Toronto    1.0      1.0       [NON]     1.0                    [{'t': 1, 'l': 'Flat', 'p': 4}]  Toronto  ...  2018.0     NaN   202   595.0       NaN          Y  Owned  Undergrnd  Restrict    NaN\n",
      "221635  TRBC5328339  Central Air  18 Harrison Garden Blvd  Toronto    1.0      0.0       [NON]     1.0                    [{'t': 1, 'l': 'Main', 'p': 4}]  Toronto  ...  2005.0  431.44  1407   525.0         Y          Y  Owned  Undergrnd  Restrict    NaN\n",
      "221636  TRBC5328836  Central Air           30 Nelson St E  Toronto    1.0      0.0       [NON]     1.0                      [{'t': 1, 'l': None, 'p': 4}]  Toronto  ...  2016.0  421.43   209     NaN         Y          Y  Owned       None         N    NaN\n",
      "...             ...          ...                      ...      ...    ...      ...         ...     ...                                                ...      ...  ...     ...     ...   ...     ...       ...        ...    ...        ...       ...    ...\n",
      "258565  TRBE5427262  Central Air         153 Mortimer Ave  Toronto    3.0      2.0  [Fin, Sep]     2.0  [{'t': 1, 'l': '2nd', 'p': 4}, {'t': 1, 'l': '...  Toronto  ...     NaN     NaN   NaN     NaN       NaN        NaN    NaN        NaN       NaN    NaN\n",
      "258566  TRBC5426940  Central Air           15 Beverley St  Toronto    1.0      NaN       [NON]     1.0                    [{'t': 1, 'l': 'Flat', 'p': 3}]  Toronto  ...  2016.0  641.08   908   560.0         Y          Y  Owned       None  Restrict    NaN\n",
      "258567  TRBC5427470  Central Air       32 Forest Manor Rd  Toronto    2.0      1.0       [NON]     2.0  [{'t': 1, 'l': 'Flat', 'p': 4}, {'t': 1, 'l': ...  Toronto  ...  2022.0     NaN  2208   807.0       NaN          Y  Owned  Undergrnd         N    NaN\n",
      "258568  TRBE5427397  Window Unit          2112 Queen St E  Toronto    2.0      0.0       [NON]     2.0  [{'t': 1, 'l': 'Main', 'p': 2}, {'t': 1, 'l': ...  Toronto  ...  1991.0  887.74     2     NaN         Y          Y  Owned  Undergrnd  Restrict    NaN\n",
      "258569  TRBE5427126  Central Air              8 Yates Ave  Toronto    4.0      0.0       [NON]     3.0  [{'t': 1, 'l': 'Main', 'p': 2}, {'t': 1, 'l': ...  Toronto  ...  2007.0     NaN   NaN  1973.0       NaN        NaN    NaN        NaN       NaN    NaN\n",
      "\n",
      "[36938 rows x 74 columns],                 _id           ac                addr     area  bdrms  br_plus        bsmt  bthrms                                               bths           city  ... rmBltYr    mfee    unt  rmSqft ens_lndry insur_bldg        lkr   park_fac      pets  bltYr\n",
      "258570  TRBW5427842  Central Air      30 Bernice Ave  Toronto    3.0      1.0       [W/U]     3.0  [{'t': 1, 'l': None, 'p': 4}, {'t': 1, 'l': No...        Toronto  ...     NaN     NaN    NaN     NaN       NaN        NaN        NaN        NaN       NaN    NaN\n",
      "258571  TRBC5427605         None    15 Wood Fern Way  Toronto    3.0      0.0         NaN     2.0  [{'t': 1, 'l': 'Main', 'p': 2}, {'t': 1, 'l': ...        Toronto  ...     NaN  400.00    NaN     NaN         Y          Y       None    Private  Restrict    NaN\n",
      "258572  TRBW5426967  Central Air    80 Parrotta Dr N  Toronto    2.0      0.0       [NON]     2.0  [{'t': 1, 'l': 'Main', 'p': 2}, {'t': 1, 'l': ...        Toronto  ...     NaN  301.36    136     NaN         Y          Y  Exclusive  Undergrnd  Restrict    NaN\n",
      "258573  TRBC5427370  Central Air  871 Palmerston Ave  Toronto    3.0      0.0     [unFin]     3.0  [{'t': 1, 'l': 'Main', 'p': 2}, {'t': 1, 'l': ...        Toronto  ...     NaN     NaN    NaN     NaN       NaN        NaN        NaN        NaN       NaN    NaN\n",
      "258574  TRBC5427491  Central Air        30 Nelson St  Toronto    3.0      1.0         NaN     3.0  [{'t': 1, 'l': 'Main', 'p': 4}, {'t': 1, 'l': ...        Toronto  ...  2017.0     NaN   Th24     NaN       NaN          Y      Owned  Undergrnd  Restrict    NaN\n",
      "...             ...          ...                 ...      ...    ...      ...         ...     ...                                                ...            ...  ...     ...     ...    ...     ...       ...        ...        ...        ...       ...    ...\n",
      "295503  TRBN5185176  Central Air     124 Via Teodoro     York    5.0      0.0       [Sep]     4.0  [{'t': 1, 'l': 'Main', 'p': 2}, {'t': 3, 'l': ...        Vaughan  ...     NaN     NaN    NaN  3440.0       NaN        NaN        NaN        NaN       NaN    NaN\n",
      "295504  TRBN5190282  Central Air         1 Emily Crt     York    1.0      NaN  [Fin, Apt]     1.0                      [{'t': 1, 'l': None, 'p': 3}]  Richmond Hill  ...     NaN     NaN  Lower     NaN       NaN        NaN        NaN        NaN       NaN    NaN\n",
      "295505  TRBN5186586  Central Air        11 Betony Dr     York    4.0      2.0  [Fin, Sep]     5.0  [{'t': 1, 'l': 'Main', 'p': 2}, {'t': 1, 'l': ...  Richmond Hill  ...     NaN     NaN    NaN     NaN       NaN        NaN        NaN        NaN       NaN    NaN\n",
      "295506  TRBN5185483  Central Air        9 Motley Crt     York    4.0      0.0         NaN     4.0  [{'t': 1, 'l': '2nd', 'p': 6}, {'t': 1, 'l': '...  Richmond Hill  ...     NaN     NaN    NaN  3335.0       NaN        NaN        NaN        NaN       NaN    NaN\n",
      "295507  TRBN5186273  Central Air   277 South Park Rd     York    1.0      1.0       [NON]     1.0                    [{'t': 1, 'l': 'Main', 'p': 4}]        Markham  ...  2014.0  400.80    102   719.0         Y          Y      Owned  Undergrnd  Restrict    NaN\n",
      "\n",
      "[36938 rows x 74 columns],                 _id           ac                  addr  area  bdrms  br_plus             bsmt  bthrms                                               bths           city  ... rmBltYr    mfee    unt  rmSqft ens_lndry insur_bldg        lkr   park_fac      pets  bltYr\n",
      "295508  TRBN5186542  Central Air   40 William Roe Blvd  York    2.0      0.0            [NON]     1.0                    [{'t': 1, 'l': 'Main', 'p': 4}]      Newmarket  ...  1979.0  424.22    211   950.0         Y          Y  Exclusive    Private  Restrict    NaN\n",
      "295509  TRBN5186286  Central Air  18 Rouge Valley Dr W  York    2.0      NaN            [NON]     2.0  [{'t': 1, 'l': 'Main', 'p': 3}, {'t': 1, 'l': ...        Markham  ...  2021.0  469.81   509c   768.0         Y          Y      Owned  Undergrnd  Restrict    NaN\n",
      "295510  TRBN5186442  Central Air          51 Solace Rd  York    4.0      1.0            [Fin]     5.0  [{'t': 1, 'l': None, 'p': 5}, {'t': 1, 'l': No...        Markham  ...     NaN     NaN    NaN     NaN       NaN        NaN        NaN        NaN       NaN    NaN\n",
      "295511  TRBN5186319  Central Air      5 Park Lane Circ  York    4.0      2.0       [Fin, Sep]     4.0  [{'t': 1, 'l': '2nd', 'p': 5}, {'t': 1, 'l': '...  Richmond Hill  ...     NaN     NaN    NaN     NaN       NaN        NaN        NaN        NaN       NaN    NaN\n",
      "295512  TRBN5186037  Central Air     14 Lynngrove Cres  York    5.0      0.0       [Fin, Sep]     7.0  [{'t': 1, 'l': None, 'p': 4}, {'t': 5, 'l': No...  Richmond Hill  ...     NaN     NaN    NaN     NaN       NaN        NaN        NaN        NaN       NaN    NaN\n",
      "...             ...          ...                   ...   ...    ...      ...              ...     ...                                                ...            ...  ...     ...     ...    ...     ...       ...        ...        ...        ...       ...    ...\n",
      "332441  TRBN5492386  Central Air         3240 Kirby Rd  York    2.0      0.0            [NON]     2.0  [{'t': 1, 'l': 'Ground', 'p': 3}, {'t': 1, 'l'...        Vaughan  ...  1986.0     NaN    NaN  1900.0       NaN        NaN        NaN        NaN       NaN    NaN\n",
      "332442  TRBN5492393  Central Air          60 Disera Dr  York    1.0      0.0              NaN     1.0                                 [{'t': 1, 'p': 4}]        Vaughan  ...  2005.0  375.96   1108   600.0         Y          Y       None  Undergrnd  Restrict    NaN\n",
      "332443  TRBN5492394  Central Air          7895 Jane St  York    2.0      0.0            [NON]     2.0  [{'t': 1, 'l': 'Flat', 'p': 4}, {'t': 1, 'l': ...        Vaughan  ...  2020.0     NaN  Lph10   749.0       NaN          Y  Exclusive  Undergrnd  Restrict    NaN\n",
      "332444  TRBN5492398  Central Air          62 Lancer Dr  York    5.0      0.0            [NON]     3.0               [{'t': 1, 'p': 4}, {'t': 2, 'p': 3}]        Vaughan  ...     NaN     NaN    NaN  2017.0       NaN        NaN        NaN        NaN       NaN    NaN\n",
      "332445  TRBN5492400        Other   763 Greenfield Cres  York    3.0      0.0  [Fin, W/O, NON]     1.0                                 [{'t': 1, 'p': 4}]      Newmarket  ...     NaN     NaN    NaN     NaN       NaN        NaN        NaN        NaN       NaN    NaN\n",
      "\n",
      "[36938 rows x 74 columns]]\n"
     ]
    },
    {
     "name": "stdout",
     "output_type": "stream",
     "text": [
      "after submit========================\n",
      "[<Future at 0x7f7b413028b0 state=running>, <Future at 0x7f7ed039fe80 state=running>, <Future at 0x7f7ba01cf490 state=running>, <Future at 0x7f7ba01cf190 state=running>, <Future at 0x7f7b4131d880 state=running>, <Future at 0x7f7b4131d5b0 state=running>, <Future at 0x7f7b4131d340 state=running>, <Future at 0x7f7ba01e97f0 state=pending>, <Future at 0x7f7ba01e99a0 state=pending>]\n"
     ]
    },
    {
     "name": "stderr",
     "output_type": "stream",
     "text": [
      "2970/36938 nan values in rms\n",
      "2819/36938 nan values in rms\n",
      "3227/36938 nan values in rms\n",
      "2734/36939 nan values in rms\n",
      "2297/36939 nan values in rms\n",
      "1670/36939 nan values in rms\n",
      "1901/36939 nan values in rms\n",
      "2861/36938 nan values in rms\n",
      "132/36938 nan values in bths\n",
      "115/36938 nan values in bths\n",
      "83/36938 nan values in bths\n",
      "122/36939 nan values in bths\n",
      "2413/36938 nan values in rms\n",
      "37/36938 nan values in bths\n",
      "8/36939 nan values in bths\n",
      "81/36939 nan values in bths\n",
      "120/36939 nan values in bths\n",
      "41/36938 nan values in bths\n",
      "park_fac 4 not in map\n",
      "park_fac 7 not in map\n",
      "park_fac 3 not in map\n",
      "park_fac 6 not in map\n",
      "park_fac 7 not in map\n",
      "park_fac 4 not in map\n",
      "park_fac 7 not in map\n",
      "park_fac 7 not in map\n",
      "park_fac 6 not in map\n",
      "park_fac 3 not in map\n",
      "park_fac 5 not in map\n",
      "park_fac 7 not in map\n",
      "park_fac 7 not in map\n",
      "INFO:transformer.simple_column_concurrent:transform took 226.9042 seconds 1.47k/sec\n"
     ]
    },
    {
     "name": "stdout",
     "output_type": "stream",
     "text": [
      "after merge========================\n",
      "                _id           ac                 addr     area  bdrms  br_plus             bsmt  bthrms                                               bths       city  ... tbdrms_n bdrms_n br_plus_n bthrms_n kch_n tgr_n  gr_n      lp_n   lpr_n      sp_n\n",
      "147756  TRBC5118832  Central Air         36 Lisgar St  Toronto    2.0      0.0            [NON]     2.0                    [{'t': 2, 'l': 'Flat', 'p': 4}]    Toronto  ...      2.0     2.0       0.0      2.0   1.0   1.0   1.0       0.0  2180.0    2100.0\n",
      "147757  TRBE5117478  Central Air        42 Harris Ave  Toronto    3.0      0.0            [NON]     2.0                      [{'t': 2, 'l': None, 'p': 3}]    Toronto  ...      3.0     3.0       0.0      2.0   1.0   2.0   1.0       0.0  3800.0    4500.0\n",
      "147758  TRBW5117657         None     564 Caledonia Rd  Toronto    3.0      2.0       [Fin, Apt]     2.0  [{'t': 1, 'l': 'Main', 'p': 4}, {'t': 1, 'l': ...    Toronto  ...      5.0     3.0       2.0      2.0   2.0   0.0   0.0  879000.0     0.0       0.0\n",
      "147759  TRBW5118728  Central Air     5229 Dundas St W  Toronto    1.0      1.0            [NON]     1.0                    [{'t': 1, 'l': 'Flat', 'p': 4}]    Toronto  ...      2.0     1.0       1.0      1.0   1.0   1.0   1.0       0.0  2250.0    2000.0\n",
      "147760  TRBW5119258  Central Air          17 Zorra St  Toronto    1.0      0.0            [NON]     1.0                      [{'t': 1, 'l': None, 'p': 4}]    Toronto  ...      1.0     1.0       0.0      1.0   1.0   1.0   1.0       0.0  1650.0    1650.0\n",
      "...             ...          ...                  ...      ...    ...      ...              ...     ...                                                ...        ...  ...      ...     ...       ...      ...   ...   ...   ...       ...     ...       ...\n",
      "332441  TRBN5492386  Central Air        3240 Kirby Rd     York    2.0      0.0            [NON]     2.0  [{'t': 1, 'l': 'Ground', 'p': 3}, {'t': 1, 'l'...    Vaughan  ...      2.0     2.0       0.0      2.0   1.0   4.0   1.0       0.0  2400.0    2400.0\n",
      "332442  TRBN5492393  Central Air         60 Disera Dr     York    1.0      0.0              NaN     1.0                                 [{'t': 1, 'p': 4}]    Vaughan  ...      1.0     1.0       0.0      1.0   1.0   1.0   1.0  528000.0     0.0  640000.0\n",
      "332443  TRBN5492394  Central Air         7895 Jane St     York    2.0      0.0            [NON]     2.0  [{'t': 1, 'l': 'Flat', 'p': 4}, {'t': 1, 'l': ...    Vaughan  ...      2.0     2.0       0.0      2.0   1.0   1.0   1.0       0.0  2400.0    2400.0\n",
      "332444  TRBN5492398  Central Air         62 Lancer Dr     York    5.0      0.0            [NON]     3.0               [{'t': 1, 'p': 4}, {'t': 2, 'p': 3}]    Vaughan  ...      5.0     5.0       0.0      3.0   1.0   3.0   0.0       0.0  3495.0       0.0\n",
      "332445  TRBN5492400        Other  763 Greenfield Cres     York    3.0      0.0  [Fin, W/O, NON]     1.0                                 [{'t': 1, 'p': 4}]  Newmarket  ...      3.0     3.0       0.0      1.0   1.0   2.0   0.0       0.0  2550.0       0.0\n",
      "\n",
      "[332242 rows x 287 columns]\n"
     ]
    },
    {
     "name": "stderr",
     "output_type": "stream",
     "text": [
      "INFO:organizer:Organizer job(init transformers) status: done\n",
      "DEBUG:mongo.py:{'$set': {'hostName': 'FM.local', 'pid': 11302, 'batchNm': '/opt/anaconda3/lib/python3.9/site-packages/ipykernel_launcher.py', 'status': 'done', '_mt': datetime.datetime(2022, 6, 13, 21, 10, 12, 692646)}}\n"
     ]
    },
    {
     "name": "stdout",
     "output_type": "stream",
     "text": [
      "Timer Elapsed time: 286.5694 s N/A/sec\n"
     ]
    }
   ],
   "source": [
    "from organizer import Organizer\n",
    "from base.timer import Timer\n",
    "t = Timer()\n",
    "t.start()\n",
    "org = Organizer()\n",
    "org.init_transformers()\n",
    "t.stop()\n",
    "data_source = org.data_source"
   ]
  },
  {
   "cell_type": "code",
   "execution_count": 3,
   "id": "6a13fa86",
   "metadata": {},
   "outputs": [
    {
     "name": "stderr",
     "output_type": "stream",
     "text": [
      "INFO:organizer:Organizer job(train predictors) status: run\n",
      "DEBUG:mongo.py:{'$set': {'hostName': 'FM.local', 'pid': 11302, 'batchNm': '/opt/anaconda3/lib/python3.9/site-packages/ipykernel_launcher.py', 'status': 'run', '_mt': datetime.datetime(2022, 6, 13, 21, 10, 21, 406473)}}\n",
      "INFO:organizer:Organizer job(__train predictors) status: run\n",
      "DEBUG:mongo.py:{'$set': {'hostName': 'FM.local', 'pid': 11302, 'batchNm': '/opt/anaconda3/lib/python3.9/site-packages/ipykernel_launcher.py', 'status': 'run', '_mt': datetime.datetime(2022, 6, 13, 21, 10, 21, 409112)}}\n"
     ]
    },
    {
     "name": "stdout",
     "output_type": "stream",
     "text": [
      "[slice(0, 0, None), slice('Condo', 'Condo', None), slice('ON', 'ON', None), slice('Toronto', 'Toronto', None), slice('Toronto', 'Toronto', None), slice(None, None, None)]\n"
     ]
    },
    {
     "name": "stderr",
     "output_type": "stream",
     "text": [
      "INFO:predictor.built_year:BuiltYear: model_params: {'n_estimators': 300, 'max_depth': -1, 'num_leaves': 100}\n"
     ]
    },
    {
     "name": "stdout",
     "output_type": "stream",
     "text": [
      "                                                        lat_n      lng_n  zip_c  gatpGrOther_b  gatpGrLane_b  gatpGrPlaza_b  gatpGrPublic_b  gatpGrSingleDetached_b  gatpGrBuiltIn_b  gatpGrBoulevard_b  ...  gatpGrUnderground_b  gatpGrAttached_b  gatpGrReserved_b  gatpGrDetached_b  gatpGrStreet_b   st_c  status_b  st_num_n  bthrms_n  bltYr_n\n",
      "saletp_b ptype2_l prov area    city    _id                                                                                                                                                               ...                                                                                                                                         \n",
      "0.0      Condo    ON   Toronto Toronto TRBC5413381  43.642246 -79.383586  58028              0             0              0               0                       0                0                  0  ...                    1                 0                 0                 0               0  14982         0      51.0       2.0   2007.0\n",
      "                                       TRBW5443710  43.625479 -79.478816  63358              0             0              0               0                       0                0                  0  ...                    1                 0                 0                 0               0   1065         0      56.0       2.0   2017.0\n",
      "                                       TRBC5336500  43.638807 -79.399753  59313              0             0              0               0                       0                0                  0  ...                    1                 0                 0                 0               0  19605         0      90.0       1.0   2018.0\n",
      "                                       TRBC5368359  43.672003 -79.387930  57123              0             0              0               0                       0                0                  0  ...                    1                 0                 0                 0               0  26726         0      18.0       2.0   2006.0\n",
      "                                       TRBE5418605  43.799136 -79.148592  45622              0             0              0               0                       0                0                  0  ...                    1                 0                 0                 0               0  21801         0   11753.0       2.0   1993.0\n",
      "...                                                       ...        ...    ...            ...           ...            ...             ...                     ...              ...                ...  ...                  ...               ...               ...               ...             ...    ...       ...       ...       ...      ...\n",
      "                                       TRBC5455560  43.733610 -79.449101  52545              0             0              0               0                       0                0                  0  ...                    1                 0                 0                 0               0  16771         0      38.0       1.0   2020.0\n",
      "                                       TRBC5345264  43.661083 -79.381620  57745              0             0              0               0                       0                0                  0  ...                    1                 0                 0                 0               0   4394         0      25.0       1.0   2009.0\n",
      "                                       TRBW5473770  43.730772 -79.610861  66614              0             0              0               0                       0                0                  0  ...                    1                 0                 0                 0               0  12182         0       6.0       2.0   1994.0\n",
      "                                       TRBC5407515  43.642029 -79.413374  61720              0             0              0               0                       0                0                  0  ...                    1                 0                 0                 0               0  13437         0     954.0       1.0   1999.0\n",
      "                                       TRBW5345225  43.623720 -79.483703  64224              0             0              0               0                       0                0                  0  ...                    1                 0                 0                 0               0  18363         0      36.0       1.0   2017.0\n",
      "\n",
      "[11876 rows x 29 columns]\n"
     ]
    },
    {
     "name": "stderr",
     "output_type": "stream",
     "text": [
      "INFO:BuiltYear:BuiltYear took 17.1704 seconds 691.0/sec\n",
      "INFO:organizer:Organizer job(__train predictors) status: done\n",
      "DEBUG:mongo.py:{'$set': {'hostName': 'FM.local', 'pid': 11302, 'batchNm': '/opt/anaconda3/lib/python3.9/site-packages/ipykernel_launcher.py', 'status': 'done', '_mt': datetime.datetime(2022, 6, 13, 21, 10, 39, 237190)}}\n",
      "INFO:organizer:Organizer job(train predictors) status: done\n",
      "DEBUG:mongo.py:{'$set': {'hostName': 'FM.local', 'pid': 11302, 'batchNm': '/opt/anaconda3/lib/python3.9/site-packages/ipykernel_launcher.py', 'status': 'done', '_mt': datetime.datetime(2022, 6, 13, 21, 10, 39, 240033)}}\n"
     ]
    },
    {
     "name": "stdout",
     "output_type": "stream",
     "text": [
      "MAE: -0.015 (0.013)\n"
     ]
    }
   ],
   "source": [
    "org.train_predictors()"
   ]
  },
  {
   "cell_type": "code",
   "execution_count": 7,
   "id": "43cd4fa7",
   "metadata": {},
   "outputs": [
    {
     "name": "stderr",
     "output_type": "stream",
     "text": [
      "INFO:predictor.built_year:BuiltYear: model_params: {'n_estimators': 300, 'max_depth': -1, 'num_leaves': 100}\n"
     ]
    },
    {
     "name": "stdout",
     "output_type": "stream",
     "text": [
      "[slice(0, 0, None), slice('Semi-Detached', 'Semi-Detached', None), slice('ON', 'ON', None), slice('Toronto', 'Toronto', None), slice('Toronto', 'Toronto', None), slice(None, None, None)]\n",
      "                                                             lat_n      lng_n  zip_c  gatpGrOther_b  gatpGrLane_b  gatpGrPlaza_b  gatpGrPublic_b  gatpGrSingleDetached_b  gatpGrBuiltIn_b  gatpGrBoulevard_b  ...  gatpGrUnderground_b  gatpGrAttached_b  gatpGrReserved_b  gatpGrDetached_b  gatpGrStreet_b   st_c  status_b  st_num_n  bthrms_n  bltYr_n\n",
      "saletp_b ptype2_l      prov area    city    _id                                                                                                                                                               ...                                                                                                                                         \n",
      "0.0      Semi-Detached ON   Toronto Toronto TRBC5451937  43.664543 -79.415960  60740              0             0              0               0                       0                0                  0  ...                    0                 1                 0                 0               0  15427         0     667.0       8.0   2016.0\n",
      "                                            TRBC5457305  43.698267 -79.387284  56482              0             0              0               0                       0                0                  0  ...                    0                 1                 0                 0               0  16353         1     308.0       3.0   2013.0\n",
      "                                            TRBW5384419  43.646982 -79.530356  64612              0             0              0               0                       0                0                  0  ...                    0                 0                 0                 0               0   4044         0       2.0       2.0   1946.0\n",
      "                                            TRBC5413745  43.698267 -79.387284  56482              0             0              0               0                       0                0                  0  ...                    0                 1                 0                 0               0  16353         0     308.0       3.0   2013.0\n",
      "                                            TRBE5399396  43.831280 -79.235975  49617              0             0              0               0                       0                0                  0  ...                    0                 1                 0                 0               0  19016         0      16.0       4.0   2001.0\n",
      "...                                                            ...        ...    ...            ...           ...            ...             ...                     ...              ...                ...  ...                  ...               ...               ...               ...             ...    ...       ...       ...       ...      ...\n",
      "                                            TRBW5477822  43.646982 -79.530356  64612              0             0              0               0                       0                0                  0  ...                    0                 0                 0                 0               0   4044         0       2.0       2.0   1946.0\n",
      "                                            TRBC5457269  43.698366 -79.387547  56482              0             0              0               0                       0                0                  0  ...                    0                 1                 0                 0               0  16353         0     302.0       3.0   2016.0\n",
      "                                            TRBC5330288  43.657692 -79.362818  57417              0             0              0               0                       0                0                  0  ...                    0                 0                 0                 1               0  18549         0       9.0       5.0   2018.0\n",
      "                                            TRBC5375882  43.664984 -79.374948  57318              0             0              0               0                       0                0                  0  ...                    0                 0                 0                 0               0  12005         0      59.0       3.0   1943.0\n",
      "                                            TRBW5365652  43.660189 -79.585443  65352              0             0              0               0                       0                1                  0  ...                    0                 0                 0                 0               0  16547         0      22.0       2.0   1982.0\n",
      "\n",
      "[56 rows x 29 columns]\n"
     ]
    },
    {
     "name": "stderr",
     "output_type": "stream",
     "text": [
      "INFO:BuiltYear:BuiltYear took 1.8350 seconds 30.0/sec\n"
     ]
    },
    {
     "name": "stdout",
     "output_type": "stream",
     "text": [
      "MAE: -10.295 (5.310)\n"
     ]
    },
    {
     "data": {
      "text/plain": [
       "86"
      ]
     },
     "execution_count": 7,
     "metadata": {},
     "output_type": "execute_result"
    }
   ],
   "source": [
    "from prop.estimate_scale import EstimateScale, PropertyType\n",
    "from predictor.built_year import BuiltYear\n",
    "import datetime\n",
    "org.sale_scale = EstimateScale(\n",
    "            datePoint=datetime.datetime(2022, 2, 1, 0, 0),\n",
    "            propType=PropertyType.SEMI_DETACHED,\n",
    "            prov='ON',\n",
    "            area='Toronto',\n",
    "            city='Toronto',\n",
    "            sale=True,\n",
    ")\n",
    "org.predictors.append(BuiltYear(\n",
    "            data_source=org.data_source,\n",
    "            model_store=org.model_store,\n",
    "            scale=org.sale_scale,\n",
    "        ))\n",
    "pred = org.predictors[1]\n",
    "pred.load_data(date_span=180)\n",
    "pred.train()"
   ]
  },
  {
   "cell_type": "code",
   "execution_count": null,
   "id": "db83e137",
   "metadata": {},
   "outputs": [],
   "source": [
    "df = org.data_source.transformed_data\n",
    "df"
   ]
  },
  {
   "cell_type": "code",
   "execution_count": 4,
   "id": "012d070a",
   "metadata": {},
   "outputs": [
    {
     "data": {
      "text/html": [
       "<div>\n",
       "<style scoped>\n",
       "    .dataframe tbody tr th:only-of-type {\n",
       "        vertical-align: middle;\n",
       "    }\n",
       "\n",
       "    .dataframe tbody tr th {\n",
       "        vertical-align: top;\n",
       "    }\n",
       "\n",
       "    .dataframe thead th {\n",
       "        text-align: right;\n",
       "    }\n",
       "</style>\n",
       "<table border=\"1\" class=\"dataframe\">\n",
       "  <thead>\n",
       "    <tr style=\"text-align: right;\">\n",
       "      <th></th>\n",
       "      <th>_id</th>\n",
       "      <th>ac</th>\n",
       "      <th>addr</th>\n",
       "      <th>area</th>\n",
       "      <th>bdrms</th>\n",
       "      <th>br_plus</th>\n",
       "      <th>bsmt</th>\n",
       "      <th>bthrms</th>\n",
       "      <th>bths</th>\n",
       "      <th>city</th>\n",
       "      <th>...</th>\n",
       "      <th>tbdrms_n</th>\n",
       "      <th>bdrms_n</th>\n",
       "      <th>br_plus_n</th>\n",
       "      <th>bthrms_n</th>\n",
       "      <th>kch_n</th>\n",
       "      <th>tgr_n</th>\n",
       "      <th>gr_n</th>\n",
       "      <th>lp_n</th>\n",
       "      <th>lpr_n</th>\n",
       "      <th>sp_n</th>\n",
       "    </tr>\n",
       "  </thead>\n",
       "  <tbody>\n",
       "    <tr>\n",
       "      <th>273172</th>\n",
       "      <td>TRBE5467506</td>\n",
       "      <td>Central Air</td>\n",
       "      <td>2 Lambeth Sq</td>\n",
       "      <td>Toronto</td>\n",
       "      <td>1.0</td>\n",
       "      <td>0.0</td>\n",
       "      <td>[Apt, Fin]</td>\n",
       "      <td>1.0</td>\n",
       "      <td>[{'t': 1, 'p': 3}]</td>\n",
       "      <td>Toronto</td>\n",
       "      <td>...</td>\n",
       "      <td>1.0</td>\n",
       "      <td>1.0</td>\n",
       "      <td>0.0</td>\n",
       "      <td>1.0</td>\n",
       "      <td>1.0</td>\n",
       "      <td>1.0</td>\n",
       "      <td>0.0</td>\n",
       "      <td>0.0</td>\n",
       "      <td>1380.0</td>\n",
       "      <td>1380.0</td>\n",
       "    </tr>\n",
       "  </tbody>\n",
       "</table>\n",
       "<p>1 rows × 287 columns</p>\n",
       "</div>"
      ],
      "text/plain": [
       "                _id           ac          addr     area  bdrms  br_plus        bsmt  bthrms                bths     city  ... tbdrms_n bdrms_n br_plus_n bthrms_n kch_n tgr_n  gr_n lp_n   lpr_n    sp_n\n",
       "273172  TRBE5467506  Central Air  2 Lambeth Sq  Toronto    1.0      0.0  [Apt, Fin]     1.0  [{'t': 1, 'p': 3}]  Toronto  ...      1.0     1.0       0.0      1.0   1.0   1.0   0.0  0.0  1380.0  1380.0\n",
       "\n",
       "[1 rows x 287 columns]"
      ]
     },
     "execution_count": 4,
     "metadata": {},
     "output_type": "execute_result"
    }
   ],
   "source": [
    "df = org.data_source.transformed_data\n",
    "df.loc[df['_id']=='TRBE5467506']"
   ]
  },
  {
   "cell_type": "code",
   "execution_count": null,
   "id": "e3d3bc19",
   "metadata": {},
   "outputs": [],
   "source": [
    "org."
   ]
  },
  {
   "cell_type": "code",
   "execution_count": null,
   "id": "b6a5ca23",
   "metadata": {},
   "outputs": [],
   "source": [
    "df = pd.DataFrame()"
   ]
  }
 ],
 "metadata": {
  "kernelspec": {
   "display_name": "Python 3 (ipykernel)",
   "language": "python",
   "name": "python3"
  },
  "language_info": {
   "codemirror_mode": {
    "name": "ipython",
    "version": 3
   },
   "file_extension": ".py",
   "mimetype": "text/x-python",
   "name": "python",
   "nbconvert_exporter": "python",
   "pygments_lexer": "ipython3",
   "version": "3.9.7"
  }
 },
 "nbformat": 4,
 "nbformat_minor": 5
}
